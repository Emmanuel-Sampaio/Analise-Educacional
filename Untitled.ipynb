{
 "cells": [
  {
   "cell_type": "markdown",
   "id": "3f8610e6-a799-46d2-8959-b7e916c1d9fc",
   "metadata": {},
   "source": []
  },
  {
   "cell_type": "code",
   "execution_count": 253,
   "id": "a4eeb9d9-7eae-4e3d-b048-55297979e63c",
   "metadata": {},
   "outputs": [],
   "source": [
    "import pandas as pd\n",
    "import numpy as np\n",
    "import matplotlib.pyplot as plt\n"
   ]
  },
  {
   "cell_type": "markdown",
   "id": "8cba2fab",
   "metadata": {},
   "source": [
    "# Levantamento e Imputação dos dados na planilha Análise CH por escola"
   ]
  },
  {
   "cell_type": "code",
   "execution_count": 254,
   "id": "0f3df795",
   "metadata": {},
   "outputs": [
    {
     "name": "stdout",
     "output_type": "stream",
     "text": [
      "        Escola        Mês  CH Regência  CH Sem Regência\n",
      "0   ESCOLA  AE      Abril  1192.400000           513.34\n",
      "1   ESCOLA  AE  Fevereiro   985.000000           313.32\n",
      "2   ESCOLA  AE      Março  1089.000000           390.00\n",
      "3     ESCOLA A      Abril  1641.370000           630.00\n",
      "4     ESCOLA A  Fevereiro  1408.730000           518.93\n",
      "..         ...        ...          ...              ...\n",
      "91    ESCOLA Y  Fevereiro  2087.700000          1061.16\n",
      "92    ESCOLA Y      Março  2315.300000          1191.67\n",
      "93    ESCOLA Z      Abril  2464.300113           420.00\n",
      "94    ESCOLA Z  Fevereiro  2286.000000           415.99\n",
      "95    ESCOLA Z      Março  2548.270000           352.00\n",
      "\n",
      "[96 rows x 4 columns]\n"
     ]
    }
   ],
   "source": [
    "\n",
    "\n",
    "df = pd.read_excel('Analise.xlsx', sheet_name='BD_Tom Folha')\n",
    "\n",
    "\n",
    "df = df[df['Mês'].isin(['Fevereiro', 'Março', 'Abril'])].copy()\n",
    "\n",
    "\n",
    "df['Categoria'] = df['Categoria'].astype(str).str.strip().str.upper()\n",
    "\n",
    "df['CH Regência'] = df['Horas Mes'].where(df['Categoria'] == 'REGENCIA', 0)\n",
    "df['CH Sem Regência'] = df['Horas Mes'].where(df['Categoria'] == 'NAO REGENCIA', 0)\n",
    "\n",
    "\n",
    "resultado = df.groupby(['Escola', 'Mês'])[['CH Regência', 'CH Sem Regência']].sum().reset_index()\n",
    "\n",
    "\n",
    "print(resultado)\n"
   ]
  },
  {
   "cell_type": "code",
   "execution_count": 255,
   "id": "0adf0cdc",
   "metadata": {},
   "outputs": [
    {
     "name": "stdout",
     "output_type": "stream",
     "text": [
      "Valores imputados com sucesso na planilha 'Análise CH por Escola'.\n"
     ]
    }
   ],
   "source": [
    "\n",
    "\n",
    "\n",
    "df_analise = pd.read_excel('Analise.xlsx', sheet_name='Análise CH por Escola')\n",
    "\n",
    "# 2. Padronizar colunas para evitar erros no merge\n",
    "df_analise['Escola'] = df_analise['Escola'].astype(str).str.strip().str.upper()\n",
    "df_analise['Mês'] = df_analise['Mês'].astype(str).str.strip().str.capitalize()\n",
    "\n",
    "resultado['Escola'] = resultado['Escola'].astype(str).str.strip().str.upper()\n",
    "resultado['Mês'] = resultado['Mês'].astype(str).str.strip().str.capitalize()\n",
    "\n",
    "df_final = pd.merge(\n",
    "    df_analise,\n",
    "    resultado[['Escola', 'Mês', 'CH Regência', 'CH Sem Regência']],\n",
    "    on=['Escola', 'Mês'],\n",
    "    how='left',\n",
    "    suffixes=('', '_novo')\n",
    ")\n",
    "\n",
    "\n",
    "df_final['CH Regência'] = df_final['CH Regência_novo'].combine_first(df_final['CH Regência'])\n",
    "df_final['CH Sem Regência'] = df_final['CH Sem Regência_novo'].combine_first(df_final['CH Sem Regência'])\n",
    "\n",
    "\n",
    "df_final.drop(columns=['CH Regência_novo', 'CH Sem Regência_novo'], inplace=True)\n",
    "\n",
    "with pd.ExcelWriter('Analise.xlsx', mode='a', if_sheet_exists='replace', engine='openpyxl') as writer:\n",
    "    df_final.to_excel(writer, sheet_name='Análise CH por Escola', index=False)\n",
    "\n",
    "print(\"Valores imputados com sucesso na planilha 'Análise CH por Escola'.\")\n"
   ]
  },
  {
   "cell_type": "code",
   "execution_count": 256,
   "id": "d3cfd469",
   "metadata": {},
   "outputs": [
    {
     "name": "stdout",
     "output_type": "stream",
     "text": [
      "Linhas com mês Janeiro removidas e planilha salva.\n"
     ]
    }
   ],
   "source": [
    "\n",
    "\n",
    "df = pd.read_excel('Analise.xlsx', sheet_name='Análise CH por Escola')\n",
    "\n",
    "\n",
    "df = df[df['Mês'].str.strip().str.capitalize() != 'Janeiro']\n",
    "\n",
    "\n",
    "with pd.ExcelWriter('Analise.xlsx', mode='a', if_sheet_exists='replace', engine='openpyxl') as writer:\n",
    "    df.to_excel(writer, sheet_name='Análise CH por Escola', index=False)\n",
    "\n",
    "print(\"Linhas com mês Janeiro removidas e planilha salva.\")\n"
   ]
  },
  {
   "cell_type": "code",
   "execution_count": 257,
   "id": "e1e6cb2e",
   "metadata": {},
   "outputs": [
    {
     "name": "stdout",
     "output_type": "stream",
     "text": [
      "Valores Regência e Sem Regência calculados e salvos com sucesso.\n"
     ]
    }
   ],
   "source": [
    "\n",
    "valores_por_escola = {\n",
    "    'ESCOLA Z': 23.09, 'ESCOLA N': 29.27, 'ESCOLA O': 29.27, 'ESCOLA E': 29.27,\n",
    "    'ESCOLA F': 27.21, 'ESCOLA G': 23.09, 'ESCOLA A': 29.27, 'ESCOLA B': 23.09,\n",
    "    'ESCOLA C': 29.27, 'ESCOLA D': 29.27, 'ESCOLA H': 27.21, 'ESCOLA M': 27.21,\n",
    "    'ESCOLA I': 31.39, 'ESCOLA J': 29.27, 'ESCOLA K': 23.09, 'ESCOLA L': 27.21,\n",
    "    'ESCOLA Y': 27.21, 'ESCOLA P': 23.09, 'ESCOLA Q': 23.09, 'ESCOLA R': 29.27,\n",
    "    'ESCOLA S': 31.39, 'ESCOLA U': 23.09, 'ESCOLA W': 23.09, 'ESCOLA AC': 29.27,\n",
    "    'ESCOLA AD': 23.09, 'ESCOLA AB': 27.21, 'ESCOLA AI': 23.09, 'ESCOLA AE': 31.39,\n",
    "    'ESCOLA AF': 27.21, 'ESCOLA AH': 23.09, 'ESCOLA AG': 27.21, 'ESCOLA AA': 27.21\n",
    "}\n",
    "df_final['Valor Unitário Carga Horária'] = df_final['Escola'].map(valores_por_escola)\n",
    "\n",
    "# Calcula os valores com base no valor unitário e na CH\n",
    "df_final['Valor Regência'] = df_final['CH Regência'] * df_final['Valor Unitário Carga Horária']\n",
    "df_final['Valor Sem Regência'] = df_final['CH Sem Regência'] * df_final['Valor Unitário Carga Horária']\n",
    "\n",
    "# Soma dos dois para o total mensal\n",
    "df_final['Valor CH Mensal'] = df_final['Valor Regência'] + df_final['Valor Sem Regência']\n",
    "\n",
    "\n",
    "df_final['Valor CH Mensal'] = df_final['Valor Regência'] + df_final['Valor Sem Regência']\n",
    "x =  df_final['Valor Regência'] + df_final['Valor Sem Regência']\n",
    "total_ch = df_final['CH Regência'] + df_final['CH Sem Regência']\n",
    "\n",
    "\n",
    "total_ch = total_ch.replace(0, pd.NA)\n",
    "\n",
    "\n",
    "df_final['Valor Unitário Carga Horária'] = x / total_ch\n",
    "\n",
    "\n",
    "\n",
    "with pd.ExcelWriter('Analise.xlsx', mode='a', if_sheet_exists='replace', engine='openpyxl') as writer:\n",
    "    df_final.to_excel(writer, sheet_name='Análise CH por Escola', index=False)\n",
    "\n",
    "print(\"Valores Regência e Sem Regência calculados e salvos com sucesso.\")"
   ]
  },
  {
   "cell_type": "code",
   "execution_count": 258,
   "id": "a8faa635",
   "metadata": {},
   "outputs": [
    {
     "name": "stdout",
     "output_type": "stream",
     "text": [
      "      Escola        Mês  Valor Unitário Carga Horária  CH Regência  \\\n",
      "0   ESCOLA A  Fevereiro                         29.27      1408.73   \n",
      "1   ESCOLA B  Fevereiro                         23.09      1987.95   \n",
      "2   ESCOLA C  Fevereiro                         29.27      1635.53   \n",
      "3   ESCOLA D  Fevereiro                         29.27      1357.50   \n",
      "4   ESCOLA E  Fevereiro                         29.27      2043.00   \n",
      "5   ESCOLA F  Fevereiro                         27.21      1838.25   \n",
      "6   ESCOLA G  Fevereiro                         23.09      4388.30   \n",
      "7   ESCOLA H  Fevereiro                         27.21      2683.83   \n",
      "8   ESCOLA I  Fevereiro                         31.39      1514.62   \n",
      "9   ESCOLA J  Fevereiro                         29.27      1748.70   \n",
      "10  ESCOLA K  Fevereiro                         23.09      1492.88   \n",
      "11  ESCOLA L  Fevereiro                         27.21      1395.00   \n",
      "12  ESCOLA M  Fevereiro                         27.21      1561.20   \n",
      "13  ESCOLA N  Fevereiro                         29.27      2279.67   \n",
      "14  ESCOLA O  Fevereiro                         29.27      1947.15   \n",
      "15  ESCOLA P  Fevereiro                         23.09      2554.90   \n",
      "16  ESCOLA Q  Fevereiro                         23.09      1786.40   \n",
      "17  ESCOLA R  Fevereiro                         29.27      1506.90   \n",
      "18  ESCOLA S  Fevereiro                         31.39      2124.00   \n",
      "19  ESCOLA U  Fevereiro                         23.09      2515.50   \n",
      "\n",
      "    CH Sem Regência  Valor Regência  Valor Sem Regência  Valor CH Mensal  \n",
      "0            518.93      41233.5271          15189.0811       56422.6082  \n",
      "1            335.99      45901.7655           7758.0091       53659.7746  \n",
      "2            413.32      47871.9631          12097.8764       59969.8395  \n",
      "3            728.33      39734.0250          21318.2191       61052.2441  \n",
      "4            635.82      59798.6100          18610.4514       78409.0614  \n",
      "5           1260.66      50018.7825          34302.5586       84321.3411  \n",
      "6            400.00     101325.8470           9236.0000      110561.8470  \n",
      "7           1184.65      73027.0143          32234.3265      105261.3408  \n",
      "8            637.00      47543.9218          19995.4300       67539.3518  \n",
      "9            905.33      51184.4490          26499.0091       77683.4581  \n",
      "10           298.66      34470.5992           6896.0594       41366.6586  \n",
      "11           483.34      37957.9500          13151.6814       51109.6314  \n",
      "12           777.33      42480.2520          21151.1493       63631.4013  \n",
      "13           830.65      66725.9409          24313.1255       91039.0664  \n",
      "14           379.66      56993.0805          11112.6482       68105.7287  \n",
      "15           890.66      58992.6410          20565.3394       79557.9804  \n",
      "16           669.86      41247.9760          15467.0674       56715.0434  \n",
      "17           683.83      44106.9630          20015.7041       64122.6671  \n",
      "18           186.66      66672.3600           5859.2574       72531.6174  \n",
      "19          1510.66      58082.8950          34881.1394       92964.0344  \n"
     ]
    }
   ],
   "source": [
    "df_verifica = pd.read_excel('Analise.xlsx', sheet_name='Análise CH por Escola')\n",
    "\n",
    "df_verifica_filt = df_verifica[df_verifica['Mês'].str.strip().str.capitalize().isin(['Fevereiro', 'Março', 'Abril'])]\n",
    "\n",
    "print(df_verifica_filt[['Escola', 'Mês','Valor Unitário Carga Horária' ,'CH Regência', 'CH Sem Regência','Valor Regência','Valor Sem Regência', 'Valor CH Mensal']].head(20))\n"
   ]
  },
  {
   "cell_type": "code",
   "execution_count": 259,
   "id": "06300aa6",
   "metadata": {},
   "outputs": [
    {
     "data": {
      "text/html": [
       "<div>\n",
       "<style scoped>\n",
       "    .dataframe tbody tr th:only-of-type {\n",
       "        vertical-align: middle;\n",
       "    }\n",
       "\n",
       "    .dataframe tbody tr th {\n",
       "        vertical-align: top;\n",
       "    }\n",
       "\n",
       "    .dataframe thead th {\n",
       "        text-align: right;\n",
       "    }\n",
       "</style>\n",
       "<table border=\"1\" class=\"dataframe\">\n",
       "  <thead>\n",
       "    <tr style=\"text-align: right;\">\n",
       "      <th></th>\n",
       "      <th>Mês</th>\n",
       "      <th>Escola</th>\n",
       "      <th>CÓDIGO ESCOLA</th>\n",
       "      <th>Valor Unitário Carga Horária</th>\n",
       "      <th>CH Regência</th>\n",
       "      <th>CH Sem Regência</th>\n",
       "      <th>Valor Regência</th>\n",
       "      <th>Valor Sem Regência</th>\n",
       "      <th>Valor CH Mensal</th>\n",
       "    </tr>\n",
       "  </thead>\n",
       "  <tbody>\n",
       "    <tr>\n",
       "      <th>0</th>\n",
       "      <td>Fevereiro</td>\n",
       "      <td>ESCOLA A</td>\n",
       "      <td>ABC1</td>\n",
       "      <td>29.27</td>\n",
       "      <td>1408.73</td>\n",
       "      <td>518.93</td>\n",
       "      <td>41233.5271</td>\n",
       "      <td>15189.0811</td>\n",
       "      <td>56422.6082</td>\n",
       "    </tr>\n",
       "    <tr>\n",
       "      <th>1</th>\n",
       "      <td>Fevereiro</td>\n",
       "      <td>ESCOLA B</td>\n",
       "      <td>ABC2</td>\n",
       "      <td>23.09</td>\n",
       "      <td>1987.95</td>\n",
       "      <td>335.99</td>\n",
       "      <td>45901.7655</td>\n",
       "      <td>7758.0091</td>\n",
       "      <td>53659.7746</td>\n",
       "    </tr>\n",
       "    <tr>\n",
       "      <th>2</th>\n",
       "      <td>Fevereiro</td>\n",
       "      <td>ESCOLA C</td>\n",
       "      <td>ABC3</td>\n",
       "      <td>29.27</td>\n",
       "      <td>1635.53</td>\n",
       "      <td>413.32</td>\n",
       "      <td>47871.9631</td>\n",
       "      <td>12097.8764</td>\n",
       "      <td>59969.8395</td>\n",
       "    </tr>\n",
       "    <tr>\n",
       "      <th>3</th>\n",
       "      <td>Fevereiro</td>\n",
       "      <td>ESCOLA D</td>\n",
       "      <td>ABC4</td>\n",
       "      <td>29.27</td>\n",
       "      <td>1357.50</td>\n",
       "      <td>728.33</td>\n",
       "      <td>39734.0250</td>\n",
       "      <td>21318.2191</td>\n",
       "      <td>61052.2441</td>\n",
       "    </tr>\n",
       "    <tr>\n",
       "      <th>4</th>\n",
       "      <td>Fevereiro</td>\n",
       "      <td>ESCOLA E</td>\n",
       "      <td>ABC5</td>\n",
       "      <td>29.27</td>\n",
       "      <td>2043.00</td>\n",
       "      <td>635.82</td>\n",
       "      <td>59798.6100</td>\n",
       "      <td>18610.4514</td>\n",
       "      <td>78409.0614</td>\n",
       "    </tr>\n",
       "    <tr>\n",
       "      <th>5</th>\n",
       "      <td>Fevereiro</td>\n",
       "      <td>ESCOLA F</td>\n",
       "      <td>ABC6</td>\n",
       "      <td>27.21</td>\n",
       "      <td>1838.25</td>\n",
       "      <td>1260.66</td>\n",
       "      <td>50018.7825</td>\n",
       "      <td>34302.5586</td>\n",
       "      <td>84321.3411</td>\n",
       "    </tr>\n",
       "    <tr>\n",
       "      <th>6</th>\n",
       "      <td>Fevereiro</td>\n",
       "      <td>ESCOLA G</td>\n",
       "      <td>ABC7</td>\n",
       "      <td>23.09</td>\n",
       "      <td>4388.30</td>\n",
       "      <td>400.00</td>\n",
       "      <td>101325.8470</td>\n",
       "      <td>9236.0000</td>\n",
       "      <td>110561.8470</td>\n",
       "    </tr>\n",
       "    <tr>\n",
       "      <th>7</th>\n",
       "      <td>Fevereiro</td>\n",
       "      <td>ESCOLA H</td>\n",
       "      <td>ABC8</td>\n",
       "      <td>27.21</td>\n",
       "      <td>2683.83</td>\n",
       "      <td>1184.65</td>\n",
       "      <td>73027.0143</td>\n",
       "      <td>32234.3265</td>\n",
       "      <td>105261.3408</td>\n",
       "    </tr>\n",
       "    <tr>\n",
       "      <th>8</th>\n",
       "      <td>Fevereiro</td>\n",
       "      <td>ESCOLA I</td>\n",
       "      <td>ABC9</td>\n",
       "      <td>31.39</td>\n",
       "      <td>1514.62</td>\n",
       "      <td>637.00</td>\n",
       "      <td>47543.9218</td>\n",
       "      <td>19995.4300</td>\n",
       "      <td>67539.3518</td>\n",
       "    </tr>\n",
       "    <tr>\n",
       "      <th>9</th>\n",
       "      <td>Fevereiro</td>\n",
       "      <td>ESCOLA J</td>\n",
       "      <td>ABC10</td>\n",
       "      <td>29.27</td>\n",
       "      <td>1748.70</td>\n",
       "      <td>905.33</td>\n",
       "      <td>51184.4490</td>\n",
       "      <td>26499.0091</td>\n",
       "      <td>77683.4581</td>\n",
       "    </tr>\n",
       "  </tbody>\n",
       "</table>\n",
       "</div>"
      ],
      "text/plain": [
       "         Mês    Escola CÓDIGO ESCOLA  Valor Unitário Carga Horária  \\\n",
       "0  Fevereiro  ESCOLA A          ABC1                         29.27   \n",
       "1  Fevereiro  ESCOLA B          ABC2                         23.09   \n",
       "2  Fevereiro  ESCOLA C          ABC3                         29.27   \n",
       "3  Fevereiro  ESCOLA D          ABC4                         29.27   \n",
       "4  Fevereiro  ESCOLA E          ABC5                         29.27   \n",
       "5  Fevereiro  ESCOLA F          ABC6                         27.21   \n",
       "6  Fevereiro  ESCOLA G          ABC7                         23.09   \n",
       "7  Fevereiro  ESCOLA H          ABC8                         27.21   \n",
       "8  Fevereiro  ESCOLA I          ABC9                         31.39   \n",
       "9  Fevereiro  ESCOLA J         ABC10                         29.27   \n",
       "\n",
       "   CH Regência  CH Sem Regência  Valor Regência  Valor Sem Regência  \\\n",
       "0      1408.73           518.93      41233.5271          15189.0811   \n",
       "1      1987.95           335.99      45901.7655           7758.0091   \n",
       "2      1635.53           413.32      47871.9631          12097.8764   \n",
       "3      1357.50           728.33      39734.0250          21318.2191   \n",
       "4      2043.00           635.82      59798.6100          18610.4514   \n",
       "5      1838.25          1260.66      50018.7825          34302.5586   \n",
       "6      4388.30           400.00     101325.8470           9236.0000   \n",
       "7      2683.83          1184.65      73027.0143          32234.3265   \n",
       "8      1514.62           637.00      47543.9218          19995.4300   \n",
       "9      1748.70           905.33      51184.4490          26499.0091   \n",
       "\n",
       "   Valor CH Mensal  \n",
       "0       56422.6082  \n",
       "1       53659.7746  \n",
       "2       59969.8395  \n",
       "3       61052.2441  \n",
       "4       78409.0614  \n",
       "5       84321.3411  \n",
       "6      110561.8470  \n",
       "7      105261.3408  \n",
       "8       67539.3518  \n",
       "9       77683.4581  "
      ]
     },
     "execution_count": 259,
     "metadata": {},
     "output_type": "execute_result"
    }
   ],
   "source": [
    "\n",
    "\n",
    "df_governo = pd.read_excel('Analise.xlsx', sheet_name='Análise CH por Escola')\n",
    "df_governo.head(10)"
   ]
  },
  {
   "cell_type": "markdown",
   "id": "8f9bbb4e",
   "metadata": {},
   "source": [
    "# Comparação dos dados da folha de pagamento com os dados do governo "
   ]
  },
  {
   "cell_type": "code",
   "execution_count": 260,
   "id": "0046d3f9",
   "metadata": {},
   "outputs": [
    {
     "data": {
      "text/html": [
       "<div>\n",
       "<style scoped>\n",
       "    .dataframe tbody tr th:only-of-type {\n",
       "        vertical-align: middle;\n",
       "    }\n",
       "\n",
       "    .dataframe tbody tr th {\n",
       "        vertical-align: top;\n",
       "    }\n",
       "\n",
       "    .dataframe thead th {\n",
       "        text-align: right;\n",
       "    }\n",
       "</style>\n",
       "<table border=\"1\" class=\"dataframe\">\n",
       "  <thead>\n",
       "    <tr style=\"text-align: right;\">\n",
       "      <th></th>\n",
       "      <th>Mês</th>\n",
       "      <th>Escola</th>\n",
       "      <th>CodEscola</th>\n",
       "      <th>Nome Funcionario</th>\n",
       "      <th>CodFuncionario</th>\n",
       "      <th>Tipo</th>\n",
       "      <th>DisciplinaFuncao</th>\n",
       "      <th>DisciplinaFuncaoDescricao</th>\n",
       "      <th>PeriodoIni</th>\n",
       "      <th>PeriodoFim</th>\n",
       "      <th>DiasTrabalhados</th>\n",
       "      <th>CHSuprimento</th>\n",
       "      <th>CHDiaria</th>\n",
       "      <th>CHPeriodo</th>\n",
       "    </tr>\n",
       "  </thead>\n",
       "  <tbody>\n",
       "    <tr>\n",
       "      <th>0</th>\n",
       "      <td>Fevereiro</td>\n",
       "      <td>ESCOLA Z</td>\n",
       "      <td>ABC23</td>\n",
       "      <td>Bruna Diniz</td>\n",
       "      <td>680</td>\n",
       "      <td>REGENCIA</td>\n",
       "      <td>6279</td>\n",
       "      <td>LITER ART E MOVIMENTO I</td>\n",
       "      <td>2025-02-03</td>\n",
       "      <td>2025-02-28</td>\n",
       "      <td>26</td>\n",
       "      <td>8</td>\n",
       "      <td>1.142857</td>\n",
       "      <td>29.714282</td>\n",
       "    </tr>\n",
       "    <tr>\n",
       "      <th>1</th>\n",
       "      <td>Fevereiro</td>\n",
       "      <td>ESCOLA Z</td>\n",
       "      <td>ABC23</td>\n",
       "      <td>Bruna Diniz</td>\n",
       "      <td>680</td>\n",
       "      <td>REGENCIA</td>\n",
       "      <td>6363</td>\n",
       "      <td>ELETIVA I</td>\n",
       "      <td>2025-02-03</td>\n",
       "      <td>2025-02-28</td>\n",
       "      <td>26</td>\n",
       "      <td>4</td>\n",
       "      <td>0.571428</td>\n",
       "      <td>14.857128</td>\n",
       "    </tr>\n",
       "    <tr>\n",
       "      <th>2</th>\n",
       "      <td>Fevereiro</td>\n",
       "      <td>ESCOLA Z</td>\n",
       "      <td>ABC23</td>\n",
       "      <td>Yolanda Sales</td>\n",
       "      <td>681</td>\n",
       "      <td>REGENCIA</td>\n",
       "      <td>704</td>\n",
       "      <td>ARTE</td>\n",
       "      <td>2025-02-03</td>\n",
       "      <td>2025-02-28</td>\n",
       "      <td>26</td>\n",
       "      <td>8</td>\n",
       "      <td>1.142857</td>\n",
       "      <td>29.714282</td>\n",
       "    </tr>\n",
       "    <tr>\n",
       "      <th>3</th>\n",
       "      <td>Fevereiro</td>\n",
       "      <td>ESCOLA Z</td>\n",
       "      <td>ABC23</td>\n",
       "      <td>Yolanda Sales</td>\n",
       "      <td>681</td>\n",
       "      <td>REGENCIA</td>\n",
       "      <td>732</td>\n",
       "      <td>ARTE II</td>\n",
       "      <td>2025-02-03</td>\n",
       "      <td>2025-02-28</td>\n",
       "      <td>26</td>\n",
       "      <td>2</td>\n",
       "      <td>0.285714</td>\n",
       "      <td>7.428564</td>\n",
       "    </tr>\n",
       "    <tr>\n",
       "      <th>4</th>\n",
       "      <td>Fevereiro</td>\n",
       "      <td>ESCOLA Z</td>\n",
       "      <td>ABC23</td>\n",
       "      <td>Yolanda Sales</td>\n",
       "      <td>681</td>\n",
       "      <td>REGENCIA</td>\n",
       "      <td>5641</td>\n",
       "      <td>PROJETO DE VIDA I</td>\n",
       "      <td>2025-02-03</td>\n",
       "      <td>2025-02-28</td>\n",
       "      <td>26</td>\n",
       "      <td>25</td>\n",
       "      <td>3.571428</td>\n",
       "      <td>92.857128</td>\n",
       "    </tr>\n",
       "    <tr>\n",
       "      <th>5</th>\n",
       "      <td>Fevereiro</td>\n",
       "      <td>ESCOLA Z</td>\n",
       "      <td>ABC23</td>\n",
       "      <td>Tainara Klein</td>\n",
       "      <td>682</td>\n",
       "      <td>REGENCIA</td>\n",
       "      <td>106</td>\n",
       "      <td>LINGUA PORTUGUESA</td>\n",
       "      <td>2025-02-03</td>\n",
       "      <td>2025-02-28</td>\n",
       "      <td>26</td>\n",
       "      <td>4</td>\n",
       "      <td>0.571428</td>\n",
       "      <td>14.857128</td>\n",
       "    </tr>\n",
       "    <tr>\n",
       "      <th>6</th>\n",
       "      <td>Fevereiro</td>\n",
       "      <td>ESCOLA Z</td>\n",
       "      <td>ABC23</td>\n",
       "      <td>Tainara Klein</td>\n",
       "      <td>682</td>\n",
       "      <td>REGENCIA</td>\n",
       "      <td>6366</td>\n",
       "      <td>REDACAO E LEITURA I</td>\n",
       "      <td>2025-02-03</td>\n",
       "      <td>2025-02-28</td>\n",
       "      <td>26</td>\n",
       "      <td>10</td>\n",
       "      <td>1.428571</td>\n",
       "      <td>37.142846</td>\n",
       "    </tr>\n",
       "    <tr>\n",
       "      <th>7</th>\n",
       "      <td>Fevereiro</td>\n",
       "      <td>ESCOLA Z</td>\n",
       "      <td>ABC23</td>\n",
       "      <td>Wanessa Porto</td>\n",
       "      <td>683</td>\n",
       "      <td>NAO REGENCIA</td>\n",
       "      <td>9087</td>\n",
       "      <td>COORD DE AREA</td>\n",
       "      <td>2025-02-04</td>\n",
       "      <td>2025-02-28</td>\n",
       "      <td>25</td>\n",
       "      <td>8</td>\n",
       "      <td>1.142857</td>\n",
       "      <td>28.571425</td>\n",
       "    </tr>\n",
       "    <tr>\n",
       "      <th>8</th>\n",
       "      <td>Fevereiro</td>\n",
       "      <td>ESCOLA Z</td>\n",
       "      <td>ABC23</td>\n",
       "      <td>Wanessa Porto</td>\n",
       "      <td>683</td>\n",
       "      <td>REGENCIA</td>\n",
       "      <td>2201</td>\n",
       "      <td>FILOSOFIA</td>\n",
       "      <td>2025-02-03</td>\n",
       "      <td>2025-02-28</td>\n",
       "      <td>26</td>\n",
       "      <td>2</td>\n",
       "      <td>0.285714</td>\n",
       "      <td>7.428564</td>\n",
       "    </tr>\n",
       "    <tr>\n",
       "      <th>9</th>\n",
       "      <td>Fevereiro</td>\n",
       "      <td>ESCOLA Z</td>\n",
       "      <td>ABC23</td>\n",
       "      <td>Wanessa Porto</td>\n",
       "      <td>683</td>\n",
       "      <td>REGENCIA</td>\n",
       "      <td>6362</td>\n",
       "      <td>ESTUDO ORIENTADO I</td>\n",
       "      <td>2025-02-03</td>\n",
       "      <td>2025-02-28</td>\n",
       "      <td>26</td>\n",
       "      <td>19</td>\n",
       "      <td>2.714285</td>\n",
       "      <td>70.571410</td>\n",
       "    </tr>\n",
       "  </tbody>\n",
       "</table>\n",
       "</div>"
      ],
      "text/plain": [
       "         Mês    Escola CodEscola Nome Funcionario  CodFuncionario  \\\n",
       "0  Fevereiro  ESCOLA Z     ABC23      Bruna Diniz             680   \n",
       "1  Fevereiro  ESCOLA Z     ABC23      Bruna Diniz             680   \n",
       "2  Fevereiro  ESCOLA Z     ABC23    Yolanda Sales             681   \n",
       "3  Fevereiro  ESCOLA Z     ABC23    Yolanda Sales             681   \n",
       "4  Fevereiro  ESCOLA Z     ABC23    Yolanda Sales             681   \n",
       "5  Fevereiro  ESCOLA Z     ABC23    Tainara Klein             682   \n",
       "6  Fevereiro  ESCOLA Z     ABC23    Tainara Klein             682   \n",
       "7  Fevereiro  ESCOLA Z     ABC23    Wanessa Porto             683   \n",
       "8  Fevereiro  ESCOLA Z     ABC23    Wanessa Porto             683   \n",
       "9  Fevereiro  ESCOLA Z     ABC23    Wanessa Porto             683   \n",
       "\n",
       "           Tipo  DisciplinaFuncao DisciplinaFuncaoDescricao PeriodoIni  \\\n",
       "0      REGENCIA              6279   LITER ART E MOVIMENTO I 2025-02-03   \n",
       "1      REGENCIA              6363                 ELETIVA I 2025-02-03   \n",
       "2      REGENCIA               704                      ARTE 2025-02-03   \n",
       "3      REGENCIA               732                   ARTE II 2025-02-03   \n",
       "4      REGENCIA              5641         PROJETO DE VIDA I 2025-02-03   \n",
       "5      REGENCIA               106         LINGUA PORTUGUESA 2025-02-03   \n",
       "6      REGENCIA              6366       REDACAO E LEITURA I 2025-02-03   \n",
       "7  NAO REGENCIA              9087             COORD DE AREA 2025-02-04   \n",
       "8      REGENCIA              2201                 FILOSOFIA 2025-02-03   \n",
       "9      REGENCIA              6362        ESTUDO ORIENTADO I 2025-02-03   \n",
       "\n",
       "  PeriodoFim  DiasTrabalhados  CHSuprimento  CHDiaria  CHPeriodo  \n",
       "0 2025-02-28               26             8  1.142857  29.714282  \n",
       "1 2025-02-28               26             4  0.571428  14.857128  \n",
       "2 2025-02-28               26             8  1.142857  29.714282  \n",
       "3 2025-02-28               26             2  0.285714   7.428564  \n",
       "4 2025-02-28               26            25  3.571428  92.857128  \n",
       "5 2025-02-28               26             4  0.571428  14.857128  \n",
       "6 2025-02-28               26            10  1.428571  37.142846  \n",
       "7 2025-02-28               25             8  1.142857  28.571425  \n",
       "8 2025-02-28               26             2  0.285714   7.428564  \n",
       "9 2025-02-28               26            19  2.714285  70.571410  "
      ]
     },
     "execution_count": 260,
     "metadata": {},
     "output_type": "execute_result"
    }
   ],
   "source": [
    "df_governo = pd.read_excel('Analise.xlsx',sheet_name='BD_SistemaGov')\n",
    "\n",
    "df_governo.head(10)"
   ]
  },
  {
   "cell_type": "code",
   "execution_count": 261,
   "id": "89903a22",
   "metadata": {},
   "outputs": [
    {
     "name": "stderr",
     "output_type": "stream",
     "text": [
      "C:\\Users\\emman\\AppData\\Local\\Temp\\ipykernel_17892\\1968823025.py:41: FutureWarning:\n",
      "\n",
      "\n",
      "\n",
      "Passing `palette` without assigning `hue` is deprecated and will be removed in v0.14.0. Assign the `x` variable to `hue` and set `legend=False` for the same effect.\n",
      "\n",
      "\n",
      "C:\\Users\\emman\\AppData\\Local\\Temp\\ipykernel_17892\\1968823025.py:41: FutureWarning:\n",
      "\n",
      "\n",
      "\n",
      "Passing `palette` without assigning `hue` is deprecated and will be removed in v0.14.0. Assign the `x` variable to `hue` and set `legend=False` for the same effect.\n",
      "\n",
      "\n",
      "C:\\Users\\emman\\AppData\\Local\\Temp\\ipykernel_17892\\1968823025.py:41: FutureWarning:\n",
      "\n",
      "\n",
      "\n",
      "Passing `palette` without assigning `hue` is deprecated and will be removed in v0.14.0. Assign the `x` variable to `hue` and set `legend=False` for the same effect.\n",
      "\n",
      "\n",
      "C:\\Users\\emman\\AppData\\Local\\Temp\\ipykernel_17892\\1968823025.py:41: FutureWarning:\n",
      "\n",
      "\n",
      "\n",
      "Passing `palette` without assigning `hue` is deprecated and will be removed in v0.14.0. Assign the `x` variable to `hue` and set `legend=False` for the same effect.\n",
      "\n",
      "\n",
      "C:\\Users\\emman\\AppData\\Local\\Temp\\ipykernel_17892\\1968823025.py:41: FutureWarning:\n",
      "\n",
      "\n",
      "\n",
      "Passing `palette` without assigning `hue` is deprecated and will be removed in v0.14.0. Assign the `x` variable to `hue` and set `legend=False` for the same effect.\n",
      "\n",
      "\n",
      "C:\\Users\\emman\\AppData\\Local\\Temp\\ipykernel_17892\\1968823025.py:41: FutureWarning:\n",
      "\n",
      "\n",
      "\n",
      "Passing `palette` without assigning `hue` is deprecated and will be removed in v0.14.0. Assign the `x` variable to `hue` and set `legend=False` for the same effect.\n",
      "\n",
      "\n"
     ]
    },
    {
     "data": {
      "image/png": "[encoded data removed]",
      "text/plain": [
       "<Figure size 1400x1200 with 6 Axes>"
      ]
     },
     "metadata": {},
     "output_type": "display_data"
    }
   ],
   "source": [
    "import matplotlib.pyplot as plt\n",
    "import seaborn as sns\n",
    "import pandas as pd\n",
    "\n",
    "\n",
    "df_detalhado = pd.read_excel('Analise.xlsx', sheet_name='BD_SistemaGov')\n",
    "df_detalhado.columns = df_detalhado.columns.str.strip()\n",
    "df_detalhado['Escola'] = df_detalhado['Escola'].astype(str).str.strip().str.upper()\n",
    "df_detalhado['Mês'] = df_detalhado['Mês'].astype(str).str.strip().str.capitalize()\n",
    "df_detalhado['Tipo'] = df_detalhado['Tipo'].str.strip().str.upper()\n",
    "\n",
    "# Agrupamento\n",
    "df_agrupado = df_detalhado.groupby(['Mês', 'Escola', 'Tipo'], as_index=False)['CHPeriodo'].sum()\n",
    "\n",
    "# Pivotagem\n",
    "df_ch_escola = df_agrupado.pivot_table(\n",
    "    index=['Mês', 'Escola'],\n",
    "    columns='Tipo',\n",
    "    values='CHPeriodo',\n",
    "    fill_value=0\n",
    ").reset_index()\n",
    "\n",
    "# Renomeia colunas para o código funcionar\n",
    "df_ch_escola.columns.name = None\n",
    "df_ch_escola = df_ch_escola.rename(columns={\n",
    "    'REGENCIA': 'CH Regência',\n",
    "    'NAO REGENCIA': 'CH Sem Regência'\n",
    "})\n",
    "\n",
    "# Plotagem\n",
    "meses = ['Fevereiro', 'Março', 'Abril']\n",
    "tipos = ['CH Regência', 'CH Sem Regência']\n",
    "\n",
    "fig, axs = plt.subplots(nrows=3, ncols=2, figsize=(14, 12), constrained_layout=True)\n",
    "\n",
    "for i, mes in enumerate(meses):\n",
    "    for j, tipo in enumerate(tipos):\n",
    "        dados_mes = df_ch_escola[df_ch_escola['Mês'] == mes][['Escola', tipo]]\n",
    "        dados_mes = dados_mes.sort_values(tipo, ascending=False)\n",
    "\n",
    "        sns.barplot(\n",
    "            data=dados_mes,\n",
    "            x='Escola',\n",
    "            y=tipo,\n",
    "            palette='Blues_d' if tipo == 'CH Regência' else 'Oranges',\n",
    "            ax=axs[i, j]\n",
    "        )\n",
    "        axs[i, j].set_title(f'{tipo} - {mes}')\n",
    "        axs[i, j].set_xlabel('')\n",
    "        axs[i, j].set_ylabel('Carga Horária')\n",
    "        axs[i, j].tick_params(axis='x', rotation=90)\n",
    "\n",
    "plt.show()\n"
   ]
  },
  {
   "cell_type": "code",
   "execution_count": 262,
   "id": "9d65ed9c",
   "metadata": {},
   "outputs": [
    {
     "name": "stderr",
     "output_type": "stream",
     "text": [
      "C:\\Users\\emman\\AppData\\Local\\Temp\\ipykernel_17892\\3638790.py:23: FutureWarning:\n",
      "\n",
      "\n",
      "\n",
      "Passing `palette` without assigning `hue` is deprecated and will be removed in v0.14.0. Assign the `x` variable to `hue` and set `legend=False` for the same effect.\n",
      "\n",
      "\n",
      "C:\\Users\\emman\\AppData\\Local\\Temp\\ipykernel_17892\\3638790.py:23: FutureWarning:\n",
      "\n",
      "\n",
      "\n",
      "Passing `palette` without assigning `hue` is deprecated and will be removed in v0.14.0. Assign the `x` variable to `hue` and set `legend=False` for the same effect.\n",
      "\n",
      "\n",
      "C:\\Users\\emman\\AppData\\Local\\Temp\\ipykernel_17892\\3638790.py:23: FutureWarning:\n",
      "\n",
      "\n",
      "\n",
      "Passing `palette` without assigning `hue` is deprecated and will be removed in v0.14.0. Assign the `x` variable to `hue` and set `legend=False` for the same effect.\n",
      "\n",
      "\n",
      "C:\\Users\\emman\\AppData\\Local\\Temp\\ipykernel_17892\\3638790.py:23: FutureWarning:\n",
      "\n",
      "\n",
      "\n",
      "Passing `palette` without assigning `hue` is deprecated and will be removed in v0.14.0. Assign the `x` variable to `hue` and set `legend=False` for the same effect.\n",
      "\n",
      "\n",
      "C:\\Users\\emman\\AppData\\Local\\Temp\\ipykernel_17892\\3638790.py:23: FutureWarning:\n",
      "\n",
      "\n",
      "\n",
      "Passing `palette` without assigning `hue` is deprecated and will be removed in v0.14.0. Assign the `x` variable to `hue` and set `legend=False` for the same effect.\n",
      "\n",
      "\n",
      "C:\\Users\\emman\\AppData\\Local\\Temp\\ipykernel_17892\\3638790.py:23: FutureWarning:\n",
      "\n",
      "\n",
      "\n",
      "Passing `palette` without assigning `hue` is deprecated and will be removed in v0.14.0. Assign the `x` variable to `hue` and set `legend=False` for the same effect.\n",
      "\n",
      "\n"
     ]
    },
    {
     "data": {
      "image/png": "[encoded data removed]",
      "text/plain": [
       "<Figure size 1400x1200 with 6 Axes>"
      ]
     },
     "metadata": {},
     "output_type": "display_data"
    }
   ],
   "source": [
    "import matplotlib.pyplot as plt\n",
    "import seaborn as sns\n",
    "import pandas as pd\n",
    "\n",
    "df_ch_escola = pd.read_excel('Analise.xlsx', sheet_name='Análise CH por Escola')\n",
    "df_ch_escola.columns = df_ch_escola.columns.str.strip()\n",
    "df_ch_escola['Escola'] = df_ch_escola['Escola'].astype(str).str.strip().str.upper()\n",
    "df_ch_escola['Mês'] = df_ch_escola['Mês'].astype(str).str.strip().str.capitalize()\n",
    "\n",
    "meses = ['Fevereiro', 'Março', 'Abril']\n",
    "tipos = ['CH Regência', 'CH Sem Regência']\n",
    "\n",
    "fig, axs = plt.subplots(nrows=3, ncols=2, figsize=(14, 12), constrained_layout=True)\n",
    "\n",
    "for i, mes in enumerate(meses):\n",
    "    for j, tipo in enumerate(tipos):\n",
    "        # Filtra só o mês\n",
    "        dados_mes = df_ch_escola[df_ch_escola['Mês'] == mes][['Escola', tipo]]\n",
    "        \n",
    "        # Ordena as escolas pelo valor do tipo para esse mês\n",
    "        dados_mes = dados_mes.sort_values(tipo, ascending=False)\n",
    "        \n",
    "        sns.barplot(\n",
    "            data=dados_mes,\n",
    "            x='Escola',\n",
    "            y=tipo,\n",
    "            palette='Blues_d' if tipo == 'CH Regência' else 'Oranges',\n",
    "            ax=axs[i, j]\n",
    "        )\n",
    "        axs[i, j].set_title(f'{tipo} - {mes}')\n",
    "        axs[i, j].set_xlabel('')\n",
    "        axs[i, j].set_ylabel('Carga Horária')\n",
    "        axs[i, j].tick_params(axis='x', rotation=90)\n",
    "\n",
    "plt.show()"
   ]
  },
  {
   "cell_type": "code",
   "execution_count": 263,
   "id": "2b8b732f",
   "metadata": {},
   "outputs": [],
   "source": [
    "import pandas as pd\n",
    "\n",
    "# Leitura e tratamento dos dados da escola\n",
    "df_escola = pd.read_excel('Analise.xlsx', sheet_name='Análise CH por Escola')\n",
    "df_escola.columns = df_escola.columns.str.strip()\n",
    "df_escola['Escola'] = df_escola['Escola'].astype(str).str.strip().str.upper()\n",
    "df_escola['Mês'] = df_escola['Mês'].astype(str).str.strip().str.capitalize()\n",
    "df_escola = df_escola[['Mês', 'Escola', 'CH Regência', 'CH Sem Regência']]\n",
    "df_escola = df_escola.rename(columns={\n",
    "    'CH Regência': 'CH Regência Escola',\n",
    "    'CH Sem Regência': 'CH Sem Regência Escola'\n",
    "})\n",
    "\n",
    "# Leitura e tratamento dos dados do governo\n",
    "df_gov = pd.read_excel('Analise.xlsx', sheet_name='BD_SistemaGov')\n",
    "df_gov.columns = df_gov.columns.str.strip()\n",
    "df_gov['Escola'] = df_gov['Escola'].astype(str).str.strip().str.upper()\n",
    "df_gov['Mês'] = df_gov['Mês'].astype(str).str.strip().str.capitalize()\n",
    "df_gov['Tipo'] = df_gov['Tipo'].str.strip().str.upper()\n",
    "\n",
    "df_gov_grouped = df_gov.groupby(['Mês', 'Escola', 'Tipo'], as_index=False)['CHPeriodo'].sum()\n",
    "df_gov_pivot = df_gov_grouped.pivot_table(\n",
    "    index=['Mês', 'Escola'],\n",
    "    columns='Tipo',\n",
    "    values='CHPeriodo',\n",
    "    fill_value=0\n",
    ").reset_index()\n",
    "\n",
    "df_gov_pivot.columns.name = None\n",
    "df_gov_pivot = df_gov_pivot.rename(columns={\n",
    "    'REGENCIA': 'CH Regência Governo',\n",
    "    'NAO REGENCIA': 'CH Sem Regência Governo'\n",
    "})\n",
    "\n",
    "# Junção dos dados\n",
    "df_comparativo = pd.merge(\n",
    "    df_escola,\n",
    "    df_gov_pivot,\n",
    "    on=['Mês', 'Escola'],\n",
    "    how='outer'\n",
    ")\n",
    "\n",
    "# Cálculo das diferenças\n",
    "df_comparativo['% Diferença CH Regência'] = (\n",
    "    (df_comparativo['CH Regência Escola'] - df_comparativo['CH Regência Governo']) /\n",
    "    df_comparativo['CH Regência Governo'].replace(0, pd.NA)\n",
    ") * 100\n",
    "\n",
    "df_comparativo['% Diferença CH Sem Regência'] = (\n",
    "    (df_comparativo['CH Sem Regência Escola'] - df_comparativo['CH Sem Regência Governo']) /\n",
    "    df_comparativo['CH Sem Regência Governo'].replace(0, pd.NA)\n",
    ") * 100\n",
    "\n",
    "df_comparativo = df_comparativo.round(2)\n",
    "df_comparativo = df_comparativo.sort_values(by=['Mês', 'Escola'])\n",
    "\n",
    "\n",
    "# Exporta para nova planilha\n",
    "df_comparativo.to_excel('comparativo_carga_horaria.xlsx', index=False)\n"
   ]
  },
  {
   "cell_type": "code",
   "execution_count": 264,
   "id": "cb290433",
   "metadata": {},
   "outputs": [
    {
     "data": {
      "text/html": [
       "<div>\n",
       "<style scoped>\n",
       "    .dataframe tbody tr th:only-of-type {\n",
       "        vertical-align: middle;\n",
       "    }\n",
       "\n",
       "    .dataframe tbody tr th {\n",
       "        vertical-align: top;\n",
       "    }\n",
       "\n",
       "    .dataframe thead th {\n",
       "        text-align: right;\n",
       "    }\n",
       "</style>\n",
       "<table border=\"1\" class=\"dataframe\">\n",
       "  <thead>\n",
       "    <tr style=\"text-align: right;\">\n",
       "      <th></th>\n",
       "      <th>Mês</th>\n",
       "      <th>Escola</th>\n",
       "      <th>CH Regência Escola</th>\n",
       "      <th>CH Sem Regência Escola</th>\n",
       "      <th>CH Sem Regência Governo</th>\n",
       "      <th>CH Regência Governo</th>\n",
       "      <th>% Diferença CH Regência</th>\n",
       "      <th>% Diferença CH Sem Regência</th>\n",
       "    </tr>\n",
       "  </thead>\n",
       "  <tbody>\n",
       "    <tr>\n",
       "      <th>0</th>\n",
       "      <td>Abril</td>\n",
       "      <td>ESCOLA  AE</td>\n",
       "      <td>1192.40</td>\n",
       "      <td>513.34</td>\n",
       "      <td>417.14</td>\n",
       "      <td>1148.00</td>\n",
       "      <td>3.87</td>\n",
       "      <td>23.06</td>\n",
       "    </tr>\n",
       "    <tr>\n",
       "      <th>1</th>\n",
       "      <td>Abril</td>\n",
       "      <td>ESCOLA A</td>\n",
       "      <td>1641.37</td>\n",
       "      <td>630.00</td>\n",
       "      <td>497.14</td>\n",
       "      <td>1417.71</td>\n",
       "      <td>15.78</td>\n",
       "      <td>26.72</td>\n",
       "    </tr>\n",
       "    <tr>\n",
       "      <th>2</th>\n",
       "      <td>Abril</td>\n",
       "      <td>ESCOLA AA</td>\n",
       "      <td>1378.50</td>\n",
       "      <td>330.83</td>\n",
       "      <td>282.86</td>\n",
       "      <td>1204.00</td>\n",
       "      <td>14.49</td>\n",
       "      <td>16.96</td>\n",
       "    </tr>\n",
       "    <tr>\n",
       "      <th>3</th>\n",
       "      <td>Abril</td>\n",
       "      <td>ESCOLA AB</td>\n",
       "      <td>3027.83</td>\n",
       "      <td>806.66</td>\n",
       "      <td>651.43</td>\n",
       "      <td>2893.14</td>\n",
       "      <td>4.66</td>\n",
       "      <td>23.83</td>\n",
       "    </tr>\n",
       "    <tr>\n",
       "      <th>4</th>\n",
       "      <td>Abril</td>\n",
       "      <td>ESCOLA AC</td>\n",
       "      <td>1583.25</td>\n",
       "      <td>280.00</td>\n",
       "      <td>240.00</td>\n",
       "      <td>1428.14</td>\n",
       "      <td>10.86</td>\n",
       "      <td>16.67</td>\n",
       "    </tr>\n",
       "    <tr>\n",
       "      <th>5</th>\n",
       "      <td>Abril</td>\n",
       "      <td>ESCOLA AD</td>\n",
       "      <td>880.95</td>\n",
       "      <td>425.00</td>\n",
       "      <td>324.29</td>\n",
       "      <td>818.86</td>\n",
       "      <td>7.58</td>\n",
       "      <td>31.06</td>\n",
       "    </tr>\n",
       "    <tr>\n",
       "      <th>6</th>\n",
       "      <td>Abril</td>\n",
       "      <td>ESCOLA AF</td>\n",
       "      <td>2287.47</td>\n",
       "      <td>760.00</td>\n",
       "      <td>514.29</td>\n",
       "      <td>1945.57</td>\n",
       "      <td>17.57</td>\n",
       "      <td>47.78</td>\n",
       "    </tr>\n",
       "    <tr>\n",
       "      <th>7</th>\n",
       "      <td>Abril</td>\n",
       "      <td>ESCOLA AG</td>\n",
       "      <td>1564.05</td>\n",
       "      <td>920.00</td>\n",
       "      <td>788.57</td>\n",
       "      <td>1682.57</td>\n",
       "      <td>-7.04</td>\n",
       "      <td>16.67</td>\n",
       "    </tr>\n",
       "    <tr>\n",
       "      <th>8</th>\n",
       "      <td>Abril</td>\n",
       "      <td>ESCOLA AH</td>\n",
       "      <td>1885.50</td>\n",
       "      <td>1535.00</td>\n",
       "      <td>1315.71</td>\n",
       "      <td>1718.14</td>\n",
       "      <td>9.74</td>\n",
       "      <td>16.67</td>\n",
       "    </tr>\n",
       "    <tr>\n",
       "      <th>9</th>\n",
       "      <td>Abril</td>\n",
       "      <td>ESCOLA AI</td>\n",
       "      <td>1543.10</td>\n",
       "      <td>1040.00</td>\n",
       "      <td>800.71</td>\n",
       "      <td>1485.71</td>\n",
       "      <td>3.86</td>\n",
       "      <td>29.88</td>\n",
       "    </tr>\n",
       "  </tbody>\n",
       "</table>\n",
       "</div>"
      ],
      "text/plain": [
       "     Mês      Escola  CH Regência Escola  CH Sem Regência Escola  \\\n",
       "0  Abril  ESCOLA  AE             1192.40                  513.34   \n",
       "1  Abril    ESCOLA A             1641.37                  630.00   \n",
       "2  Abril   ESCOLA AA             1378.50                  330.83   \n",
       "3  Abril   ESCOLA AB             3027.83                  806.66   \n",
       "4  Abril   ESCOLA AC             1583.25                  280.00   \n",
       "5  Abril   ESCOLA AD              880.95                  425.00   \n",
       "6  Abril   ESCOLA AF             2287.47                  760.00   \n",
       "7  Abril   ESCOLA AG             1564.05                  920.00   \n",
       "8  Abril   ESCOLA AH             1885.50                 1535.00   \n",
       "9  Abril   ESCOLA AI             1543.10                 1040.00   \n",
       "\n",
       "   CH Sem Regência Governo  CH Regência Governo  % Diferença CH Regência  \\\n",
       "0                   417.14              1148.00                     3.87   \n",
       "1                   497.14              1417.71                    15.78   \n",
       "2                   282.86              1204.00                    14.49   \n",
       "3                   651.43              2893.14                     4.66   \n",
       "4                   240.00              1428.14                    10.86   \n",
       "5                   324.29               818.86                     7.58   \n",
       "6                   514.29              1945.57                    17.57   \n",
       "7                   788.57              1682.57                    -7.04   \n",
       "8                  1315.71              1718.14                     9.74   \n",
       "9                   800.71              1485.71                     3.86   \n",
       "\n",
       "   % Diferença CH Sem Regência  \n",
       "0                        23.06  \n",
       "1                        26.72  \n",
       "2                        16.96  \n",
       "3                        23.83  \n",
       "4                        16.67  \n",
       "5                        31.06  \n",
       "6                        47.78  \n",
       "7                        16.67  \n",
       "8                        16.67  \n",
       "9                        29.88  "
      ]
     },
     "execution_count": 264,
     "metadata": {},
     "output_type": "execute_result"
    }
   ],
   "source": [
    "df_comparativo = pd.read_excel('comparativo_carga_horaria.xlsx')\n",
    "df_comparativo.head(10)\n"
   ]
  },
  {
   "cell_type": "code",
   "execution_count": 265,
   "id": "986869ac",
   "metadata": {},
   "outputs": [
    {
     "data": {
      "application/vnd.plotly.v1+json": {
       "config": {
        "plotlyServerURL": "https://plot.ly"
       },
       "data": [
        {
         "alignmentgroup": "True",
         "hovertemplate": "Mês=Abril<br>Escola=%{x}<br>% Diferença CH Regência=%{y}<extra></extra>",
         "legendgroup": "Abril",
         "marker": {
          "color": "#636efa",
          "pattern": {
           "shape": ""
          }
         },
         "name": "Abril",
         "offsetgroup": "Abril",
         "orientation": "v",
         "showlegend": true,
         "textposition": "auto",
         "type": "bar",
         "x": [
          "ESCOLA  AE",
          "ESCOLA A",
          "ESCOLA AA",
          "ESCOLA AB",
          "ESCOLA AC",
          "ESCOLA AD",
          "ESCOLA AF",
          "ESCOLA AG",
          "ESCOLA AH",
          "ESCOLA AI",
          "ESCOLA B",
          "ESCOLA C",
          "ESCOLA D",
          "ESCOLA E",
          "ESCOLA F",
          "ESCOLA G",
          "ESCOLA H",
          "ESCOLA I",
          "ESCOLA J",
          "ESCOLA K",
          "ESCOLA L",
          "ESCOLA M",
          "ESCOLA N",
          "ESCOLA O",
          "ESCOLA P",
          "ESCOLA Q",
          "ESCOLA R",
          "ESCOLA S",
          "ESCOLA U",
          "ESCOLA W",
          "ESCOLA Y",
          "ESCOLA Z"
         ],
         "xaxis": "x",
         "y": [
          3.87,
          15.78,
          14.49,
          4.66,
          10.86,
          7.58,
          17.57,
          -7.04,
          9.74,
          3.86,
          3.4,
          -0.08,
          9.26,
          6.34,
          6.15,
          9.85,
          7.43,
          9.88,
          8.72,
          11.54,
          3.33,
          8.3,
          5.53,
          -13.67,
          12.8,
          15.19,
          13.58,
          14.85,
          -1.13,
          21.77,
          9.01,
          9.01
         ],
         "yaxis": "y"
        },
        {
         "alignmentgroup": "True",
         "hovertemplate": "Mês=Fevereiro<br>Escola=%{x}<br>% Diferença CH Regência=%{y}<extra></extra>",
         "legendgroup": "Fevereiro",
         "marker": {
          "color": "#EF553B",
          "pattern": {
           "shape": ""
          }
         },
         "name": "Fevereiro",
         "offsetgroup": "Fevereiro",
         "orientation": "v",
         "showlegend": true,
         "textposition": "auto",
         "type": "bar",
         "x": [
          "ESCOLA  AE",
          "ESCOLA A",
          "ESCOLA AA",
          "ESCOLA AB",
          "ESCOLA AC",
          "ESCOLA AD",
          "ESCOLA AF",
          "ESCOLA AG",
          "ESCOLA AH",
          "ESCOLA AI",
          "ESCOLA B",
          "ESCOLA C",
          "ESCOLA D",
          "ESCOLA E",
          "ESCOLA F",
          "ESCOLA G",
          "ESCOLA H",
          "ESCOLA I",
          "ESCOLA J",
          "ESCOLA K",
          "ESCOLA L",
          "ESCOLA M",
          "ESCOLA N",
          "ESCOLA O",
          "ESCOLA P",
          "ESCOLA Q",
          "ESCOLA R",
          "ESCOLA S",
          "ESCOLA U",
          "ESCOLA W",
          "ESCOLA Y",
          "ESCOLA Z"
         ],
         "xaxis": "x",
         "y": [
          20.9,
          36.6,
          11.73,
          26.38,
          23.14,
          29.37,
          24.27,
          19.53,
          27.65,
          23.6,
          16.51,
          20.58,
          21.69,
          26.74,
          20.42,
          68.11,
          30.08,
          25.74,
          55.52,
          20.96,
          24.3,
          25.8,
          22.55,
          19.31,
          20.47,
          27.91,
          31.36,
          22.45,
          24.89,
          12.44,
          21.83,
          27.61
         ],
         "yaxis": "y"
        },
        {
         "alignmentgroup": "True",
         "hovertemplate": "Mês=Março<br>Escola=%{x}<br>% Diferença CH Regência=%{y}<extra></extra>",
         "legendgroup": "Março",
         "marker": {
          "color": "#00cc96",
          "pattern": {
           "shape": ""
          }
         },
         "name": "Março",
         "offsetgroup": "Março",
         "orientation": "v",
         "showlegend": true,
         "textposition": "auto",
         "type": "bar",
         "x": [
          "ESCOLA  AE",
          "ESCOLA A",
          "ESCOLA AA",
          "ESCOLA AB",
          "ESCOLA AC",
          "ESCOLA AD",
          "ESCOLA AF",
          "ESCOLA AG",
          "ESCOLA AH",
          "ESCOLA AI",
          "ESCOLA B",
          "ESCOLA C",
          "ESCOLA D",
          "ESCOLA E",
          "ESCOLA F",
          "ESCOLA G",
          "ESCOLA H",
          "ESCOLA I",
          "ESCOLA J",
          "ESCOLA K",
          "ESCOLA L",
          "ESCOLA M",
          "ESCOLA N",
          "ESCOLA O",
          "ESCOLA P",
          "ESCOLA Q",
          "ESCOLA R",
          "ESCOLA S",
          "ESCOLA U",
          "ESCOLA W",
          "ESCOLA Y",
          "ESCOLA Z"
         ],
         "xaxis": "x",
         "y": [
          5.2,
          12.35,
          8.06,
          4.37,
          1.78,
          5.11,
          16.69,
          -3.81,
          10.71,
          2.54,
          3.33,
          2.14,
          10.51,
          3.95,
          10.57,
          8.37,
          7.14,
          7.41,
          27.11,
          11.25,
          1.59,
          0.48,
          3.03,
          2.06,
          16.82,
          14.14,
          11.73,
          11.23,
          13.7,
          13.85,
          5.67,
          13.89
         ],
         "yaxis": "y"
        }
       ],
       "layout": {
        "barmode": "group",
        "legend": {
         "title": {
          "text": "Mês"
         },
         "tracegroupgap": 0
        },
        "template": {
         "data": {
          "bar": [
           {
            "error_x": {
             "color": "#2a3f5f"
            },
            "error_y": {
             "color": "#2a3f5f"
            },
            "marker": {
             "line": {
              "color": "#E5ECF6",
              "width": 0.5
             },
             "pattern": {
              "fillmode": "overlay",
              "size": 10,
              "solidity": 0.2
             }
            },
            "type": "bar"
           }
          ],
          "barpolar": [
           {
            "marker": {
             "line": {
              "color": "#E5ECF6",
              "width": 0.5
             },
             "pattern": {
              "fillmode": "overlay",
              "size": 10,
              "solidity": 0.2
             }
            },
            "type": "barpolar"
           }
          ],
          "carpet": [
           {
            "aaxis": {
             "endlinecolor": "#2a3f5f",
             "gridcolor": "white",
             "linecolor": "white",
             "minorgridcolor": "white",
             "startlinecolor": "#2a3f5f"
            },
            "baxis": {
             "endlinecolor": "#2a3f5f",
             "gridcolor": "white",
             "linecolor": "white",
             "minorgridcolor": "white",
             "startlinecolor": "#2a3f5f"
            },
            "type": "carpet"
           }
          ],
          "choropleth": [
           {
            "colorbar": {
             "outlinewidth": 0,
             "ticks": ""
            },
            "type": "choropleth"
           }
          ],
          "contour": [
           {
            "colorbar": {
             "outlinewidth": 0,
             "ticks": ""
            },
            "colorscale": [
             [
              0,
              "#0d0887"
             ],
             [
              0.1111111111111111,
              "#46039f"
             ],
             [
              0.2222222222222222,
              "#7201a8"
             ],
             [
              0.3333333333333333,
              "#9c179e"
             ],
             [
              0.4444444444444444,
              "#bd3786"
             ],
             [
              0.5555555555555556,
              "#d8576b"
             ],
             [
              0.6666666666666666,
              "#ed7953"
             ],
             [
              0.7777777777777778,
              "#fb9f3a"
             ],
             [
              0.8888888888888888,
              "#fdca26"
             ],
             [
              1,
              "#f0f921"
             ]
            ],
            "type": "contour"
           }
          ],
          "contourcarpet": [
           {
            "colorbar": {
             "outlinewidth": 0,
             "ticks": ""
            },
            "type": "contourcarpet"
           }
          ],
          "heatmap": [
           {
            "colorbar": {
             "outlinewidth": 0,
             "ticks": ""
            },
            "colorscale": [
             [
              0,
              "#0d0887"
             ],
             [
              0.1111111111111111,
              "#46039f"
             ],
             [
              0.2222222222222222,
              "#7201a8"
             ],
             [
              0.3333333333333333,
              "#9c179e"
             ],
             [
              0.4444444444444444,
              "#bd3786"
             ],
             [
              0.5555555555555556,
              "#d8576b"
             ],
             [
              0.6666666666666666,
              "#ed7953"
             ],
             [
              0.7777777777777778,
              "#fb9f3a"
             ],
             [
              0.8888888888888888,
              "#fdca26"
             ],
             [
              1,
              "#f0f921"
             ]
            ],
            "type": "heatmap"
           }
          ],
          "heatmapgl": [
           {
            "colorbar": {
             "outlinewidth": 0,
             "ticks": ""
            },
            "colorscale": [
             [
              0,
              "#0d0887"
             ],
             [
              0.1111111111111111,
              "#46039f"
             ],
             [
              0.2222222222222222,
              "#7201a8"
             ],
             [
              0.3333333333333333,
              "#9c179e"
             ],
             [
              0.4444444444444444,
              "#bd3786"
             ],
             [
              0.5555555555555556,
              "#d8576b"
             ],
             [
              0.6666666666666666,
              "#ed7953"
             ],
             [
              0.7777777777777778,
              "#fb9f3a"
             ],
             [
              0.8888888888888888,
              "#fdca26"
             ],
             [
              1,
              "#f0f921"
             ]
            ],
            "type": "heatmapgl"
           }
          ],
          "histogram": [
           {
            "marker": {
             "pattern": {
              "fillmode": "overlay",
              "size": 10,
              "solidity": 0.2
             }
            },
            "type": "histogram"
           }
          ],
          "histogram2d": [
           {
            "colorbar": {
             "outlinewidth": 0,
             "ticks": ""
            },
            "colorscale": [
             [
              0,
              "#0d0887"
             ],
             [
              0.1111111111111111,
              "#46039f"
             ],
             [
              0.2222222222222222,
              "#7201a8"
             ],
             [
              0.3333333333333333,
              "#9c179e"
             ],
             [
              0.4444444444444444,
              "#bd3786"
             ],
             [
              0.5555555555555556,
              "#d8576b"
             ],
             [
              0.6666666666666666,
              "#ed7953"
             ],
             [
              0.7777777777777778,
              "#fb9f3a"
             ],
             [
              0.8888888888888888,
              "#fdca26"
             ],
             [
              1,
              "#f0f921"
             ]
            ],
            "type": "histogram2d"
           }
          ],
          "histogram2dcontour": [
           {
            "colorbar": {
             "outlinewidth": 0,
             "ticks": ""
            },
            "colorscale": [
             [
              0,
              "#0d0887"
             ],
             [
              0.1111111111111111,
              "#46039f"
             ],
             [
              0.2222222222222222,
              "#7201a8"
             ],
             [
              0.3333333333333333,
              "#9c179e"
             ],
             [
              0.4444444444444444,
              "#bd3786"
             ],
             [
              0.5555555555555556,
              "#d8576b"
             ],
             [
              0.6666666666666666,
              "#ed7953"
             ],
             [
              0.7777777777777778,
              "#fb9f3a"
             ],
             [
              0.8888888888888888,
              "#fdca26"
             ],
             [
              1,
              "#f0f921"
             ]
            ],
            "type": "histogram2dcontour"
           }
          ],
          "mesh3d": [
           {
            "colorbar": {
             "outlinewidth": 0,
             "ticks": ""
            },
            "type": "mesh3d"
           }
          ],
          "parcoords": [
           {
            "line": {
             "colorbar": {
              "outlinewidth": 0,
              "ticks": ""
             }
            },
            "type": "parcoords"
           }
          ],
          "pie": [
           {
            "automargin": true,
            "type": "pie"
           }
          ],
          "scatter": [
           {
            "fillpattern": {
             "fillmode": "overlay",
             "size": 10,
             "solidity": 0.2
            },
            "type": "scatter"
           }
          ],
          "scatter3d": [
           {
            "line": {
             "colorbar": {
              "outlinewidth": 0,
              "ticks": ""
             }
            },
            "marker": {
             "colorbar": {
              "outlinewidth": 0,
              "ticks": ""
             }
            },
            "type": "scatter3d"
           }
          ],
          "scattercarpet": [
           {
            "marker": {
             "colorbar": {
              "outlinewidth": 0,
              "ticks": ""
             }
            },
            "type": "scattercarpet"
           }
          ],
          "scattergeo": [
           {
            "marker": {
             "colorbar": {
              "outlinewidth": 0,
              "ticks": ""
             }
            },
            "type": "scattergeo"
           }
          ],
          "scattergl": [
           {
            "marker": {
             "colorbar": {
              "outlinewidth": 0,
              "ticks": ""
             }
            },
            "type": "scattergl"
           }
          ],
          "scattermapbox": [
           {
            "marker": {
             "colorbar": {
              "outlinewidth": 0,
              "ticks": ""
             }
            },
            "type": "scattermapbox"
           }
          ],
          "scatterpolar": [
           {
            "marker": {
             "colorbar": {
              "outlinewidth": 0,
              "ticks": ""
             }
            },
            "type": "scatterpolar"
           }
          ],
          "scatterpolargl": [
           {
            "marker": {
             "colorbar": {
              "outlinewidth": 0,
              "ticks": ""
             }
            },
            "type": "scatterpolargl"
           }
          ],
          "scatterternary": [
           {
            "marker": {
             "colorbar": {
              "outlinewidth": 0,
              "ticks": ""
             }
            },
            "type": "scatterternary"
           }
          ],
          "surface": [
           {
            "colorbar": {
             "outlinewidth": 0,
             "ticks": ""
            },
            "colorscale": [
             [
              0,
              "#0d0887"
             ],
             [
              0.1111111111111111,
              "#46039f"
             ],
             [
              0.2222222222222222,
              "#7201a8"
             ],
             [
              0.3333333333333333,
              "#9c179e"
             ],
             [
              0.4444444444444444,
              "#bd3786"
             ],
             [
              0.5555555555555556,
              "#d8576b"
             ],
             [
              0.6666666666666666,
              "#ed7953"
             ],
             [
              0.7777777777777778,
              "#fb9f3a"
             ],
             [
              0.8888888888888888,
              "#fdca26"
             ],
             [
              1,
              "#f0f921"
             ]
            ],
            "type": "surface"
           }
          ],
          "table": [
           {
            "cells": {
             "fill": {
              "color": "#EBF0F8"
             },
             "line": {
              "color": "white"
             }
            },
            "header": {
             "fill": {
              "color": "#C8D4E3"
             },
             "line": {
              "color": "white"
             }
            },
            "type": "table"
           }
          ]
         },
         "layout": {
          "annotationdefaults": {
           "arrowcolor": "#2a3f5f",
           "arrowhead": 0,
           "arrowwidth": 1
          },
          "autotypenumbers": "strict",
          "coloraxis": {
           "colorbar": {
            "outlinewidth": 0,
            "ticks": ""
           }
          },
          "colorscale": {
           "diverging": [
            [
             0,
             "#8e0152"
            ],
            [
             0.1,
             "#c51b7d"
            ],
            [
             0.2,
             "#de77ae"
            ],
            [
             0.3,
             "#f1b6da"
            ],
            [
             0.4,
             "#fde0ef"
            ],
            [
             0.5,
             "#f7f7f7"
            ],
            [
             0.6,
             "#e6f5d0"
            ],
            [
             0.7,
             "#b8e186"
            ],
            [
             0.8,
             "#7fbc41"
            ],
            [
             0.9,
             "#4d9221"
            ],
            [
             1,
             "#276419"
            ]
           ],
           "sequential": [
            [
             0,
             "#0d0887"
            ],
            [
             0.1111111111111111,
             "#46039f"
            ],
            [
             0.2222222222222222,
             "#7201a8"
            ],
            [
             0.3333333333333333,
             "#9c179e"
            ],
            [
             0.4444444444444444,
             "#bd3786"
            ],
            [
             0.5555555555555556,
             "#d8576b"
            ],
            [
             0.6666666666666666,
             "#ed7953"
            ],
            [
             0.7777777777777778,
             "#fb9f3a"
            ],
            [
             0.8888888888888888,
             "#fdca26"
            ],
            [
             1,
             "#f0f921"
            ]
           ],
           "sequentialminus": [
            [
             0,
             "#0d0887"
            ],
            [
             0.1111111111111111,
             "#46039f"
            ],
            [
             0.2222222222222222,
             "#7201a8"
            ],
            [
             0.3333333333333333,
             "#9c179e"
            ],
            [
             0.4444444444444444,
             "#bd3786"
            ],
            [
             0.5555555555555556,
             "#d8576b"
            ],
            [
             0.6666666666666666,
             "#ed7953"
            ],
            [
             0.7777777777777778,
             "#fb9f3a"
            ],
            [
             0.8888888888888888,
             "#fdca26"
            ],
            [
             1,
             "#f0f921"
            ]
           ]
          },
          "colorway": [
           "#636efa",
           "#EF553B",
           "#00cc96",
           "#ab63fa",
           "#FFA15A",
           "#19d3f3",
           "#FF6692",
           "#B6E880",
           "#FF97FF",
           "#FECB52"
          ],
          "font": {
           "color": "#2a3f5f"
          },
          "geo": {
           "bgcolor": "white",
           "lakecolor": "white",
           "landcolor": "#E5ECF6",
           "showlakes": true,
           "showland": true,
           "subunitcolor": "white"
          },
          "hoverlabel": {
           "align": "left"
          },
          "hovermode": "closest",
          "mapbox": {
           "style": "light"
          },
          "paper_bgcolor": "white",
          "plot_bgcolor": "#E5ECF6",
          "polar": {
           "angularaxis": {
            "gridcolor": "white",
            "linecolor": "white",
            "ticks": ""
           },
           "bgcolor": "#E5ECF6",
           "radialaxis": {
            "gridcolor": "white",
            "linecolor": "white",
            "ticks": ""
           }
          },
          "scene": {
           "xaxis": {
            "backgroundcolor": "#E5ECF6",
            "gridcolor": "white",
            "gridwidth": 2,
            "linecolor": "white",
            "showbackground": true,
            "ticks": "",
            "zerolinecolor": "white"
           },
           "yaxis": {
            "backgroundcolor": "#E5ECF6",
            "gridcolor": "white",
            "gridwidth": 2,
            "linecolor": "white",
            "showbackground": true,
            "ticks": "",
            "zerolinecolor": "white"
           },
           "zaxis": {
            "backgroundcolor": "#E5ECF6",
            "gridcolor": "white",
            "gridwidth": 2,
            "linecolor": "white",
            "showbackground": true,
            "ticks": "",
            "zerolinecolor": "white"
           }
          },
          "shapedefaults": {
           "line": {
            "color": "#2a3f5f"
           }
          },
          "ternary": {
           "aaxis": {
            "gridcolor": "white",
            "linecolor": "white",
            "ticks": ""
           },
           "baxis": {
            "gridcolor": "white",
            "linecolor": "white",
            "ticks": ""
           },
           "bgcolor": "#E5ECF6",
           "caxis": {
            "gridcolor": "white",
            "linecolor": "white",
            "ticks": ""
           }
          },
          "title": {
           "x": 0.05
          },
          "xaxis": {
           "automargin": true,
           "gridcolor": "white",
           "linecolor": "white",
           "ticks": "",
           "title": {
            "standoff": 15
           },
           "zerolinecolor": "white",
           "zerolinewidth": 2
          },
          "yaxis": {
           "automargin": true,
           "gridcolor": "white",
           "linecolor": "white",
           "ticks": "",
           "title": {
            "standoff": 15
           },
           "zerolinecolor": "white",
           "zerolinewidth": 2
          }
         }
        },
        "title": {
         "text": "% Diferença CH Regência por Escola e Mês"
        },
        "xaxis": {
         "anchor": "y",
         "domain": [
          0,
          1
         ],
         "title": {
          "text": "Escola"
         }
        },
        "yaxis": {
         "anchor": "x",
         "domain": [
          0,
          1
         ],
         "title": {
          "text": "% Diferença CH Regência"
         }
        }
       }
      }
     },
     "metadata": {},
     "output_type": "display_data"
    },
    {
     "data": {
      "application/vnd.plotly.v1+json": {
       "config": {
        "plotlyServerURL": "https://plot.ly"
       },
       "data": [
        {
         "alignmentgroup": "True",
         "hovertemplate": "Mês=Abril<br>Escola=%{x}<br>% Diferença CH Sem Regência=%{y}<extra></extra>",
         "legendgroup": "Abril",
         "marker": {
          "color": "#636efa",
          "pattern": {
           "shape": ""
          }
         },
         "name": "Abril",
         "offsetgroup": "Abril",
         "orientation": "v",
         "showlegend": true,
         "textposition": "auto",
         "type": "bar",
         "x": [
          "ESCOLA  AE",
          "ESCOLA A",
          "ESCOLA AA",
          "ESCOLA AB",
          "ESCOLA AC",
          "ESCOLA AD",
          "ESCOLA AF",
          "ESCOLA AG",
          "ESCOLA AH",
          "ESCOLA AI",
          "ESCOLA B",
          "ESCOLA C",
          "ESCOLA D",
          "ESCOLA E",
          "ESCOLA F",
          "ESCOLA G",
          "ESCOLA H",
          "ESCOLA I",
          "ESCOLA J",
          "ESCOLA K",
          "ESCOLA L",
          "ESCOLA M",
          "ESCOLA N",
          "ESCOLA O",
          "ESCOLA P",
          "ESCOLA Q",
          "ESCOLA R",
          "ESCOLA S",
          "ESCOLA U",
          "ESCOLA W",
          "ESCOLA Y",
          "ESCOLA Z"
         ],
         "xaxis": "x",
         "y": [
          23.06,
          26.72,
          16.96,
          23.83,
          16.67,
          31.06,
          47.78,
          16.67,
          16.67,
          29.88,
          76.05,
          56.52,
          61.88,
          19.52,
          138.28,
          133.33,
          49.39,
          31.93,
          44.16,
          16.67,
          16.67,
          15.92,
          63.74,
          18.22,
          16.16,
          16.67,
          16.67,
          16.67,
          12.84,
          16.67,
          29.03,
          36.11
         ],
         "yaxis": "y"
        },
        {
         "alignmentgroup": "True",
         "hovertemplate": "Mês=Fevereiro<br>Escola=%{x}<br>% Diferença CH Sem Regência=%{y}<extra></extra>",
         "legendgroup": "Fevereiro",
         "marker": {
          "color": "#EF553B",
          "pattern": {
           "shape": ""
          }
         },
         "name": "Fevereiro",
         "offsetgroup": "Fevereiro",
         "orientation": "v",
         "showlegend": true,
         "textposition": "auto",
         "type": "bar",
         "x": [
          "ESCOLA  AE",
          "ESCOLA A",
          "ESCOLA AA",
          "ESCOLA AB",
          "ESCOLA AC",
          "ESCOLA AD",
          "ESCOLA AF",
          "ESCOLA AG",
          "ESCOLA AH",
          "ESCOLA AI",
          "ESCOLA B",
          "ESCOLA C",
          "ESCOLA D",
          "ESCOLA E",
          "ESCOLA F",
          "ESCOLA G",
          "ESCOLA H",
          "ESCOLA I",
          "ESCOLA J",
          "ESCOLA K",
          "ESCOLA L",
          "ESCOLA M",
          "ESCOLA N",
          "ESCOLA O",
          "ESCOLA P",
          "ESCOLA Q",
          "ESCOLA R",
          "ESCOLA S",
          "ESCOLA U",
          "ESCOLA W",
          "ESCOLA Y",
          "ESCOLA Z"
         ],
         "xaxis": "x",
         "y": [
          48.19,
          20.44,
          166.75,
          80.89,
          169.23,
          28.4,
          297.45,
          38.39,
          18.33,
          10.42,
          25.64,
          39.1,
          226.81,
          18.06,
          239.41,
          150,
          68.38,
          45.34,
          556.04,
          34.01,
          23.93,
          35.02,
          111.36,
          48.14,
          30.32,
          32.61,
          35.37,
          25.64,
          85.72,
          45.51,
          24.76,
          31.17
         ],
         "yaxis": "y"
        },
        {
         "alignmentgroup": "True",
         "hovertemplate": "Mês=Março<br>Escola=%{x}<br>% Diferença CH Sem Regência=%{y}<extra></extra>",
         "legendgroup": "Março",
         "marker": {
          "color": "#00cc96",
          "pattern": {
           "shape": ""
          }
         },
         "name": "Março",
         "offsetgroup": "Março",
         "orientation": "v",
         "showlegend": true,
         "textposition": "auto",
         "type": "bar",
         "x": [
          "ESCOLA  AE",
          "ESCOLA A",
          "ESCOLA AA",
          "ESCOLA AB",
          "ESCOLA AC",
          "ESCOLA AD",
          "ESCOLA AF",
          "ESCOLA AG",
          "ESCOLA AH",
          "ESCOLA AI",
          "ESCOLA B",
          "ESCOLA C",
          "ESCOLA D",
          "ESCOLA E",
          "ESCOLA F",
          "ESCOLA G",
          "ESCOLA H",
          "ESCOLA I",
          "ESCOLA J",
          "ESCOLA K",
          "ESCOLA L",
          "ESCOLA M",
          "ESCOLA N",
          "ESCOLA O",
          "ESCOLA P",
          "ESCOLA Q",
          "ESCOLA R",
          "ESCOLA S",
          "ESCOLA U",
          "ESCOLA W",
          "ESCOLA Y",
          "ESCOLA Z"
         ],
         "xaxis": "x",
         "y": [
          18.7,
          22.64,
          12.9,
          33.43,
          46.72,
          12.9,
          68,
          18.79,
          12.16,
          14.34,
          67.26,
          48.44,
          63.24,
          8.53,
          170.97,
          186.02,
          24.67,
          31.3,
          284.27,
          3.14,
          12.9,
          4.16,
          53.75,
          4.72,
          -9.57,
          13.47,
          12.9,
          12.9,
          56.21,
          14.78,
          13.05,
          16.89
         ],
         "yaxis": "y"
        }
       ],
       "layout": {
        "barmode": "group",
        "legend": {
         "title": {
          "text": "Mês"
         },
         "tracegroupgap": 0
        },
        "template": {
         "data": {
          "bar": [
           {
            "error_x": {
             "color": "#2a3f5f"
            },
            "error_y": {
             "color": "#2a3f5f"
            },
            "marker": {
             "line": {
              "color": "#E5ECF6",
              "width": 0.5
             },
             "pattern": {
              "fillmode": "overlay",
              "size": 10,
              "solidity": 0.2
             }
            },
            "type": "bar"
           }
          ],
          "barpolar": [
           {
            "marker": {
             "line": {
              "color": "#E5ECF6",
              "width": 0.5
             },
             "pattern": {
              "fillmode": "overlay",
              "size": 10,
              "solidity": 0.2
             }
            },
            "type": "barpolar"
           }
          ],
          "carpet": [
           {
            "aaxis": {
             "endlinecolor": "#2a3f5f",
             "gridcolor": "white",
             "linecolor": "white",
             "minorgridcolor": "white",
             "startlinecolor": "#2a3f5f"
            },
            "baxis": {
             "endlinecolor": "#2a3f5f",
             "gridcolor": "white",
             "linecolor": "white",
             "minorgridcolor": "white",
             "startlinecolor": "#2a3f5f"
            },
            "type": "carpet"
           }
          ],
          "choropleth": [
           {
            "colorbar": {
             "outlinewidth": 0,
             "ticks": ""
            },
            "type": "choropleth"
           }
          ],
          "contour": [
           {
            "colorbar": {
             "outlinewidth": 0,
             "ticks": ""
            },
            "colorscale": [
             [
              0,
              "#0d0887"
             ],
             [
              0.1111111111111111,
              "#46039f"
             ],
             [
              0.2222222222222222,
              "#7201a8"
             ],
             [
              0.3333333333333333,
              "#9c179e"
             ],
             [
              0.4444444444444444,
              "#bd3786"
             ],
             [
              0.5555555555555556,
              "#d8576b"
             ],
             [
              0.6666666666666666,
              "#ed7953"
             ],
             [
              0.7777777777777778,
              "#fb9f3a"
             ],
             [
              0.8888888888888888,
              "#fdca26"
             ],
             [
              1,
              "#f0f921"
             ]
            ],
            "type": "contour"
           }
          ],
          "contourcarpet": [
           {
            "colorbar": {
             "outlinewidth": 0,
             "ticks": ""
            },
            "type": "contourcarpet"
           }
          ],
          "heatmap": [
           {
            "colorbar": {
             "outlinewidth": 0,
             "ticks": ""
            },
            "colorscale": [
             [
              0,
              "#0d0887"
             ],
             [
              0.1111111111111111,
              "#46039f"
             ],
             [
              0.2222222222222222,
              "#7201a8"
             ],
             [
              0.3333333333333333,
              "#9c179e"
             ],
             [
              0.4444444444444444,
              "#bd3786"
             ],
             [
              0.5555555555555556,
              "#d8576b"
             ],
             [
              0.6666666666666666,
              "#ed7953"
             ],
             [
              0.7777777777777778,
              "#fb9f3a"
             ],
             [
              0.8888888888888888,
              "#fdca26"
             ],
             [
              1,
              "#f0f921"
             ]
            ],
            "type": "heatmap"
           }
          ],
          "heatmapgl": [
           {
            "colorbar": {
             "outlinewidth": 0,
             "ticks": ""
            },
            "colorscale": [
             [
              0,
              "#0d0887"
             ],
             [
              0.1111111111111111,
              "#46039f"
             ],
             [
              0.2222222222222222,
              "#7201a8"
             ],
             [
              0.3333333333333333,
              "#9c179e"
             ],
             [
              0.4444444444444444,
              "#bd3786"
             ],
             [
              0.5555555555555556,
              "#d8576b"
             ],
             [
              0.6666666666666666,
              "#ed7953"
             ],
             [
              0.7777777777777778,
              "#fb9f3a"
             ],
             [
              0.8888888888888888,
              "#fdca26"
             ],
             [
              1,
              "#f0f921"
             ]
            ],
            "type": "heatmapgl"
           }
          ],
          "histogram": [
           {
            "marker": {
             "pattern": {
              "fillmode": "overlay",
              "size": 10,
              "solidity": 0.2
             }
            },
            "type": "histogram"
           }
          ],
          "histogram2d": [
           {
            "colorbar": {
             "outlinewidth": 0,
             "ticks": ""
            },
            "colorscale": [
             [
              0,
              "#0d0887"
             ],
             [
              0.1111111111111111,
              "#46039f"
             ],
             [
              0.2222222222222222,
              "#7201a8"
             ],
             [
              0.3333333333333333,
              "#9c179e"
             ],
             [
              0.4444444444444444,
              "#bd3786"
             ],
             [
              0.5555555555555556,
              "#d8576b"
             ],
             [
              0.6666666666666666,
              "#ed7953"
             ],
             [
              0.7777777777777778,
              "#fb9f3a"
             ],
             [
              0.8888888888888888,
              "#fdca26"
             ],
             [
              1,
              "#f0f921"
             ]
            ],
            "type": "histogram2d"
           }
          ],
          "histogram2dcontour": [
           {
            "colorbar": {
             "outlinewidth": 0,
             "ticks": ""
            },
            "colorscale": [
             [
              0,
              "#0d0887"
             ],
             [
              0.1111111111111111,
              "#46039f"
             ],
             [
              0.2222222222222222,
              "#7201a8"
             ],
             [
              0.3333333333333333,
              "#9c179e"
             ],
             [
              0.4444444444444444,
              "#bd3786"
             ],
             [
              0.5555555555555556,
              "#d8576b"
             ],
             [
              0.6666666666666666,
              "#ed7953"
             ],
             [
              0.7777777777777778,
              "#fb9f3a"
             ],
             [
              0.8888888888888888,
              "#fdca26"
             ],
             [
              1,
              "#f0f921"
             ]
            ],
            "type": "histogram2dcontour"
           }
          ],
          "mesh3d": [
           {
            "colorbar": {
             "outlinewidth": 0,
             "ticks": ""
            },
            "type": "mesh3d"
           }
          ],
          "parcoords": [
           {
            "line": {
             "colorbar": {
              "outlinewidth": 0,
              "ticks": ""
             }
            },
            "type": "parcoords"
           }
          ],
          "pie": [
           {
            "automargin": true,
            "type": "pie"
           }
          ],
          "scatter": [
           {
            "fillpattern": {
             "fillmode": "overlay",
             "size": 10,
             "solidity": 0.2
            },
            "type": "scatter"
           }
          ],
          "scatter3d": [
           {
            "line": {
             "colorbar": {
              "outlinewidth": 0,
              "ticks": ""
             }
            },
            "marker": {
             "colorbar": {
              "outlinewidth": 0,
              "ticks": ""
             }
            },
            "type": "scatter3d"
           }
          ],
          "scattercarpet": [
           {
            "marker": {
             "colorbar": {
              "outlinewidth": 0,
              "ticks": ""
             }
            },
            "type": "scattercarpet"
           }
          ],
          "scattergeo": [
           {
            "marker": {
             "colorbar": {
              "outlinewidth": 0,
              "ticks": ""
             }
            },
            "type": "scattergeo"
           }
          ],
          "scattergl": [
           {
            "marker": {
             "colorbar": {
              "outlinewidth": 0,
              "ticks": ""
             }
            },
            "type": "scattergl"
           }
          ],
          "scattermapbox": [
           {
            "marker": {
             "colorbar": {
              "outlinewidth": 0,
              "ticks": ""
             }
            },
            "type": "scattermapbox"
           }
          ],
          "scatterpolar": [
           {
            "marker": {
             "colorbar": {
              "outlinewidth": 0,
              "ticks": ""
             }
            },
            "type": "scatterpolar"
           }
          ],
          "scatterpolargl": [
           {
            "marker": {
             "colorbar": {
              "outlinewidth": 0,
              "ticks": ""
             }
            },
            "type": "scatterpolargl"
           }
          ],
          "scatterternary": [
           {
            "marker": {
             "colorbar": {
              "outlinewidth": 0,
              "ticks": ""
             }
            },
            "type": "scatterternary"
           }
          ],
          "surface": [
           {
            "colorbar": {
             "outlinewidth": 0,
             "ticks": ""
            },
            "colorscale": [
             [
              0,
              "#0d0887"
             ],
             [
              0.1111111111111111,
              "#46039f"
             ],
             [
              0.2222222222222222,
              "#7201a8"
             ],
             [
              0.3333333333333333,
              "#9c179e"
             ],
             [
              0.4444444444444444,
              "#bd3786"
             ],
             [
              0.5555555555555556,
              "#d8576b"
             ],
             [
              0.6666666666666666,
              "#ed7953"
             ],
             [
              0.7777777777777778,
              "#fb9f3a"
             ],
             [
              0.8888888888888888,
              "#fdca26"
             ],
             [
              1,
              "#f0f921"
             ]
            ],
            "type": "surface"
           }
          ],
          "table": [
           {
            "cells": {
             "fill": {
              "color": "#EBF0F8"
             },
             "line": {
              "color": "white"
             }
            },
            "header": {
             "fill": {
              "color": "#C8D4E3"
             },
             "line": {
              "color": "white"
             }
            },
            "type": "table"
           }
          ]
         },
         "layout": {
          "annotationdefaults": {
           "arrowcolor": "#2a3f5f",
           "arrowhead": 0,
           "arrowwidth": 1
          },
          "autotypenumbers": "strict",
          "coloraxis": {
           "colorbar": {
            "outlinewidth": 0,
            "ticks": ""
           }
          },
          "colorscale": {
           "diverging": [
            [
             0,
             "#8e0152"
            ],
            [
             0.1,
             "#c51b7d"
            ],
            [
             0.2,
             "#de77ae"
            ],
            [
             0.3,
             "#f1b6da"
            ],
            [
             0.4,
             "#fde0ef"
            ],
            [
             0.5,
             "#f7f7f7"
            ],
            [
             0.6,
             "#e6f5d0"
            ],
            [
             0.7,
             "#b8e186"
            ],
            [
             0.8,
             "#7fbc41"
            ],
            [
             0.9,
             "#4d9221"
            ],
            [
             1,
             "#276419"
            ]
           ],
           "sequential": [
            [
             0,
             "#0d0887"
            ],
            [
             0.1111111111111111,
             "#46039f"
            ],
            [
             0.2222222222222222,
             "#7201a8"
            ],
            [
             0.3333333333333333,
             "#9c179e"
            ],
            [
             0.4444444444444444,
             "#bd3786"
            ],
            [
             0.5555555555555556,
             "#d8576b"
            ],
            [
             0.6666666666666666,
             "#ed7953"
            ],
            [
             0.7777777777777778,
             "#fb9f3a"
            ],
            [
             0.8888888888888888,
             "#fdca26"
            ],
            [
             1,
             "#f0f921"
            ]
           ],
           "sequentialminus": [
            [
             0,
             "#0d0887"
            ],
            [
             0.1111111111111111,
             "#46039f"
            ],
            [
             0.2222222222222222,
             "#7201a8"
            ],
            [
             0.3333333333333333,
             "#9c179e"
            ],
            [
             0.4444444444444444,
             "#bd3786"
            ],
            [
             0.5555555555555556,
             "#d8576b"
            ],
            [
             0.6666666666666666,
             "#ed7953"
            ],
            [
             0.7777777777777778,
             "#fb9f3a"
            ],
            [
             0.8888888888888888,
             "#fdca26"
            ],
            [
             1,
             "#f0f921"
            ]
           ]
          },
          "colorway": [
           "#636efa",
           "#EF553B",
           "#00cc96",
           "#ab63fa",
           "#FFA15A",
           "#19d3f3",
           "#FF6692",
           "#B6E880",
           "#FF97FF",
           "#FECB52"
          ],
          "font": {
           "color": "#2a3f5f"
          },
          "geo": {
           "bgcolor": "white",
           "lakecolor": "white",
           "landcolor": "#E5ECF6",
           "showlakes": true,
           "showland": true,
           "subunitcolor": "white"
          },
          "hoverlabel": {
           "align": "left"
          },
          "hovermode": "closest",
          "mapbox": {
           "style": "light"
          },
          "paper_bgcolor": "white",
          "plot_bgcolor": "#E5ECF6",
          "polar": {
           "angularaxis": {
            "gridcolor": "white",
            "linecolor": "white",
            "ticks": ""
           },
           "bgcolor": "#E5ECF6",
           "radialaxis": {
            "gridcolor": "white",
            "linecolor": "white",
            "ticks": ""
           }
          },
          "scene": {
           "xaxis": {
            "backgroundcolor": "#E5ECF6",
            "gridcolor": "white",
            "gridwidth": 2,
            "linecolor": "white",
            "showbackground": true,
            "ticks": "",
            "zerolinecolor": "white"
           },
           "yaxis": {
            "backgroundcolor": "#E5ECF6",
            "gridcolor": "white",
            "gridwidth": 2,
            "linecolor": "white",
            "showbackground": true,
            "ticks": "",
            "zerolinecolor": "white"
           },
           "zaxis": {
            "backgroundcolor": "#E5ECF6",
            "gridcolor": "white",
            "gridwidth": 2,
            "linecolor": "white",
            "showbackground": true,
            "ticks": "",
            "zerolinecolor": "white"
           }
          },
          "shapedefaults": {
           "line": {
            "color": "#2a3f5f"
           }
          },
          "ternary": {
           "aaxis": {
            "gridcolor": "white",
            "linecolor": "white",
            "ticks": ""
           },
           "baxis": {
            "gridcolor": "white",
            "linecolor": "white",
            "ticks": ""
           },
           "bgcolor": "#E5ECF6",
           "caxis": {
            "gridcolor": "white",
            "linecolor": "white",
            "ticks": ""
           }
          },
          "title": {
           "x": 0.05
          },
          "xaxis": {
           "automargin": true,
           "gridcolor": "white",
           "linecolor": "white",
           "ticks": "",
           "title": {
            "standoff": 15
           },
           "zerolinecolor": "white",
           "zerolinewidth": 2
          },
          "yaxis": {
           "automargin": true,
           "gridcolor": "white",
           "linecolor": "white",
           "ticks": "",
           "title": {
            "standoff": 15
           },
           "zerolinecolor": "white",
           "zerolinewidth": 2
          }
         }
        },
        "title": {
         "text": "% Diferença CH Sem Regência por Escola e Mês"
        },
        "xaxis": {
         "anchor": "y",
         "domain": [
          0,
          1
         ],
         "title": {
          "text": "Escola"
         }
        },
        "yaxis": {
         "anchor": "x",
         "domain": [
          0,
          1
         ],
         "title": {
          "text": "% Diferença CH Sem Regência"
         }
        }
       }
      }
     },
     "metadata": {},
     "output_type": "display_data"
    }
   ],
   "source": [
    "import plotly.express as px\n",
    "\n",
    "fig = px.bar(df_comparativo, x='Escola', y='% Diferença CH Regência', color='Mês', barmode='group',\n",
    "             title='% Diferença CH Regência por Escola e Mês')\n",
    "fig.show()\n",
    "fig = px.bar(df_comparativo, x='Escola', y='% Diferença CH Sem Regência', color='Mês', barmode='group',\n",
    "             title='% Diferença CH Sem Regência por Escola e Mês')\n",
    "fig.show()"
   ]
  },
  {
   "cell_type": "code",
   "execution_count": 267,
   "id": "4741550a",
   "metadata": {},
   "outputs": [
    {
     "data": {
      "text/html": [
       "<div>\n",
       "<style scoped>\n",
       "    .dataframe tbody tr th:only-of-type {\n",
       "        vertical-align: middle;\n",
       "    }\n",
       "\n",
       "    .dataframe tbody tr th {\n",
       "        vertical-align: top;\n",
       "    }\n",
       "\n",
       "    .dataframe thead th {\n",
       "        text-align: right;\n",
       "    }\n",
       "</style>\n",
       "<table border=\"1\" class=\"dataframe\">\n",
       "  <thead>\n",
       "    <tr style=\"text-align: right;\">\n",
       "      <th></th>\n",
       "      <th>Mês</th>\n",
       "      <th>Escola</th>\n",
       "      <th>CH Regência Escola</th>\n",
       "      <th>CH Sem Regência Escola</th>\n",
       "      <th>CH Sem Regência Governo</th>\n",
       "      <th>CH Regência Governo</th>\n",
       "      <th>% Diferença CH Regência</th>\n",
       "      <th>% Diferença CH Sem Regência</th>\n",
       "      <th>Valor Pago Governo</th>\n",
       "      <th>Valor Pago Escola</th>\n",
       "    </tr>\n",
       "  </thead>\n",
       "  <tbody>\n",
       "    <tr>\n",
       "      <th>0</th>\n",
       "      <td>Abril</td>\n",
       "      <td>ESCOLA  AE</td>\n",
       "      <td>1192.40</td>\n",
       "      <td>513.34</td>\n",
       "      <td>417.14</td>\n",
       "      <td>1148.00</td>\n",
       "      <td>3.87</td>\n",
       "      <td>23.06</td>\n",
       "      <td>NaN</td>\n",
       "      <td>NaN</td>\n",
       "    </tr>\n",
       "    <tr>\n",
       "      <th>1</th>\n",
       "      <td>Abril</td>\n",
       "      <td>ESCOLA A</td>\n",
       "      <td>1641.37</td>\n",
       "      <td>630.00</td>\n",
       "      <td>497.14</td>\n",
       "      <td>1417.71</td>\n",
       "      <td>15.78</td>\n",
       "      <td>26.72</td>\n",
       "      <td>56047.66</td>\n",
       "      <td>66483.00</td>\n",
       "    </tr>\n",
       "    <tr>\n",
       "      <th>2</th>\n",
       "      <td>Abril</td>\n",
       "      <td>ESCOLA AA</td>\n",
       "      <td>1378.50</td>\n",
       "      <td>330.83</td>\n",
       "      <td>282.86</td>\n",
       "      <td>1204.00</td>\n",
       "      <td>14.49</td>\n",
       "      <td>16.96</td>\n",
       "      <td>40457.46</td>\n",
       "      <td>46510.87</td>\n",
       "    </tr>\n",
       "    <tr>\n",
       "      <th>3</th>\n",
       "      <td>Abril</td>\n",
       "      <td>ESCOLA AB</td>\n",
       "      <td>3027.83</td>\n",
       "      <td>806.66</td>\n",
       "      <td>651.43</td>\n",
       "      <td>2893.14</td>\n",
       "      <td>4.66</td>\n",
       "      <td>23.83</td>\n",
       "      <td>96447.75</td>\n",
       "      <td>104336.47</td>\n",
       "    </tr>\n",
       "    <tr>\n",
       "      <th>4</th>\n",
       "      <td>Abril</td>\n",
       "      <td>ESCOLA AC</td>\n",
       "      <td>1583.25</td>\n",
       "      <td>280.00</td>\n",
       "      <td>240.00</td>\n",
       "      <td>1428.14</td>\n",
       "      <td>10.86</td>\n",
       "      <td>16.67</td>\n",
       "      <td>48826.46</td>\n",
       "      <td>54537.33</td>\n",
       "    </tr>\n",
       "    <tr>\n",
       "      <th>5</th>\n",
       "      <td>Abril</td>\n",
       "      <td>ESCOLA AD</td>\n",
       "      <td>880.95</td>\n",
       "      <td>425.00</td>\n",
       "      <td>324.29</td>\n",
       "      <td>818.86</td>\n",
       "      <td>7.58</td>\n",
       "      <td>31.06</td>\n",
       "      <td>26395.33</td>\n",
       "      <td>30154.39</td>\n",
       "    </tr>\n",
       "    <tr>\n",
       "      <th>6</th>\n",
       "      <td>Abril</td>\n",
       "      <td>ESCOLA AF</td>\n",
       "      <td>2287.47</td>\n",
       "      <td>760.00</td>\n",
       "      <td>514.29</td>\n",
       "      <td>1945.57</td>\n",
       "      <td>17.57</td>\n",
       "      <td>47.78</td>\n",
       "      <td>66932.79</td>\n",
       "      <td>82921.66</td>\n",
       "    </tr>\n",
       "    <tr>\n",
       "      <th>7</th>\n",
       "      <td>Abril</td>\n",
       "      <td>ESCOLA AG</td>\n",
       "      <td>1564.05</td>\n",
       "      <td>920.00</td>\n",
       "      <td>788.57</td>\n",
       "      <td>1682.57</td>\n",
       "      <td>-7.04</td>\n",
       "      <td>16.67</td>\n",
       "      <td>67239.72</td>\n",
       "      <td>67591.00</td>\n",
       "    </tr>\n",
       "    <tr>\n",
       "      <th>8</th>\n",
       "      <td>Abril</td>\n",
       "      <td>ESCOLA AH</td>\n",
       "      <td>1885.50</td>\n",
       "      <td>1535.00</td>\n",
       "      <td>1315.71</td>\n",
       "      <td>1718.14</td>\n",
       "      <td>9.74</td>\n",
       "      <td>16.67</td>\n",
       "      <td>70051.60</td>\n",
       "      <td>78979.34</td>\n",
       "    </tr>\n",
       "    <tr>\n",
       "      <th>9</th>\n",
       "      <td>Abril</td>\n",
       "      <td>ESCOLA AI</td>\n",
       "      <td>1543.10</td>\n",
       "      <td>1040.00</td>\n",
       "      <td>800.71</td>\n",
       "      <td>1485.71</td>\n",
       "      <td>3.86</td>\n",
       "      <td>29.88</td>\n",
       "      <td>52793.44</td>\n",
       "      <td>59643.78</td>\n",
       "    </tr>\n",
       "  </tbody>\n",
       "</table>\n",
       "</div>"
      ],
      "text/plain": [
       "     Mês      Escola  CH Regência Escola  CH Sem Regência Escola  \\\n",
       "0  Abril  ESCOLA  AE             1192.40                  513.34   \n",
       "1  Abril    ESCOLA A             1641.37                  630.00   \n",
       "2  Abril   ESCOLA AA             1378.50                  330.83   \n",
       "3  Abril   ESCOLA AB             3027.83                  806.66   \n",
       "4  Abril   ESCOLA AC             1583.25                  280.00   \n",
       "5  Abril   ESCOLA AD              880.95                  425.00   \n",
       "6  Abril   ESCOLA AF             2287.47                  760.00   \n",
       "7  Abril   ESCOLA AG             1564.05                  920.00   \n",
       "8  Abril   ESCOLA AH             1885.50                 1535.00   \n",
       "9  Abril   ESCOLA AI             1543.10                 1040.00   \n",
       "\n",
       "   CH Sem Regência Governo  CH Regência Governo  % Diferença CH Regência  \\\n",
       "0                   417.14              1148.00                     3.87   \n",
       "1                   497.14              1417.71                    15.78   \n",
       "2                   282.86              1204.00                    14.49   \n",
       "3                   651.43              2893.14                     4.66   \n",
       "4                   240.00              1428.14                    10.86   \n",
       "5                   324.29               818.86                     7.58   \n",
       "6                   514.29              1945.57                    17.57   \n",
       "7                   788.57              1682.57                    -7.04   \n",
       "8                  1315.71              1718.14                     9.74   \n",
       "9                   800.71              1485.71                     3.86   \n",
       "\n",
       "   % Diferença CH Sem Regência  Valor Pago Governo  Valor Pago Escola  \n",
       "0                        23.06                 NaN                NaN  \n",
       "1                        26.72            56047.66           66483.00  \n",
       "2                        16.96            40457.46           46510.87  \n",
       "3                        23.83            96447.75          104336.47  \n",
       "4                        16.67            48826.46           54537.33  \n",
       "5                        31.06            26395.33           30154.39  \n",
       "6                        47.78            66932.79           82921.66  \n",
       "7                        16.67            67239.72           67591.00  \n",
       "8                        16.67            70051.60           78979.34  \n",
       "9                        29.88            52793.44           59643.78  "
      ]
     },
     "execution_count": 267,
     "metadata": {},
     "output_type": "execute_result"
    }
   ],
   "source": [
    "# Remove espaços extras nos nomes das escolas\n",
    "df_comparativo['Escola'] = df_comparativo['Escola'].str.strip()\n",
    "\n",
    "# Cria colunas inicialmente vazias\n",
    "df_comparativo['Valor Pago Governo'] = None\n",
    "df_comparativo['Valor Pago Escola'] = None\n",
    "\n",
    "# Dicionário com valores por escola\n",
    "valores_por_escola = {\n",
    "    'ESCOLA Z': 23.09, 'ESCOLA N': 29.27, 'ESCOLA O': 29.27, 'ESCOLA E': 29.27,\n",
    "    'ESCOLA F': 27.21, 'ESCOLA G': 23.09, 'ESCOLA A': 29.27, 'ESCOLA B': 23.09,\n",
    "    'ESCOLA C': 29.27, 'ESCOLA D': 29.27, 'ESCOLA H': 27.21, 'ESCOLA M': 27.21,\n",
    "    'ESCOLA I': 31.39, 'ESCOLA J': 29.27, 'ESCOLA K': 23.09, 'ESCOLA L': 27.21,\n",
    "    'ESCOLA Y': 27.21, 'ESCOLA P': 23.09, 'ESCOLA Q': 23.09, 'ESCOLA R': 29.27,\n",
    "    'ESCOLA S': 31.39, 'ESCOLA U': 23.09, 'ESCOLA W': 23.09, 'ESCOLA AC': 29.27,\n",
    "    'ESCOLA AD': 23.09, 'ESCOLA AB': 27.21, 'ESCOLA AI': 23.09, 'ESCOLA AE': 31.39,\n",
    "    'ESCOLA AF': 27.21, 'ESCOLA AH': 23.09, 'ESCOLA AG': 27.21, 'ESCOLA AA': 27.21\n",
    "}\n",
    "\n",
    "# Aplica os cálculos\n",
    "df_comparativo['Valor Pago Governo'] = (\n",
    "    df_comparativo['CH Regência Governo'] + df_comparativo['CH Sem Regência Governo']\n",
    ") * df_comparativo['Escola'].map(valores_por_escola)\n",
    "\n",
    "df_comparativo['Valor Pago Escola'] = (\n",
    "    df_comparativo['CH Regência Escola'] + df_comparativo['CH Sem Regência Escola']\n",
    ") * df_comparativo['Escola'].map(valores_por_escola)\n",
    "\n",
    "# Arredonda os valores\n",
    "df_comparativo['Valor Pago Governo'] = df_comparativo['Valor Pago Governo'].round(2)\n",
    "df_comparativo['Valor Pago Escola'] = df_comparativo['Valor Pago Escola'].round(2)\n",
    "\n",
    "# Visualiza os primeiros registros\n",
    "df_comparativo.head(10)\n"
   ]
  },
  {
   "cell_type": "code",
   "execution_count": 273,
   "id": "20cf360f",
   "metadata": {},
   "outputs": [
    {
     "data": {
      "application/vnd.plotly.v1+json": {
       "config": {
        "plotlyServerURL": "https://plot.ly"
       },
       "data": [
        {
         "alignmentgroup": "True",
         "hovertemplate": "Mês=Abril<br>Escola=%{x}<br>Valor Pago Escola=%{y}<extra></extra>",
         "legendgroup": "Abril",
         "marker": {
          "color": "#636efa",
          "pattern": {
           "shape": ""
          }
         },
         "name": "Abril",
         "offsetgroup": "Abril",
         "orientation": "v",
         "showlegend": true,
         "textposition": "auto",
         "type": "bar",
         "x": [
          "ESCOLA  AE",
          "ESCOLA A",
          "ESCOLA AA",
          "ESCOLA AB",
          "ESCOLA AC",
          "ESCOLA AD",
          "ESCOLA AF",
          "ESCOLA AG",
          "ESCOLA AH",
          "ESCOLA AI",
          "ESCOLA B",
          "ESCOLA C",
          "ESCOLA D",
          "ESCOLA E",
          "ESCOLA F",
          "ESCOLA G",
          "ESCOLA H",
          "ESCOLA I",
          "ESCOLA J",
          "ESCOLA K",
          "ESCOLA L",
          "ESCOLA M",
          "ESCOLA N",
          "ESCOLA O",
          "ESCOLA P",
          "ESCOLA Q",
          "ESCOLA R",
          "ESCOLA S",
          "ESCOLA U",
          "ESCOLA W",
          "ESCOLA Y",
          "ESCOLA Z"
         ],
         "xaxis": "x",
         "y": [
          null,
          66483,
          46510.87,
          104336.47,
          54537.33,
          30154.39,
          82921.66,
          67591,
          78979.34,
          59643.78,
          64130.17,
          62218.36,
          70152.87,
          89151.44,
          86500.59,
          86042.58,
          110346.89,
          80141.81,
          84676.65,
          47253.68,
          58730.06,
          67815.76,
          98791.52,
          71184.64,
          93965.91,
          69988.79,
          65942.38,
          78048.1,
          102964.08,
          65627.55,
          101538.2,
          66598.49
         ],
         "yaxis": "y"
        },
        {
         "alignmentgroup": "True",
         "hovertemplate": "Mês=Fevereiro<br>Escola=%{x}<br>Valor Pago Escola=%{y}<extra></extra>",
         "legendgroup": "Fevereiro",
         "marker": {
          "color": "#EF553B",
          "pattern": {
           "shape": ""
          }
         },
         "name": "Fevereiro",
         "offsetgroup": "Fevereiro",
         "orientation": "v",
         "showlegend": true,
         "textposition": "auto",
         "type": "bar",
         "x": [
          "ESCOLA  AE",
          "ESCOLA A",
          "ESCOLA AA",
          "ESCOLA AB",
          "ESCOLA AC",
          "ESCOLA AD",
          "ESCOLA AF",
          "ESCOLA AG",
          "ESCOLA AH",
          "ESCOLA AI",
          "ESCOLA B",
          "ESCOLA C",
          "ESCOLA D",
          "ESCOLA E",
          "ESCOLA F",
          "ESCOLA G",
          "ESCOLA H",
          "ESCOLA I",
          "ESCOLA J",
          "ESCOLA K",
          "ESCOLA L",
          "ESCOLA M",
          "ESCOLA N",
          "ESCOLA O",
          "ESCOLA P",
          "ESCOLA Q",
          "ESCOLA R",
          "ESCOLA S",
          "ESCOLA U",
          "ESCOLA W",
          "ESCOLA Y",
          "ESCOLA Z"
         ],
         "xaxis": "x",
         "y": [
          null,
          56422.61,
          40061.83,
          94534.07,
          54691,
          28737.35,
          84257.94,
          64473.82,
          68096.57,
          54423.36,
          53659.77,
          59969.84,
          61052.24,
          78409.06,
          84321.34,
          110561.85,
          105261.34,
          67539.35,
          77683.46,
          41366.66,
          51109.63,
          63631.4,
          91039.07,
          68105.73,
          79557.98,
          56715.04,
          64122.67,
          72531.62,
          92964.03,
          52837.31,
          85680.48,
          62388.95
         ],
         "yaxis": "y"
        },
        {
         "alignmentgroup": "True",
         "hovertemplate": "Mês=Março<br>Escola=%{x}<br>Valor Pago Escola=%{y}<extra></extra>",
         "legendgroup": "Março",
         "marker": {
          "color": "#00cc96",
          "pattern": {
           "shape": ""
          }
         },
         "name": "Março",
         "offsetgroup": "Março",
         "orientation": "v",
         "showlegend": true,
         "textposition": "auto",
         "type": "bar",
         "x": [
          "ESCOLA  AE",
          "ESCOLA A",
          "ESCOLA AA",
          "ESCOLA AB",
          "ESCOLA AC",
          "ESCOLA AD",
          "ESCOLA AF",
          "ESCOLA AG",
          "ESCOLA AH",
          "ESCOLA AI",
          "ESCOLA B",
          "ESCOLA C",
          "ESCOLA D",
          "ESCOLA E",
          "ESCOLA F",
          "ESCOLA G",
          "ESCOLA H",
          "ESCOLA I",
          "ESCOLA J",
          "ESCOLA K",
          "ESCOLA L",
          "ESCOLA M",
          "ESCOLA N",
          "ESCOLA O",
          "ESCOLA P",
          "ESCOLA Q",
          "ESCOLA R",
          "ESCOLA S",
          "ESCOLA U",
          "ESCOLA W",
          "ESCOLA Y",
          "ESCOLA Z"
         ],
         "xaxis": "x",
         "y": [
          null,
          63315.4,
          43570.01,
          97502.14,
          53440.87,
          29843.82,
          81836.8,
          66229.14,
          75730.35,
          58283.09,
          61611.74,
          63577.37,
          65959.94,
          78865.09,
          89371.25,
          87362.63,
          101644.86,
          72923.68,
          81604.76,
          46593.31,
          54784.61,
          61542.22,
          93302.52,
          67910.79,
          87399.58,
          61084.83,
          66208.74,
          71752.83,
          97358.98,
          55962.54,
          95424.65,
          66967.23
         ],
         "yaxis": "y"
        }
       ],
       "layout": {
        "barmode": "group",
        "legend": {
         "title": {
          "text": "Mês"
         },
         "tracegroupgap": 0
        },
        "template": {
         "data": {
          "bar": [
           {
            "error_x": {
             "color": "#2a3f5f"
            },
            "error_y": {
             "color": "#2a3f5f"
            },
            "marker": {
             "line": {
              "color": "#E5ECF6",
              "width": 0.5
             },
             "pattern": {
              "fillmode": "overlay",
              "size": 10,
              "solidity": 0.2
             }
            },
            "type": "bar"
           }
          ],
          "barpolar": [
           {
            "marker": {
             "line": {
              "color": "#E5ECF6",
              "width": 0.5
             },
             "pattern": {
              "fillmode": "overlay",
              "size": 10,
              "solidity": 0.2
             }
            },
            "type": "barpolar"
           }
          ],
          "carpet": [
           {
            "aaxis": {
             "endlinecolor": "#2a3f5f",
             "gridcolor": "white",
             "linecolor": "white",
             "minorgridcolor": "white",
             "startlinecolor": "#2a3f5f"
            },
            "baxis": {
             "endlinecolor": "#2a3f5f",
             "gridcolor": "white",
             "linecolor": "white",
             "minorgridcolor": "white",
             "startlinecolor": "#2a3f5f"
            },
            "type": "carpet"
           }
          ],
          "choropleth": [
           {
            "colorbar": {
             "outlinewidth": 0,
             "ticks": ""
            },
            "type": "choropleth"
           }
          ],
          "contour": [
           {
            "colorbar": {
             "outlinewidth": 0,
             "ticks": ""
            },
            "colorscale": [
             [
              0,
              "#0d0887"
             ],
             [
              0.1111111111111111,
              "#46039f"
             ],
             [
              0.2222222222222222,
              "#7201a8"
             ],
             [
              0.3333333333333333,
              "#9c179e"
             ],
             [
              0.4444444444444444,
              "#bd3786"
             ],
             [
              0.5555555555555556,
              "#d8576b"
             ],
             [
              0.6666666666666666,
              "#ed7953"
             ],
             [
              0.7777777777777778,
              "#fb9f3a"
             ],
             [
              0.8888888888888888,
              "#fdca26"
             ],
             [
              1,
              "#f0f921"
             ]
            ],
            "type": "contour"
           }
          ],
          "contourcarpet": [
           {
            "colorbar": {
             "outlinewidth": 0,
             "ticks": ""
            },
            "type": "contourcarpet"
           }
          ],
          "heatmap": [
           {
            "colorbar": {
             "outlinewidth": 0,
             "ticks": ""
            },
            "colorscale": [
             [
              0,
              "#0d0887"
             ],
             [
              0.1111111111111111,
              "#46039f"
             ],
             [
              0.2222222222222222,
              "#7201a8"
             ],
             [
              0.3333333333333333,
              "#9c179e"
             ],
             [
              0.4444444444444444,
              "#bd3786"
             ],
             [
              0.5555555555555556,
              "#d8576b"
             ],
             [
              0.6666666666666666,
              "#ed7953"
             ],
             [
              0.7777777777777778,
              "#fb9f3a"
             ],
             [
              0.8888888888888888,
              "#fdca26"
             ],
             [
              1,
              "#f0f921"
             ]
            ],
            "type": "heatmap"
           }
          ],
          "heatmapgl": [
           {
            "colorbar": {
             "outlinewidth": 0,
             "ticks": ""
            },
            "colorscale": [
             [
              0,
              "#0d0887"
             ],
             [
              0.1111111111111111,
              "#46039f"
             ],
             [
              0.2222222222222222,
              "#7201a8"
             ],
             [
              0.3333333333333333,
              "#9c179e"
             ],
             [
              0.4444444444444444,
              "#bd3786"
             ],
             [
              0.5555555555555556,
              "#d8576b"
             ],
             [
              0.6666666666666666,
              "#ed7953"
             ],
             [
              0.7777777777777778,
              "#fb9f3a"
             ],
             [
              0.8888888888888888,
              "#fdca26"
             ],
             [
              1,
              "#f0f921"
             ]
            ],
            "type": "heatmapgl"
           }
          ],
          "histogram": [
           {
            "marker": {
             "pattern": {
              "fillmode": "overlay",
              "size": 10,
              "solidity": 0.2
             }
            },
            "type": "histogram"
           }
          ],
          "histogram2d": [
           {
            "colorbar": {
             "outlinewidth": 0,
             "ticks": ""
            },
            "colorscale": [
             [
              0,
              "#0d0887"
             ],
             [
              0.1111111111111111,
              "#46039f"
             ],
             [
              0.2222222222222222,
              "#7201a8"
             ],
             [
              0.3333333333333333,
              "#9c179e"
             ],
             [
              0.4444444444444444,
              "#bd3786"
             ],
             [
              0.5555555555555556,
              "#d8576b"
             ],
             [
              0.6666666666666666,
              "#ed7953"
             ],
             [
              0.7777777777777778,
              "#fb9f3a"
             ],
             [
              0.8888888888888888,
              "#fdca26"
             ],
             [
              1,
              "#f0f921"
             ]
            ],
            "type": "histogram2d"
           }
          ],
          "histogram2dcontour": [
           {
            "colorbar": {
             "outlinewidth": 0,
             "ticks": ""
            },
            "colorscale": [
             [
              0,
              "#0d0887"
             ],
             [
              0.1111111111111111,
              "#46039f"
             ],
             [
              0.2222222222222222,
              "#7201a8"
             ],
             [
              0.3333333333333333,
              "#9c179e"
             ],
             [
              0.4444444444444444,
              "#bd3786"
             ],
             [
              0.5555555555555556,
              "#d8576b"
             ],
             [
              0.6666666666666666,
              "#ed7953"
             ],
             [
              0.7777777777777778,
              "#fb9f3a"
             ],
             [
              0.8888888888888888,
              "#fdca26"
             ],
             [
              1,
              "#f0f921"
             ]
            ],
            "type": "histogram2dcontour"
           }
          ],
          "mesh3d": [
           {
            "colorbar": {
             "outlinewidth": 0,
             "ticks": ""
            },
            "type": "mesh3d"
           }
          ],
          "parcoords": [
           {
            "line": {
             "colorbar": {
              "outlinewidth": 0,
              "ticks": ""
             }
            },
            "type": "parcoords"
           }
          ],
          "pie": [
           {
            "automargin": true,
            "type": "pie"
           }
          ],
          "scatter": [
           {
            "fillpattern": {
             "fillmode": "overlay",
             "size": 10,
             "solidity": 0.2
            },
            "type": "scatter"
           }
          ],
          "scatter3d": [
           {
            "line": {
             "colorbar": {
              "outlinewidth": 0,
              "ticks": ""
             }
            },
            "marker": {
             "colorbar": {
              "outlinewidth": 0,
              "ticks": ""
             }
            },
            "type": "scatter3d"
           }
          ],
          "scattercarpet": [
           {
            "marker": {
             "colorbar": {
              "outlinewidth": 0,
              "ticks": ""
             }
            },
            "type": "scattercarpet"
           }
          ],
          "scattergeo": [
           {
            "marker": {
             "colorbar": {
              "outlinewidth": 0,
              "ticks": ""
             }
            },
            "type": "scattergeo"
           }
          ],
          "scattergl": [
           {
            "marker": {
             "colorbar": {
              "outlinewidth": 0,
              "ticks": ""
             }
            },
            "type": "scattergl"
           }
          ],
          "scattermapbox": [
           {
            "marker": {
             "colorbar": {
              "outlinewidth": 0,
              "ticks": ""
             }
            },
            "type": "scattermapbox"
           }
          ],
          "scatterpolar": [
           {
            "marker": {
             "colorbar": {
              "outlinewidth": 0,
              "ticks": ""
             }
            },
            "type": "scatterpolar"
           }
          ],
          "scatterpolargl": [
           {
            "marker": {
             "colorbar": {
              "outlinewidth": 0,
              "ticks": ""
             }
            },
            "type": "scatterpolargl"
           }
          ],
          "scatterternary": [
           {
            "marker": {
             "colorbar": {
              "outlinewidth": 0,
              "ticks": ""
             }
            },
            "type": "scatterternary"
           }
          ],
          "surface": [
           {
            "colorbar": {
             "outlinewidth": 0,
             "ticks": ""
            },
            "colorscale": [
             [
              0,
              "#0d0887"
             ],
             [
              0.1111111111111111,
              "#46039f"
             ],
             [
              0.2222222222222222,
              "#7201a8"
             ],
             [
              0.3333333333333333,
              "#9c179e"
             ],
             [
              0.4444444444444444,
              "#bd3786"
             ],
             [
              0.5555555555555556,
              "#d8576b"
             ],
             [
              0.6666666666666666,
              "#ed7953"
             ],
             [
              0.7777777777777778,
              "#fb9f3a"
             ],
             [
              0.8888888888888888,
              "#fdca26"
             ],
             [
              1,
              "#f0f921"
             ]
            ],
            "type": "surface"
           }
          ],
          "table": [
           {
            "cells": {
             "fill": {
              "color": "#EBF0F8"
             },
             "line": {
              "color": "white"
             }
            },
            "header": {
             "fill": {
              "color": "#C8D4E3"
             },
             "line": {
              "color": "white"
             }
            },
            "type": "table"
           }
          ]
         },
         "layout": {
          "annotationdefaults": {
           "arrowcolor": "#2a3f5f",
           "arrowhead": 0,
           "arrowwidth": 1
          },
          "autotypenumbers": "strict",
          "coloraxis": {
           "colorbar": {
            "outlinewidth": 0,
            "ticks": ""
           }
          },
          "colorscale": {
           "diverging": [
            [
             0,
             "#8e0152"
            ],
            [
             0.1,
             "#c51b7d"
            ],
            [
             0.2,
             "#de77ae"
            ],
            [
             0.3,
             "#f1b6da"
            ],
            [
             0.4,
             "#fde0ef"
            ],
            [
             0.5,
             "#f7f7f7"
            ],
            [
             0.6,
             "#e6f5d0"
            ],
            [
             0.7,
             "#b8e186"
            ],
            [
             0.8,
             "#7fbc41"
            ],
            [
             0.9,
             "#4d9221"
            ],
            [
             1,
             "#276419"
            ]
           ],
           "sequential": [
            [
             0,
             "#0d0887"
            ],
            [
             0.1111111111111111,
             "#46039f"
            ],
            [
             0.2222222222222222,
             "#7201a8"
            ],
            [
             0.3333333333333333,
             "#9c179e"
            ],
            [
             0.4444444444444444,
             "#bd3786"
            ],
            [
             0.5555555555555556,
             "#d8576b"
            ],
            [
             0.6666666666666666,
             "#ed7953"
            ],
            [
             0.7777777777777778,
             "#fb9f3a"
            ],
            [
             0.8888888888888888,
             "#fdca26"
            ],
            [
             1,
             "#f0f921"
            ]
           ],
           "sequentialminus": [
            [
             0,
             "#0d0887"
            ],
            [
             0.1111111111111111,
             "#46039f"
            ],
            [
             0.2222222222222222,
             "#7201a8"
            ],
            [
             0.3333333333333333,
             "#9c179e"
            ],
            [
             0.4444444444444444,
             "#bd3786"
            ],
            [
             0.5555555555555556,
             "#d8576b"
            ],
            [
             0.6666666666666666,
             "#ed7953"
            ],
            [
             0.7777777777777778,
             "#fb9f3a"
            ],
            [
             0.8888888888888888,
             "#fdca26"
            ],
            [
             1,
             "#f0f921"
            ]
           ]
          },
          "colorway": [
           "#636efa",
           "#EF553B",
           "#00cc96",
           "#ab63fa",
           "#FFA15A",
           "#19d3f3",
           "#FF6692",
           "#B6E880",
           "#FF97FF",
           "#FECB52"
          ],
          "font": {
           "color": "#2a3f5f"
          },
          "geo": {
           "bgcolor": "white",
           "lakecolor": "white",
           "landcolor": "#E5ECF6",
           "showlakes": true,
           "showland": true,
           "subunitcolor": "white"
          },
          "hoverlabel": {
           "align": "left"
          },
          "hovermode": "closest",
          "mapbox": {
           "style": "light"
          },
          "paper_bgcolor": "white",
          "plot_bgcolor": "#E5ECF6",
          "polar": {
           "angularaxis": {
            "gridcolor": "white",
            "linecolor": "white",
            "ticks": ""
           },
           "bgcolor": "#E5ECF6",
           "radialaxis": {
            "gridcolor": "white",
            "linecolor": "white",
            "ticks": ""
           }
          },
          "scene": {
           "xaxis": {
            "backgroundcolor": "#E5ECF6",
            "gridcolor": "white",
            "gridwidth": 2,
            "linecolor": "white",
            "showbackground": true,
            "ticks": "",
            "zerolinecolor": "white"
           },
           "yaxis": {
            "backgroundcolor": "#E5ECF6",
            "gridcolor": "white",
            "gridwidth": 2,
            "linecolor": "white",
            "showbackground": true,
            "ticks": "",
            "zerolinecolor": "white"
           },
           "zaxis": {
            "backgroundcolor": "#E5ECF6",
            "gridcolor": "white",
            "gridwidth": 2,
            "linecolor": "white",
            "showbackground": true,
            "ticks": "",
            "zerolinecolor": "white"
           }
          },
          "shapedefaults": {
           "line": {
            "color": "#2a3f5f"
           }
          },
          "ternary": {
           "aaxis": {
            "gridcolor": "white",
            "linecolor": "white",
            "ticks": ""
           },
           "baxis": {
            "gridcolor": "white",
            "linecolor": "white",
            "ticks": ""
           },
           "bgcolor": "#E5ECF6",
           "caxis": {
            "gridcolor": "white",
            "linecolor": "white",
            "ticks": ""
           }
          },
          "title": {
           "x": 0.05
          },
          "xaxis": {
           "automargin": true,
           "gridcolor": "white",
           "linecolor": "white",
           "ticks": "",
           "title": {
            "standoff": 15
           },
           "zerolinecolor": "white",
           "zerolinewidth": 2
          },
          "yaxis": {
           "automargin": true,
           "gridcolor": "white",
           "linecolor": "white",
           "ticks": "",
           "title": {
            "standoff": 15
           },
           "zerolinecolor": "white",
           "zerolinewidth": 2
          }
         }
        },
        "title": {
         "text": "Valor Pago por Escola e Mês"
        },
        "xaxis": {
         "anchor": "y",
         "domain": [
          0,
          1
         ],
         "title": {
          "text": "Escola"
         }
        },
        "yaxis": {
         "anchor": "x",
         "domain": [
          0,
          1
         ],
         "title": {
          "text": "Valor Pago Escola"
         }
        }
       }
      }
     },
     "metadata": {},
     "output_type": "display_data"
    },
    {
     "data": {
      "application/vnd.plotly.v1+json": {
       "config": {
        "plotlyServerURL": "https://plot.ly"
       },
       "data": [
        {
         "alignmentgroup": "True",
         "hovertemplate": "Mês=Abril<br>Escola=%{x}<br>Valor Pago Governo=%{y}<extra></extra>",
         "legendgroup": "Abril",
         "marker": {
          "color": "#636efa",
          "pattern": {
           "shape": ""
          }
         },
         "name": "Abril",
         "offsetgroup": "Abril",
         "orientation": "v",
         "showlegend": true,
         "textposition": "auto",
         "type": "bar",
         "x": [
          "ESCOLA  AE",
          "ESCOLA A",
          "ESCOLA AA",
          "ESCOLA AB",
          "ESCOLA AC",
          "ESCOLA AD",
          "ESCOLA AF",
          "ESCOLA AG",
          "ESCOLA AH",
          "ESCOLA AI",
          "ESCOLA B",
          "ESCOLA C",
          "ESCOLA D",
          "ESCOLA E",
          "ESCOLA F",
          "ESCOLA G",
          "ESCOLA H",
          "ESCOLA I",
          "ESCOLA J",
          "ESCOLA K",
          "ESCOLA L",
          "ESCOLA M",
          "ESCOLA N",
          "ESCOLA O",
          "ESCOLA P",
          "ESCOLA Q",
          "ESCOLA R",
          "ESCOLA S",
          "ESCOLA U",
          "ESCOLA W",
          "ESCOLA Y",
          "ESCOLA Z"
         ],
         "xaxis": "x",
         "y": [
          null,
          56047.66,
          40457.46,
          96447.75,
          48826.46,
          26395.33,
          66932.79,
          67239.72,
          70051.6,
          52793.44,
          56217.68,
          57482.18,
          59376.24,
          81291.28,
          63224.34,
          73874.84,
          93516.69,
          69187.95,
          71464.75,
          42056.82,
          55255.62,
          61385.76,
          85727.44,
          78978.95,
          82757.79,
          60578.23,
          57595.16,
          67847.29,
          99771.89,
          54525.42,
          88090.47,
          59321.44
         ],
         "yaxis": "y"
        },
        {
         "alignmentgroup": "True",
         "hovertemplate": "Mês=Fevereiro<br>Escola=%{x}<br>Valor Pago Governo=%{y}<extra></extra>",
         "legendgroup": "Fevereiro",
         "marker": {
          "color": "#EF553B",
          "pattern": {
           "shape": ""
          }
         },
         "name": "Fevereiro",
         "offsetgroup": "Fevereiro",
         "orientation": "v",
         "showlegend": true,
         "textposition": "auto",
         "type": "bar",
         "x": [
          "ESCOLA  AE",
          "ESCOLA A",
          "ESCOLA AA",
          "ESCOLA AB",
          "ESCOLA AC",
          "ESCOLA AD",
          "ESCOLA AF",
          "ESCOLA AG",
          "ESCOLA AH",
          "ESCOLA AI",
          "ESCOLA B",
          "ESCOLA C",
          "ESCOLA D",
          "ESCOLA E",
          "ESCOLA F",
          "ESCOLA G",
          "ESCOLA H",
          "ESCOLA I",
          "ESCOLA J",
          "ESCOLA K",
          "ESCOLA L",
          "ESCOLA M",
          "ESCOLA N",
          "ESCOLA O",
          "ESCOLA P",
          "ESCOLA Q",
          "ESCOLA R",
          "ESCOLA S",
          "ESCOLA U",
          "ESCOLA W",
          "ESCOLA Y",
          "ESCOLA Z"
         ],
         "xaxis": "x",
         "y": [
          null,
          42797.13,
          31132.05,
          70123.98,
          39255.17,
          22255.53,
          50027.49,
          51263.64,
          55036.63,
          45704.81,
          45573.19,
          48399.99,
          39175.85,
          62947.18,
          51644.58,
          63969.23,
          75282.18,
          51569.38,
          36951.33,
          33642.13,
          41149.41,
          49432.68,
          65949.41,
          55270.25,
          64751.06,
          43910.48,
          48362.24,
          59111.76,
          65288.59,
          44167.94,
          69770.25,
          48686.88
         ],
         "yaxis": "y"
        },
        {
         "alignmentgroup": "True",
         "hovertemplate": "Mês=Março<br>Escola=%{x}<br>Valor Pago Governo=%{y}<extra></extra>",
         "legendgroup": "Março",
         "marker": {
          "color": "#00cc96",
          "pattern": {
           "shape": ""
          }
         },
         "name": "Março",
         "offsetgroup": "Março",
         "orientation": "v",
         "showlegend": true,
         "textposition": "auto",
         "type": "bar",
         "x": [
          "ESCOLA  AE",
          "ESCOLA A",
          "ESCOLA AA",
          "ESCOLA AB",
          "ESCOLA AC",
          "ESCOLA AD",
          "ESCOLA AF",
          "ESCOLA AG",
          "ESCOLA AH",
          "ESCOLA AI",
          "ESCOLA B",
          "ESCOLA C",
          "ESCOLA D",
          "ESCOLA E",
          "ESCOLA F",
          "ESCOLA G",
          "ESCOLA H",
          "ESCOLA I",
          "ESCOLA J",
          "ESCOLA K",
          "ESCOLA L",
          "ESCOLA M",
          "ESCOLA N",
          "ESCOLA O",
          "ESCOLA P",
          "ESCOLA Q",
          "ESCOLA R",
          "ESCOLA S",
          "ESCOLA U",
          "ESCOLA W",
          "ESCOLA Y",
          "ESCOLA Z"
         ],
         "xaxis": "x",
         "y": [
          null,
          54977.26,
          39963.87,
          89726.88,
          50068.38,
          27899.42,
          63908.4,
          64036.83,
          68009.98,
          54683.82,
          55072.88,
          58000.55,
          54939.79,
          75035.69,
          62299.2,
          73907.63,
          90974.73,
          64371.79,
          49253.21,
          42370.15,
          52519.11,
          60565.65,
          83724.49,
          66309.14,
          78021.11,
          53601.82,
          59071.25,
          64425.78,
          77255.91,
          49059.55,
          88304.07,
          58618.81
         ],
         "yaxis": "y"
        }
       ],
       "layout": {
        "barmode": "group",
        "legend": {
         "title": {
          "text": "Mês"
         },
         "tracegroupgap": 0
        },
        "template": {
         "data": {
          "bar": [
           {
            "error_x": {
             "color": "#2a3f5f"
            },
            "error_y": {
             "color": "#2a3f5f"
            },
            "marker": {
             "line": {
              "color": "#E5ECF6",
              "width": 0.5
             },
             "pattern": {
              "fillmode": "overlay",
              "size": 10,
              "solidity": 0.2
             }
            },
            "type": "bar"
           }
          ],
          "barpolar": [
           {
            "marker": {
             "line": {
              "color": "#E5ECF6",
              "width": 0.5
             },
             "pattern": {
              "fillmode": "overlay",
              "size": 10,
              "solidity": 0.2
             }
            },
            "type": "barpolar"
           }
          ],
          "carpet": [
           {
            "aaxis": {
             "endlinecolor": "#2a3f5f",
             "gridcolor": "white",
             "linecolor": "white",
             "minorgridcolor": "white",
             "startlinecolor": "#2a3f5f"
            },
            "baxis": {
             "endlinecolor": "#2a3f5f",
             "gridcolor": "white",
             "linecolor": "white",
             "minorgridcolor": "white",
             "startlinecolor": "#2a3f5f"
            },
            "type": "carpet"
           }
          ],
          "choropleth": [
           {
            "colorbar": {
             "outlinewidth": 0,
             "ticks": ""
            },
            "type": "choropleth"
           }
          ],
          "contour": [
           {
            "colorbar": {
             "outlinewidth": 0,
             "ticks": ""
            },
            "colorscale": [
             [
              0,
              "#0d0887"
             ],
             [
              0.1111111111111111,
              "#46039f"
             ],
             [
              0.2222222222222222,
              "#7201a8"
             ],
             [
              0.3333333333333333,
              "#9c179e"
             ],
             [
              0.4444444444444444,
              "#bd3786"
             ],
             [
              0.5555555555555556,
              "#d8576b"
             ],
             [
              0.6666666666666666,
              "#ed7953"
             ],
             [
              0.7777777777777778,
              "#fb9f3a"
             ],
             [
              0.8888888888888888,
              "#fdca26"
             ],
             [
              1,
              "#f0f921"
             ]
            ],
            "type": "contour"
           }
          ],
          "contourcarpet": [
           {
            "colorbar": {
             "outlinewidth": 0,
             "ticks": ""
            },
            "type": "contourcarpet"
           }
          ],
          "heatmap": [
           {
            "colorbar": {
             "outlinewidth": 0,
             "ticks": ""
            },
            "colorscale": [
             [
              0,
              "#0d0887"
             ],
             [
              0.1111111111111111,
              "#46039f"
             ],
             [
              0.2222222222222222,
              "#7201a8"
             ],
             [
              0.3333333333333333,
              "#9c179e"
             ],
             [
              0.4444444444444444,
              "#bd3786"
             ],
             [
              0.5555555555555556,
              "#d8576b"
             ],
             [
              0.6666666666666666,
              "#ed7953"
             ],
             [
              0.7777777777777778,
              "#fb9f3a"
             ],
             [
              0.8888888888888888,
              "#fdca26"
             ],
             [
              1,
              "#f0f921"
             ]
            ],
            "type": "heatmap"
           }
          ],
          "heatmapgl": [
           {
            "colorbar": {
             "outlinewidth": 0,
             "ticks": ""
            },
            "colorscale": [
             [
              0,
              "#0d0887"
             ],
             [
              0.1111111111111111,
              "#46039f"
             ],
             [
              0.2222222222222222,
              "#7201a8"
             ],
             [
              0.3333333333333333,
              "#9c179e"
             ],
             [
              0.4444444444444444,
              "#bd3786"
             ],
             [
              0.5555555555555556,
              "#d8576b"
             ],
             [
              0.6666666666666666,
              "#ed7953"
             ],
             [
              0.7777777777777778,
              "#fb9f3a"
             ],
             [
              0.8888888888888888,
              "#fdca26"
             ],
             [
              1,
              "#f0f921"
             ]
            ],
            "type": "heatmapgl"
           }
          ],
          "histogram": [
           {
            "marker": {
             "pattern": {
              "fillmode": "overlay",
              "size": 10,
              "solidity": 0.2
             }
            },
            "type": "histogram"
           }
          ],
          "histogram2d": [
           {
            "colorbar": {
             "outlinewidth": 0,
             "ticks": ""
            },
            "colorscale": [
             [
              0,
              "#0d0887"
             ],
             [
              0.1111111111111111,
              "#46039f"
             ],
             [
              0.2222222222222222,
              "#7201a8"
             ],
             [
              0.3333333333333333,
              "#9c179e"
             ],
             [
              0.4444444444444444,
              "#bd3786"
             ],
             [
              0.5555555555555556,
              "#d8576b"
             ],
             [
              0.6666666666666666,
              "#ed7953"
             ],
             [
              0.7777777777777778,
              "#fb9f3a"
             ],
             [
              0.8888888888888888,
              "#fdca26"
             ],
             [
              1,
              "#f0f921"
             ]
            ],
            "type": "histogram2d"
           }
          ],
          "histogram2dcontour": [
           {
            "colorbar": {
             "outlinewidth": 0,
             "ticks": ""
            },
            "colorscale": [
             [
              0,
              "#0d0887"
             ],
             [
              0.1111111111111111,
              "#46039f"
             ],
             [
              0.2222222222222222,
              "#7201a8"
             ],
             [
              0.3333333333333333,
              "#9c179e"
             ],
             [
              0.4444444444444444,
              "#bd3786"
             ],
             [
              0.5555555555555556,
              "#d8576b"
             ],
             [
              0.6666666666666666,
              "#ed7953"
             ],
             [
              0.7777777777777778,
              "#fb9f3a"
             ],
             [
              0.8888888888888888,
              "#fdca26"
             ],
             [
              1,
              "#f0f921"
             ]
            ],
            "type": "histogram2dcontour"
           }
          ],
          "mesh3d": [
           {
            "colorbar": {
             "outlinewidth": 0,
             "ticks": ""
            },
            "type": "mesh3d"
           }
          ],
          "parcoords": [
           {
            "line": {
             "colorbar": {
              "outlinewidth": 0,
              "ticks": ""
             }
            },
            "type": "parcoords"
           }
          ],
          "pie": [
           {
            "automargin": true,
            "type": "pie"
           }
          ],
          "scatter": [
           {
            "fillpattern": {
             "fillmode": "overlay",
             "size": 10,
             "solidity": 0.2
            },
            "type": "scatter"
           }
          ],
          "scatter3d": [
           {
            "line": {
             "colorbar": {
              "outlinewidth": 0,
              "ticks": ""
             }
            },
            "marker": {
             "colorbar": {
              "outlinewidth": 0,
              "ticks": ""
             }
            },
            "type": "scatter3d"
           }
          ],
          "scattercarpet": [
           {
            "marker": {
             "colorbar": {
              "outlinewidth": 0,
              "ticks": ""
             }
            },
            "type": "scattercarpet"
           }
          ],
          "scattergeo": [
           {
            "marker": {
             "colorbar": {
              "outlinewidth": 0,
              "ticks": ""
             }
            },
            "type": "scattergeo"
           }
          ],
          "scattergl": [
           {
            "marker": {
             "colorbar": {
              "outlinewidth": 0,
              "ticks": ""
             }
            },
            "type": "scattergl"
           }
          ],
          "scattermapbox": [
           {
            "marker": {
             "colorbar": {
              "outlinewidth": 0,
              "ticks": ""
             }
            },
            "type": "scattermapbox"
           }
          ],
          "scatterpolar": [
           {
            "marker": {
             "colorbar": {
              "outlinewidth": 0,
              "ticks": ""
             }
            },
            "type": "scatterpolar"
           }
          ],
          "scatterpolargl": [
           {
            "marker": {
             "colorbar": {
              "outlinewidth": 0,
              "ticks": ""
             }
            },
            "type": "scatterpolargl"
           }
          ],
          "scatterternary": [
           {
            "marker": {
             "colorbar": {
              "outlinewidth": 0,
              "ticks": ""
             }
            },
            "type": "scatterternary"
           }
          ],
          "surface": [
           {
            "colorbar": {
             "outlinewidth": 0,
             "ticks": ""
            },
            "colorscale": [
             [
              0,
              "#0d0887"
             ],
             [
              0.1111111111111111,
              "#46039f"
             ],
             [
              0.2222222222222222,
              "#7201a8"
             ],
             [
              0.3333333333333333,
              "#9c179e"
             ],
             [
              0.4444444444444444,
              "#bd3786"
             ],
             [
              0.5555555555555556,
              "#d8576b"
             ],
             [
              0.6666666666666666,
              "#ed7953"
             ],
             [
              0.7777777777777778,
              "#fb9f3a"
             ],
             [
              0.8888888888888888,
              "#fdca26"
             ],
             [
              1,
              "#f0f921"
             ]
            ],
            "type": "surface"
           }
          ],
          "table": [
           {
            "cells": {
             "fill": {
              "color": "#EBF0F8"
             },
             "line": {
              "color": "white"
             }
            },
            "header": {
             "fill": {
              "color": "#C8D4E3"
             },
             "line": {
              "color": "white"
             }
            },
            "type": "table"
           }
          ]
         },
         "layout": {
          "annotationdefaults": {
           "arrowcolor": "#2a3f5f",
           "arrowhead": 0,
           "arrowwidth": 1
          },
          "autotypenumbers": "strict",
          "coloraxis": {
           "colorbar": {
            "outlinewidth": 0,
            "ticks": ""
           }
          },
          "colorscale": {
           "diverging": [
            [
             0,
             "#8e0152"
            ],
            [
             0.1,
             "#c51b7d"
            ],
            [
             0.2,
             "#de77ae"
            ],
            [
             0.3,
             "#f1b6da"
            ],
            [
             0.4,
             "#fde0ef"
            ],
            [
             0.5,
             "#f7f7f7"
            ],
            [
             0.6,
             "#e6f5d0"
            ],
            [
             0.7,
             "#b8e186"
            ],
            [
             0.8,
             "#7fbc41"
            ],
            [
             0.9,
             "#4d9221"
            ],
            [
             1,
             "#276419"
            ]
           ],
           "sequential": [
            [
             0,
             "#0d0887"
            ],
            [
             0.1111111111111111,
             "#46039f"
            ],
            [
             0.2222222222222222,
             "#7201a8"
            ],
            [
             0.3333333333333333,
             "#9c179e"
            ],
            [
             0.4444444444444444,
             "#bd3786"
            ],
            [
             0.5555555555555556,
             "#d8576b"
            ],
            [
             0.6666666666666666,
             "#ed7953"
            ],
            [
             0.7777777777777778,
             "#fb9f3a"
            ],
            [
             0.8888888888888888,
             "#fdca26"
            ],
            [
             1,
             "#f0f921"
            ]
           ],
           "sequentialminus": [
            [
             0,
             "#0d0887"
            ],
            [
             0.1111111111111111,
             "#46039f"
            ],
            [
             0.2222222222222222,
             "#7201a8"
            ],
            [
             0.3333333333333333,
             "#9c179e"
            ],
            [
             0.4444444444444444,
             "#bd3786"
            ],
            [
             0.5555555555555556,
             "#d8576b"
            ],
            [
             0.6666666666666666,
             "#ed7953"
            ],
            [
             0.7777777777777778,
             "#fb9f3a"
            ],
            [
             0.8888888888888888,
             "#fdca26"
            ],
            [
             1,
             "#f0f921"
            ]
           ]
          },
          "colorway": [
           "#636efa",
           "#EF553B",
           "#00cc96",
           "#ab63fa",
           "#FFA15A",
           "#19d3f3",
           "#FF6692",
           "#B6E880",
           "#FF97FF",
           "#FECB52"
          ],
          "font": {
           "color": "#2a3f5f"
          },
          "geo": {
           "bgcolor": "white",
           "lakecolor": "white",
           "landcolor": "#E5ECF6",
           "showlakes": true,
           "showland": true,
           "subunitcolor": "white"
          },
          "hoverlabel": {
           "align": "left"
          },
          "hovermode": "closest",
          "mapbox": {
           "style": "light"
          },
          "paper_bgcolor": "white",
          "plot_bgcolor": "#E5ECF6",
          "polar": {
           "angularaxis": {
            "gridcolor": "white",
            "linecolor": "white",
            "ticks": ""
           },
           "bgcolor": "#E5ECF6",
           "radialaxis": {
            "gridcolor": "white",
            "linecolor": "white",
            "ticks": ""
           }
          },
          "scene": {
           "xaxis": {
            "backgroundcolor": "#E5ECF6",
            "gridcolor": "white",
            "gridwidth": 2,
            "linecolor": "white",
            "showbackground": true,
            "ticks": "",
            "zerolinecolor": "white"
           },
           "yaxis": {
            "backgroundcolor": "#E5ECF6",
            "gridcolor": "white",
            "gridwidth": 2,
            "linecolor": "white",
            "showbackground": true,
            "ticks": "",
            "zerolinecolor": "white"
           },
           "zaxis": {
            "backgroundcolor": "#E5ECF6",
            "gridcolor": "white",
            "gridwidth": 2,
            "linecolor": "white",
            "showbackground": true,
            "ticks": "",
            "zerolinecolor": "white"
           }
          },
          "shapedefaults": {
           "line": {
            "color": "#2a3f5f"
           }
          },
          "ternary": {
           "aaxis": {
            "gridcolor": "white",
            "linecolor": "white",
            "ticks": ""
           },
           "baxis": {
            "gridcolor": "white",
            "linecolor": "white",
            "ticks": ""
           },
           "bgcolor": "#E5ECF6",
           "caxis": {
            "gridcolor": "white",
            "linecolor": "white",
            "ticks": ""
           }
          },
          "title": {
           "x": 0.05
          },
          "xaxis": {
           "automargin": true,
           "gridcolor": "white",
           "linecolor": "white",
           "ticks": "",
           "title": {
            "standoff": 15
           },
           "zerolinecolor": "white",
           "zerolinewidth": 2
          },
          "yaxis": {
           "automargin": true,
           "gridcolor": "white",
           "linecolor": "white",
           "ticks": "",
           "title": {
            "standoff": 15
           },
           "zerolinecolor": "white",
           "zerolinewidth": 2
          }
         }
        },
        "title": {
         "text": "Valor Pago Governo por Escola e Mês"
        },
        "xaxis": {
         "anchor": "y",
         "domain": [
          0,
          1
         ],
         "title": {
          "text": "Escola"
         }
        },
        "yaxis": {
         "anchor": "x",
         "domain": [
          0,
          1
         ],
         "title": {
          "text": "Valor Pago Governo"
         }
        }
       }
      }
     },
     "metadata": {},
     "output_type": "display_data"
    },
    {
     "data": {
      "application/vnd.plotly.v1+json": {
       "config": {
        "plotlyServerURL": "https://plot.ly"
       },
       "data": [
        {
         "alignmentgroup": "True",
         "hovertemplate": "Mês=Abril<br>Escola=%{x}<br>Diferença=%{y}<extra></extra>",
         "legendgroup": "Abril",
         "marker": {
          "color": "#636efa",
          "pattern": {
           "shape": ""
          }
         },
         "name": "Abril",
         "offsetgroup": "Abril",
         "orientation": "v",
         "showlegend": true,
         "textposition": "auto",
         "type": "bar",
         "x": [
          "ESCOLA  AE",
          "ESCOLA A",
          "ESCOLA AA",
          "ESCOLA AB",
          "ESCOLA AC",
          "ESCOLA AD",
          "ESCOLA AF",
          "ESCOLA AG",
          "ESCOLA AH",
          "ESCOLA AI",
          "ESCOLA B",
          "ESCOLA C",
          "ESCOLA D",
          "ESCOLA E",
          "ESCOLA F",
          "ESCOLA G",
          "ESCOLA H",
          "ESCOLA I",
          "ESCOLA J",
          "ESCOLA K",
          "ESCOLA L",
          "ESCOLA M",
          "ESCOLA N",
          "ESCOLA O",
          "ESCOLA P",
          "ESCOLA Q",
          "ESCOLA R",
          "ESCOLA S",
          "ESCOLA U",
          "ESCOLA W",
          "ESCOLA Y",
          "ESCOLA Z"
         ],
         "xaxis": "x",
         "y": [
          null,
          10435.339999999997,
          6053.4100000000035,
          7888.720000000001,
          5710.870000000003,
          3759.0599999999977,
          15988.87000000001,
          351.27999999999884,
          8927.73999999999,
          6850.3399999999965,
          7912.489999999998,
          4736.18,
          10776.629999999997,
          7860.1600000000035,
          23276.25,
          12167.740000000005,
          16830.199999999997,
          10953.86,
          13211.899999999994,
          5196.860000000001,
          3474.439999999995,
          6429.999999999993,
          13064.080000000002,
          -7794.309999999998,
          11208.12000000001,
          9410.55999999999,
          8347.220000000001,
          10200.810000000012,
          3192.1900000000023,
          11102.130000000005,
          13447.729999999996,
          7277.050000000003
         ],
         "yaxis": "y"
        },
        {
         "alignmentgroup": "True",
         "hovertemplate": "Mês=Fevereiro<br>Escola=%{x}<br>Diferença=%{y}<extra></extra>",
         "legendgroup": "Fevereiro",
         "marker": {
          "color": "#EF553B",
          "pattern": {
           "shape": ""
          }
         },
         "name": "Fevereiro",
         "offsetgroup": "Fevereiro",
         "orientation": "v",
         "showlegend": true,
         "textposition": "auto",
         "type": "bar",
         "x": [
          "ESCOLA  AE",
          "ESCOLA A",
          "ESCOLA AA",
          "ESCOLA AB",
          "ESCOLA AC",
          "ESCOLA AD",
          "ESCOLA AF",
          "ESCOLA AG",
          "ESCOLA AH",
          "ESCOLA AI",
          "ESCOLA B",
          "ESCOLA C",
          "ESCOLA D",
          "ESCOLA E",
          "ESCOLA F",
          "ESCOLA G",
          "ESCOLA H",
          "ESCOLA I",
          "ESCOLA J",
          "ESCOLA K",
          "ESCOLA L",
          "ESCOLA M",
          "ESCOLA N",
          "ESCOLA O",
          "ESCOLA P",
          "ESCOLA Q",
          "ESCOLA R",
          "ESCOLA S",
          "ESCOLA U",
          "ESCOLA W",
          "ESCOLA Y",
          "ESCOLA Z"
         ],
         "xaxis": "x",
         "y": [
          null,
          13625.480000000003,
          8929.780000000002,
          24410.09000000001,
          15435.830000000002,
          6481.82,
          34230.450000000004,
          13210.18,
          13059.94000000001,
          8718.550000000003,
          8086.5799999999945,
          11569.849999999999,
          21876.39,
          15461.879999999997,
          32676.759999999995,
          46592.62,
          29979.160000000003,
          15969.970000000008,
          40732.130000000005,
          7724.530000000006,
          9960.219999999994,
          14198.720000000001,
          25089.660000000003,
          12835.479999999996,
          14806.919999999998,
          12804.559999999998,
          15760.43,
          13419.859999999993,
          27675.440000000002,
          8669.369999999995,
          15910.229999999996,
          13702.07
         ],
         "yaxis": "y"
        },
        {
         "alignmentgroup": "True",
         "hovertemplate": "Mês=Março<br>Escola=%{x}<br>Diferença=%{y}<extra></extra>",
         "legendgroup": "Março",
         "marker": {
          "color": "#00cc96",
          "pattern": {
           "shape": ""
          }
         },
         "name": "Março",
         "offsetgroup": "Março",
         "orientation": "v",
         "showlegend": true,
         "textposition": "auto",
         "type": "bar",
         "x": [
          "ESCOLA  AE",
          "ESCOLA A",
          "ESCOLA AA",
          "ESCOLA AB",
          "ESCOLA AC",
          "ESCOLA AD",
          "ESCOLA AF",
          "ESCOLA AG",
          "ESCOLA AH",
          "ESCOLA AI",
          "ESCOLA B",
          "ESCOLA C",
          "ESCOLA D",
          "ESCOLA E",
          "ESCOLA F",
          "ESCOLA G",
          "ESCOLA H",
          "ESCOLA I",
          "ESCOLA J",
          "ESCOLA K",
          "ESCOLA L",
          "ESCOLA M",
          "ESCOLA N",
          "ESCOLA O",
          "ESCOLA P",
          "ESCOLA Q",
          "ESCOLA R",
          "ESCOLA S",
          "ESCOLA U",
          "ESCOLA W",
          "ESCOLA Y",
          "ESCOLA Z"
         ],
         "xaxis": "x",
         "y": [
          null,
          8338.14,
          3606.1399999999994,
          7775.259999999995,
          3372.4900000000052,
          1944.4000000000015,
          17928.4,
          2192.3099999999977,
          7720.37000000001,
          3599.269999999997,
          6538.860000000001,
          5576.82,
          11020.150000000001,
          3829.399999999994,
          27072.050000000003,
          13455,
          10670.130000000005,
          8551.889999999992,
          32351.549999999996,
          4223.159999999996,
          2265.5,
          976.5699999999997,
          9578.029999999999,
          1601.6499999999942,
          9378.470000000001,
          7483.010000000002,
          7137.490000000005,
          7327.050000000003,
          20103.069999999992,
          6902.989999999998,
          7120.579999999987,
          8348.419999999998
         ],
         "yaxis": "y"
        }
       ],
       "layout": {
        "barmode": "group",
        "legend": {
         "title": {
          "text": "Mês"
         },
         "tracegroupgap": 0
        },
        "template": {
         "data": {
          "bar": [
           {
            "error_x": {
             "color": "#2a3f5f"
            },
            "error_y": {
             "color": "#2a3f5f"
            },
            "marker": {
             "line": {
              "color": "#E5ECF6",
              "width": 0.5
             },
             "pattern": {
              "fillmode": "overlay",
              "size": 10,
              "solidity": 0.2
             }
            },
            "type": "bar"
           }
          ],
          "barpolar": [
           {
            "marker": {
             "line": {
              "color": "#E5ECF6",
              "width": 0.5
             },
             "pattern": {
              "fillmode": "overlay",
              "size": 10,
              "solidity": 0.2
             }
            },
            "type": "barpolar"
           }
          ],
          "carpet": [
           {
            "aaxis": {
             "endlinecolor": "#2a3f5f",
             "gridcolor": "white",
             "linecolor": "white",
             "minorgridcolor": "white",
             "startlinecolor": "#2a3f5f"
            },
            "baxis": {
             "endlinecolor": "#2a3f5f",
             "gridcolor": "white",
             "linecolor": "white",
             "minorgridcolor": "white",
             "startlinecolor": "#2a3f5f"
            },
            "type": "carpet"
           }
          ],
          "choropleth": [
           {
            "colorbar": {
             "outlinewidth": 0,
             "ticks": ""
            },
            "type": "choropleth"
           }
          ],
          "contour": [
           {
            "colorbar": {
             "outlinewidth": 0,
             "ticks": ""
            },
            "colorscale": [
             [
              0,
              "#0d0887"
             ],
             [
              0.1111111111111111,
              "#46039f"
             ],
             [
              0.2222222222222222,
              "#7201a8"
             ],
             [
              0.3333333333333333,
              "#9c179e"
             ],
             [
              0.4444444444444444,
              "#bd3786"
             ],
             [
              0.5555555555555556,
              "#d8576b"
             ],
             [
              0.6666666666666666,
              "#ed7953"
             ],
             [
              0.7777777777777778,
              "#fb9f3a"
             ],
             [
              0.8888888888888888,
              "#fdca26"
             ],
             [
              1,
              "#f0f921"
             ]
            ],
            "type": "contour"
           }
          ],
          "contourcarpet": [
           {
            "colorbar": {
             "outlinewidth": 0,
             "ticks": ""
            },
            "type": "contourcarpet"
           }
          ],
          "heatmap": [
           {
            "colorbar": {
             "outlinewidth": 0,
             "ticks": ""
            },
            "colorscale": [
             [
              0,
              "#0d0887"
             ],
             [
              0.1111111111111111,
              "#46039f"
             ],
             [
              0.2222222222222222,
              "#7201a8"
             ],
             [
              0.3333333333333333,
              "#9c179e"
             ],
             [
              0.4444444444444444,
              "#bd3786"
             ],
             [
              0.5555555555555556,
              "#d8576b"
             ],
             [
              0.6666666666666666,
              "#ed7953"
             ],
             [
              0.7777777777777778,
              "#fb9f3a"
             ],
             [
              0.8888888888888888,
              "#fdca26"
             ],
             [
              1,
              "#f0f921"
             ]
            ],
            "type": "heatmap"
           }
          ],
          "heatmapgl": [
           {
            "colorbar": {
             "outlinewidth": 0,
             "ticks": ""
            },
            "colorscale": [
             [
              0,
              "#0d0887"
             ],
             [
              0.1111111111111111,
              "#46039f"
             ],
             [
              0.2222222222222222,
              "#7201a8"
             ],
             [
              0.3333333333333333,
              "#9c179e"
             ],
             [
              0.4444444444444444,
              "#bd3786"
             ],
             [
              0.5555555555555556,
              "#d8576b"
             ],
             [
              0.6666666666666666,
              "#ed7953"
             ],
             [
              0.7777777777777778,
              "#fb9f3a"
             ],
             [
              0.8888888888888888,
              "#fdca26"
             ],
             [
              1,
              "#f0f921"
             ]
            ],
            "type": "heatmapgl"
           }
          ],
          "histogram": [
           {
            "marker": {
             "pattern": {
              "fillmode": "overlay",
              "size": 10,
              "solidity": 0.2
             }
            },
            "type": "histogram"
           }
          ],
          "histogram2d": [
           {
            "colorbar": {
             "outlinewidth": 0,
             "ticks": ""
            },
            "colorscale": [
             [
              0,
              "#0d0887"
             ],
             [
              0.1111111111111111,
              "#46039f"
             ],
             [
              0.2222222222222222,
              "#7201a8"
             ],
             [
              0.3333333333333333,
              "#9c179e"
             ],
             [
              0.4444444444444444,
              "#bd3786"
             ],
             [
              0.5555555555555556,
              "#d8576b"
             ],
             [
              0.6666666666666666,
              "#ed7953"
             ],
             [
              0.7777777777777778,
              "#fb9f3a"
             ],
             [
              0.8888888888888888,
              "#fdca26"
             ],
             [
              1,
              "#f0f921"
             ]
            ],
            "type": "histogram2d"
           }
          ],
          "histogram2dcontour": [
           {
            "colorbar": {
             "outlinewidth": 0,
             "ticks": ""
            },
            "colorscale": [
             [
              0,
              "#0d0887"
             ],
             [
              0.1111111111111111,
              "#46039f"
             ],
             [
              0.2222222222222222,
              "#7201a8"
             ],
             [
              0.3333333333333333,
              "#9c179e"
             ],
             [
              0.4444444444444444,
              "#bd3786"
             ],
             [
              0.5555555555555556,
              "#d8576b"
             ],
             [
              0.6666666666666666,
              "#ed7953"
             ],
             [
              0.7777777777777778,
              "#fb9f3a"
             ],
             [
              0.8888888888888888,
              "#fdca26"
             ],
             [
              1,
              "#f0f921"
             ]
            ],
            "type": "histogram2dcontour"
           }
          ],
          "mesh3d": [
           {
            "colorbar": {
             "outlinewidth": 0,
             "ticks": ""
            },
            "type": "mesh3d"
           }
          ],
          "parcoords": [
           {
            "line": {
             "colorbar": {
              "outlinewidth": 0,
              "ticks": ""
             }
            },
            "type": "parcoords"
           }
          ],
          "pie": [
           {
            "automargin": true,
            "type": "pie"
           }
          ],
          "scatter": [
           {
            "fillpattern": {
             "fillmode": "overlay",
             "size": 10,
             "solidity": 0.2
            },
            "type": "scatter"
           }
          ],
          "scatter3d": [
           {
            "line": {
             "colorbar": {
              "outlinewidth": 0,
              "ticks": ""
             }
            },
            "marker": {
             "colorbar": {
              "outlinewidth": 0,
              "ticks": ""
             }
            },
            "type": "scatter3d"
           }
          ],
          "scattercarpet": [
           {
            "marker": {
             "colorbar": {
              "outlinewidth": 0,
              "ticks": ""
             }
            },
            "type": "scattercarpet"
           }
          ],
          "scattergeo": [
           {
            "marker": {
             "colorbar": {
              "outlinewidth": 0,
              "ticks": ""
             }
            },
            "type": "scattergeo"
           }
          ],
          "scattergl": [
           {
            "marker": {
             "colorbar": {
              "outlinewidth": 0,
              "ticks": ""
             }
            },
            "type": "scattergl"
           }
          ],
          "scattermapbox": [
           {
            "marker": {
             "colorbar": {
              "outlinewidth": 0,
              "ticks": ""
             }
            },
            "type": "scattermapbox"
           }
          ],
          "scatterpolar": [
           {
            "marker": {
             "colorbar": {
              "outlinewidth": 0,
              "ticks": ""
             }
            },
            "type": "scatterpolar"
           }
          ],
          "scatterpolargl": [
           {
            "marker": {
             "colorbar": {
              "outlinewidth": 0,
              "ticks": ""
             }
            },
            "type": "scatterpolargl"
           }
          ],
          "scatterternary": [
           {
            "marker": {
             "colorbar": {
              "outlinewidth": 0,
              "ticks": ""
             }
            },
            "type": "scatterternary"
           }
          ],
          "surface": [
           {
            "colorbar": {
             "outlinewidth": 0,
             "ticks": ""
            },
            "colorscale": [
             [
              0,
              "#0d0887"
             ],
             [
              0.1111111111111111,
              "#46039f"
             ],
             [
              0.2222222222222222,
              "#7201a8"
             ],
             [
              0.3333333333333333,
              "#9c179e"
             ],
             [
              0.4444444444444444,
              "#bd3786"
             ],
             [
              0.5555555555555556,
              "#d8576b"
             ],
             [
              0.6666666666666666,
              "#ed7953"
             ],
             [
              0.7777777777777778,
              "#fb9f3a"
             ],
             [
              0.8888888888888888,
              "#fdca26"
             ],
             [
              1,
              "#f0f921"
             ]
            ],
            "type": "surface"
           }
          ],
          "table": [
           {
            "cells": {
             "fill": {
              "color": "#EBF0F8"
             },
             "line": {
              "color": "white"
             }
            },
            "header": {
             "fill": {
              "color": "#C8D4E3"
             },
             "line": {
              "color": "white"
             }
            },
            "type": "table"
           }
          ]
         },
         "layout": {
          "annotationdefaults": {
           "arrowcolor": "#2a3f5f",
           "arrowhead": 0,
           "arrowwidth": 1
          },
          "autotypenumbers": "strict",
          "coloraxis": {
           "colorbar": {
            "outlinewidth": 0,
            "ticks": ""
           }
          },
          "colorscale": {
           "diverging": [
            [
             0,
             "#8e0152"
            ],
            [
             0.1,
             "#c51b7d"
            ],
            [
             0.2,
             "#de77ae"
            ],
            [
             0.3,
             "#f1b6da"
            ],
            [
             0.4,
             "#fde0ef"
            ],
            [
             0.5,
             "#f7f7f7"
            ],
            [
             0.6,
             "#e6f5d0"
            ],
            [
             0.7,
             "#b8e186"
            ],
            [
             0.8,
             "#7fbc41"
            ],
            [
             0.9,
             "#4d9221"
            ],
            [
             1,
             "#276419"
            ]
           ],
           "sequential": [
            [
             0,
             "#0d0887"
            ],
            [
             0.1111111111111111,
             "#46039f"
            ],
            [
             0.2222222222222222,
             "#7201a8"
            ],
            [
             0.3333333333333333,
             "#9c179e"
            ],
            [
             0.4444444444444444,
             "#bd3786"
            ],
            [
             0.5555555555555556,
             "#d8576b"
            ],
            [
             0.6666666666666666,
             "#ed7953"
            ],
            [
             0.7777777777777778,
             "#fb9f3a"
            ],
            [
             0.8888888888888888,
             "#fdca26"
            ],
            [
             1,
             "#f0f921"
            ]
           ],
           "sequentialminus": [
            [
             0,
             "#0d0887"
            ],
            [
             0.1111111111111111,
             "#46039f"
            ],
            [
             0.2222222222222222,
             "#7201a8"
            ],
            [
             0.3333333333333333,
             "#9c179e"
            ],
            [
             0.4444444444444444,
             "#bd3786"
            ],
            [
             0.5555555555555556,
             "#d8576b"
            ],
            [
             0.6666666666666666,
             "#ed7953"
            ],
            [
             0.7777777777777778,
             "#fb9f3a"
            ],
            [
             0.8888888888888888,
             "#fdca26"
            ],
            [
             1,
             "#f0f921"
            ]
           ]
          },
          "colorway": [
           "#636efa",
           "#EF553B",
           "#00cc96",
           "#ab63fa",
           "#FFA15A",
           "#19d3f3",
           "#FF6692",
           "#B6E880",
           "#FF97FF",
           "#FECB52"
          ],
          "font": {
           "color": "#2a3f5f"
          },
          "geo": {
           "bgcolor": "white",
           "lakecolor": "white",
           "landcolor": "#E5ECF6",
           "showlakes": true,
           "showland": true,
           "subunitcolor": "white"
          },
          "hoverlabel": {
           "align": "left"
          },
          "hovermode": "closest",
          "mapbox": {
           "style": "light"
          },
          "paper_bgcolor": "white",
          "plot_bgcolor": "#E5ECF6",
          "polar": {
           "angularaxis": {
            "gridcolor": "white",
            "linecolor": "white",
            "ticks": ""
           },
           "bgcolor": "#E5ECF6",
           "radialaxis": {
            "gridcolor": "white",
            "linecolor": "white",
            "ticks": ""
           }
          },
          "scene": {
           "xaxis": {
            "backgroundcolor": "#E5ECF6",
            "gridcolor": "white",
            "gridwidth": 2,
            "linecolor": "white",
            "showbackground": true,
            "ticks": "",
            "zerolinecolor": "white"
           },
           "yaxis": {
            "backgroundcolor": "#E5ECF6",
            "gridcolor": "white",
            "gridwidth": 2,
            "linecolor": "white",
            "showbackground": true,
            "ticks": "",
            "zerolinecolor": "white"
           },
           "zaxis": {
            "backgroundcolor": "#E5ECF6",
            "gridcolor": "white",
            "gridwidth": 2,
            "linecolor": "white",
            "showbackground": true,
            "ticks": "",
            "zerolinecolor": "white"
           }
          },
          "shapedefaults": {
           "line": {
            "color": "#2a3f5f"
           }
          },
          "ternary": {
           "aaxis": {
            "gridcolor": "white",
            "linecolor": "white",
            "ticks": ""
           },
           "baxis": {
            "gridcolor": "white",
            "linecolor": "white",
            "ticks": ""
           },
           "bgcolor": "#E5ECF6",
           "caxis": {
            "gridcolor": "white",
            "linecolor": "white",
            "ticks": ""
           }
          },
          "title": {
           "x": 0.05
          },
          "xaxis": {
           "automargin": true,
           "gridcolor": "white",
           "linecolor": "white",
           "ticks": "",
           "title": {
            "standoff": 15
           },
           "zerolinecolor": "white",
           "zerolinewidth": 2
          },
          "yaxis": {
           "automargin": true,
           "gridcolor": "white",
           "linecolor": "white",
           "ticks": "",
           "title": {
            "standoff": 15
           },
           "zerolinecolor": "white",
           "zerolinewidth": 2
          }
         }
        },
        "title": {
         "text": "Diferença entre Valor Pago pela Escola e Governo por Escola e Mês"
        },
        "xaxis": {
         "anchor": "y",
         "domain": [
          0,
          1
         ],
         "title": {
          "text": "Escola"
         }
        },
        "yaxis": {
         "anchor": "x",
         "domain": [
          0,
          1
         ],
         "title": {
          "text": "Diferença"
         }
        }
       }
      }
     },
     "metadata": {},
     "output_type": "display_data"
    },
    {
     "data": {
      "application/vnd.plotly.v1+json": {
       "config": {
        "plotlyServerURL": "https://plot.ly"
       },
       "data": [
        {
         "alignmentgroup": "True",
         "hovertemplate": "Mês=Abril<br>Escola=%{x}<br>Diferença=%{y}<extra></extra>",
         "legendgroup": "Abril",
         "marker": {
          "color": "#636efa",
          "pattern": {
           "shape": ""
          }
         },
         "name": "Abril",
         "offsetgroup": "Abril",
         "orientation": "v",
         "showlegend": true,
         "textposition": "auto",
         "type": "bar",
         "x": [
          "ESCOLA  AE",
          "ESCOLA A",
          "ESCOLA AA",
          "ESCOLA AB",
          "ESCOLA AC",
          "ESCOLA AD",
          "ESCOLA AF",
          "ESCOLA AG",
          "ESCOLA AH",
          "ESCOLA AI",
          "ESCOLA B",
          "ESCOLA C",
          "ESCOLA D",
          "ESCOLA E",
          "ESCOLA F",
          "ESCOLA G",
          "ESCOLA H",
          "ESCOLA I",
          "ESCOLA J",
          "ESCOLA K",
          "ESCOLA L",
          "ESCOLA M",
          "ESCOLA N",
          "ESCOLA O",
          "ESCOLA P",
          "ESCOLA Q",
          "ESCOLA R",
          "ESCOLA S",
          "ESCOLA U",
          "ESCOLA W",
          "ESCOLA Y",
          "ESCOLA Z"
         ],
         "xaxis": "x",
         "y": [
          null,
          10435.339999999997,
          6053.4100000000035,
          7888.720000000001,
          5710.870000000003,
          3759.0599999999977,
          15988.87000000001,
          351.27999999999884,
          8927.73999999999,
          6850.3399999999965,
          7912.489999999998,
          4736.18,
          10776.629999999997,
          7860.1600000000035,
          23276.25,
          12167.740000000005,
          16830.199999999997,
          10953.86,
          13211.899999999994,
          5196.860000000001,
          3474.439999999995,
          6429.999999999993,
          13064.080000000002,
          -7794.309999999998,
          11208.12000000001,
          9410.55999999999,
          8347.220000000001,
          10200.810000000012,
          3192.1900000000023,
          11102.130000000005,
          13447.729999999996,
          7277.050000000003
         ],
         "yaxis": "y"
        },
        {
         "alignmentgroup": "True",
         "hovertemplate": "Mês=Fevereiro<br>Escola=%{x}<br>Diferença=%{y}<extra></extra>",
         "legendgroup": "Fevereiro",
         "marker": {
          "color": "#EF553B",
          "pattern": {
           "shape": ""
          }
         },
         "name": "Fevereiro",
         "offsetgroup": "Fevereiro",
         "orientation": "v",
         "showlegend": true,
         "textposition": "auto",
         "type": "bar",
         "x": [
          "ESCOLA  AE",
          "ESCOLA A",
          "ESCOLA AA",
          "ESCOLA AB",
          "ESCOLA AC",
          "ESCOLA AD",
          "ESCOLA AF",
          "ESCOLA AG",
          "ESCOLA AH",
          "ESCOLA AI",
          "ESCOLA B",
          "ESCOLA C",
          "ESCOLA D",
          "ESCOLA E",
          "ESCOLA F",
          "ESCOLA G",
          "ESCOLA H",
          "ESCOLA I",
          "ESCOLA J",
          "ESCOLA K",
          "ESCOLA L",
          "ESCOLA M",
          "ESCOLA N",
          "ESCOLA O",
          "ESCOLA P",
          "ESCOLA Q",
          "ESCOLA R",
          "ESCOLA S",
          "ESCOLA U",
          "ESCOLA W",
          "ESCOLA Y",
          "ESCOLA Z"
         ],
         "xaxis": "x",
         "y": [
          null,
          13625.480000000003,
          8929.780000000002,
          24410.09000000001,
          15435.830000000002,
          6481.82,
          34230.450000000004,
          13210.18,
          13059.94000000001,
          8718.550000000003,
          8086.5799999999945,
          11569.849999999999,
          21876.39,
          15461.879999999997,
          32676.759999999995,
          46592.62,
          29979.160000000003,
          15969.970000000008,
          40732.130000000005,
          7724.530000000006,
          9960.219999999994,
          14198.720000000001,
          25089.660000000003,
          12835.479999999996,
          14806.919999999998,
          12804.559999999998,
          15760.43,
          13419.859999999993,
          27675.440000000002,
          8669.369999999995,
          15910.229999999996,
          13702.07
         ],
         "yaxis": "y"
        },
        {
         "alignmentgroup": "True",
         "hovertemplate": "Mês=Março<br>Escola=%{x}<br>Diferença=%{y}<extra></extra>",
         "legendgroup": "Março",
         "marker": {
          "color": "#00cc96",
          "pattern": {
           "shape": ""
          }
         },
         "name": "Março",
         "offsetgroup": "Março",
         "orientation": "v",
         "showlegend": true,
         "textposition": "auto",
         "type": "bar",
         "x": [
          "ESCOLA  AE",
          "ESCOLA A",
          "ESCOLA AA",
          "ESCOLA AB",
          "ESCOLA AC",
          "ESCOLA AD",
          "ESCOLA AF",
          "ESCOLA AG",
          "ESCOLA AH",
          "ESCOLA AI",
          "ESCOLA B",
          "ESCOLA C",
          "ESCOLA D",
          "ESCOLA E",
          "ESCOLA F",
          "ESCOLA G",
          "ESCOLA H",
          "ESCOLA I",
          "ESCOLA J",
          "ESCOLA K",
          "ESCOLA L",
          "ESCOLA M",
          "ESCOLA N",
          "ESCOLA O",
          "ESCOLA P",
          "ESCOLA Q",
          "ESCOLA R",
          "ESCOLA S",
          "ESCOLA U",
          "ESCOLA W",
          "ESCOLA Y",
          "ESCOLA Z"
         ],
         "xaxis": "x",
         "y": [
          null,
          8338.14,
          3606.1399999999994,
          7775.259999999995,
          3372.4900000000052,
          1944.4000000000015,
          17928.4,
          2192.3099999999977,
          7720.37000000001,
          3599.269999999997,
          6538.860000000001,
          5576.82,
          11020.150000000001,
          3829.399999999994,
          27072.050000000003,
          13455,
          10670.130000000005,
          8551.889999999992,
          32351.549999999996,
          4223.159999999996,
          2265.5,
          976.5699999999997,
          9578.029999999999,
          1601.6499999999942,
          9378.470000000001,
          7483.010000000002,
          7137.490000000005,
          7327.050000000003,
          20103.069999999992,
          6902.989999999998,
          7120.579999999987,
          8348.419999999998
         ],
         "yaxis": "y"
        }
       ],
       "layout": {
        "barmode": "group",
        "legend": {
         "title": {
          "text": "Mês"
         },
         "tracegroupgap": 0
        },
        "template": {
         "data": {
          "bar": [
           {
            "error_x": {
             "color": "#2a3f5f"
            },
            "error_y": {
             "color": "#2a3f5f"
            },
            "marker": {
             "line": {
              "color": "#E5ECF6",
              "width": 0.5
             },
             "pattern": {
              "fillmode": "overlay",
              "size": 10,
              "solidity": 0.2
             }
            },
            "type": "bar"
           }
          ],
          "barpolar": [
           {
            "marker": {
             "line": {
              "color": "#E5ECF6",
              "width": 0.5
             },
             "pattern": {
              "fillmode": "overlay",
              "size": 10,
              "solidity": 0.2
             }
            },
            "type": "barpolar"
           }
          ],
          "carpet": [
           {
            "aaxis": {
             "endlinecolor": "#2a3f5f",
             "gridcolor": "white",
             "linecolor": "white",
             "minorgridcolor": "white",
             "startlinecolor": "#2a3f5f"
            },
            "baxis": {
             "endlinecolor": "#2a3f5f",
             "gridcolor": "white",
             "linecolor": "white",
             "minorgridcolor": "white",
             "startlinecolor": "#2a3f5f"
            },
            "type": "carpet"
           }
          ],
          "choropleth": [
           {
            "colorbar": {
             "outlinewidth": 0,
             "ticks": ""
            },
            "type": "choropleth"
           }
          ],
          "contour": [
           {
            "colorbar": {
             "outlinewidth": 0,
             "ticks": ""
            },
            "colorscale": [
             [
              0,
              "#0d0887"
             ],
             [
              0.1111111111111111,
              "#46039f"
             ],
             [
              0.2222222222222222,
              "#7201a8"
             ],
             [
              0.3333333333333333,
              "#9c179e"
             ],
             [
              0.4444444444444444,
              "#bd3786"
             ],
             [
              0.5555555555555556,
              "#d8576b"
             ],
             [
              0.6666666666666666,
              "#ed7953"
             ],
             [
              0.7777777777777778,
              "#fb9f3a"
             ],
             [
              0.8888888888888888,
              "#fdca26"
             ],
             [
              1,
              "#f0f921"
             ]
            ],
            "type": "contour"
           }
          ],
          "contourcarpet": [
           {
            "colorbar": {
             "outlinewidth": 0,
             "ticks": ""
            },
            "type": "contourcarpet"
           }
          ],
          "heatmap": [
           {
            "colorbar": {
             "outlinewidth": 0,
             "ticks": ""
            },
            "colorscale": [
             [
              0,
              "#0d0887"
             ],
             [
              0.1111111111111111,
              "#46039f"
             ],
             [
              0.2222222222222222,
              "#7201a8"
             ],
             [
              0.3333333333333333,
              "#9c179e"
             ],
             [
              0.4444444444444444,
              "#bd3786"
             ],
             [
              0.5555555555555556,
              "#d8576b"
             ],
             [
              0.6666666666666666,
              "#ed7953"
             ],
             [
              0.7777777777777778,
              "#fb9f3a"
             ],
             [
              0.8888888888888888,
              "#fdca26"
             ],
             [
              1,
              "#f0f921"
             ]
            ],
            "type": "heatmap"
           }
          ],
          "heatmapgl": [
           {
            "colorbar": {
             "outlinewidth": 0,
             "ticks": ""
            },
            "colorscale": [
             [
              0,
              "#0d0887"
             ],
             [
              0.1111111111111111,
              "#46039f"
             ],
             [
              0.2222222222222222,
              "#7201a8"
             ],
             [
              0.3333333333333333,
              "#9c179e"
             ],
             [
              0.4444444444444444,
              "#bd3786"
             ],
             [
              0.5555555555555556,
              "#d8576b"
             ],
             [
              0.6666666666666666,
              "#ed7953"
             ],
             [
              0.7777777777777778,
              "#fb9f3a"
             ],
             [
              0.8888888888888888,
              "#fdca26"
             ],
             [
              1,
              "#f0f921"
             ]
            ],
            "type": "heatmapgl"
           }
          ],
          "histogram": [
           {
            "marker": {
             "pattern": {
              "fillmode": "overlay",
              "size": 10,
              "solidity": 0.2
             }
            },
            "type": "histogram"
           }
          ],
          "histogram2d": [
           {
            "colorbar": {
             "outlinewidth": 0,
             "ticks": ""
            },
            "colorscale": [
             [
              0,
              "#0d0887"
             ],
             [
              0.1111111111111111,
              "#46039f"
             ],
             [
              0.2222222222222222,
              "#7201a8"
             ],
             [
              0.3333333333333333,
              "#9c179e"
             ],
             [
              0.4444444444444444,
              "#bd3786"
             ],
             [
              0.5555555555555556,
              "#d8576b"
             ],
             [
              0.6666666666666666,
              "#ed7953"
             ],
             [
              0.7777777777777778,
              "#fb9f3a"
             ],
             [
              0.8888888888888888,
              "#fdca26"
             ],
             [
              1,
              "#f0f921"
             ]
            ],
            "type": "histogram2d"
           }
          ],
          "histogram2dcontour": [
           {
            "colorbar": {
             "outlinewidth": 0,
             "ticks": ""
            },
            "colorscale": [
             [
              0,
              "#0d0887"
             ],
             [
              0.1111111111111111,
              "#46039f"
             ],
             [
              0.2222222222222222,
              "#7201a8"
             ],
             [
              0.3333333333333333,
              "#9c179e"
             ],
             [
              0.4444444444444444,
              "#bd3786"
             ],
             [
              0.5555555555555556,
              "#d8576b"
             ],
             [
              0.6666666666666666,
              "#ed7953"
             ],
             [
              0.7777777777777778,
              "#fb9f3a"
             ],
             [
              0.8888888888888888,
              "#fdca26"
             ],
             [
              1,
              "#f0f921"
             ]
            ],
            "type": "histogram2dcontour"
           }
          ],
          "mesh3d": [
           {
            "colorbar": {
             "outlinewidth": 0,
             "ticks": ""
            },
            "type": "mesh3d"
           }
          ],
          "parcoords": [
           {
            "line": {
             "colorbar": {
              "outlinewidth": 0,
              "ticks": ""
             }
            },
            "type": "parcoords"
           }
          ],
          "pie": [
           {
            "automargin": true,
            "type": "pie"
           }
          ],
          "scatter": [
           {
            "fillpattern": {
             "fillmode": "overlay",
             "size": 10,
             "solidity": 0.2
            },
            "type": "scatter"
           }
          ],
          "scatter3d": [
           {
            "line": {
             "colorbar": {
              "outlinewidth": 0,
              "ticks": ""
             }
            },
            "marker": {
             "colorbar": {
              "outlinewidth": 0,
              "ticks": ""
             }
            },
            "type": "scatter3d"
           }
          ],
          "scattercarpet": [
           {
            "marker": {
             "colorbar": {
              "outlinewidth": 0,
              "ticks": ""
             }
            },
            "type": "scattercarpet"
           }
          ],
          "scattergeo": [
           {
            "marker": {
             "colorbar": {
              "outlinewidth": 0,
              "ticks": ""
             }
            },
            "type": "scattergeo"
           }
          ],
          "scattergl": [
           {
            "marker": {
             "colorbar": {
              "outlinewidth": 0,
              "ticks": ""
             }
            },
            "type": "scattergl"
           }
          ],
          "scattermapbox": [
           {
            "marker": {
             "colorbar": {
              "outlinewidth": 0,
              "ticks": ""
             }
            },
            "type": "scattermapbox"
           }
          ],
          "scatterpolar": [
           {
            "marker": {
             "colorbar": {
              "outlinewidth": 0,
              "ticks": ""
             }
            },
            "type": "scatterpolar"
           }
          ],
          "scatterpolargl": [
           {
            "marker": {
             "colorbar": {
              "outlinewidth": 0,
              "ticks": ""
             }
            },
            "type": "scatterpolargl"
           }
          ],
          "scatterternary": [
           {
            "marker": {
             "colorbar": {
              "outlinewidth": 0,
              "ticks": ""
             }
            },
            "type": "scatterternary"
           }
          ],
          "surface": [
           {
            "colorbar": {
             "outlinewidth": 0,
             "ticks": ""
            },
            "colorscale": [
             [
              0,
              "#0d0887"
             ],
             [
              0.1111111111111111,
              "#46039f"
             ],
             [
              0.2222222222222222,
              "#7201a8"
             ],
             [
              0.3333333333333333,
              "#9c179e"
             ],
             [
              0.4444444444444444,
              "#bd3786"
             ],
             [
              0.5555555555555556,
              "#d8576b"
             ],
             [
              0.6666666666666666,
              "#ed7953"
             ],
             [
              0.7777777777777778,
              "#fb9f3a"
             ],
             [
              0.8888888888888888,
              "#fdca26"
             ],
             [
              1,
              "#f0f921"
             ]
            ],
            "type": "surface"
           }
          ],
          "table": [
           {
            "cells": {
             "fill": {
              "color": "#EBF0F8"
             },
             "line": {
              "color": "white"
             }
            },
            "header": {
             "fill": {
              "color": "#C8D4E3"
             },
             "line": {
              "color": "white"
             }
            },
            "type": "table"
           }
          ]
         },
         "layout": {
          "annotationdefaults": {
           "arrowcolor": "#2a3f5f",
           "arrowhead": 0,
           "arrowwidth": 1
          },
          "autotypenumbers": "strict",
          "coloraxis": {
           "colorbar": {
            "outlinewidth": 0,
            "ticks": ""
           }
          },
          "colorscale": {
           "diverging": [
            [
             0,
             "#8e0152"
            ],
            [
             0.1,
             "#c51b7d"
            ],
            [
             0.2,
             "#de77ae"
            ],
            [
             0.3,
             "#f1b6da"
            ],
            [
             0.4,
             "#fde0ef"
            ],
            [
             0.5,
             "#f7f7f7"
            ],
            [
             0.6,
             "#e6f5d0"
            ],
            [
             0.7,
             "#b8e186"
            ],
            [
             0.8,
             "#7fbc41"
            ],
            [
             0.9,
             "#4d9221"
            ],
            [
             1,
             "#276419"
            ]
           ],
           "sequential": [
            [
             0,
             "#0d0887"
            ],
            [
             0.1111111111111111,
             "#46039f"
            ],
            [
             0.2222222222222222,
             "#7201a8"
            ],
            [
             0.3333333333333333,
             "#9c179e"
            ],
            [
             0.4444444444444444,
             "#bd3786"
            ],
            [
             0.5555555555555556,
             "#d8576b"
            ],
            [
             0.6666666666666666,
             "#ed7953"
            ],
            [
             0.7777777777777778,
             "#fb9f3a"
            ],
            [
             0.8888888888888888,
             "#fdca26"
            ],
            [
             1,
             "#f0f921"
            ]
           ],
           "sequentialminus": [
            [
             0,
             "#0d0887"
            ],
            [
             0.1111111111111111,
             "#46039f"
            ],
            [
             0.2222222222222222,
             "#7201a8"
            ],
            [
             0.3333333333333333,
             "#9c179e"
            ],
            [
             0.4444444444444444,
             "#bd3786"
            ],
            [
             0.5555555555555556,
             "#d8576b"
            ],
            [
             0.6666666666666666,
             "#ed7953"
            ],
            [
             0.7777777777777778,
             "#fb9f3a"
            ],
            [
             0.8888888888888888,
             "#fdca26"
            ],
            [
             1,
             "#f0f921"
            ]
           ]
          },
          "colorway": [
           "#636efa",
           "#EF553B",
           "#00cc96",
           "#ab63fa",
           "#FFA15A",
           "#19d3f3",
           "#FF6692",
           "#B6E880",
           "#FF97FF",
           "#FECB52"
          ],
          "font": {
           "color": "#2a3f5f"
          },
          "geo": {
           "bgcolor": "white",
           "lakecolor": "white",
           "landcolor": "#E5ECF6",
           "showlakes": true,
           "showland": true,
           "subunitcolor": "white"
          },
          "hoverlabel": {
           "align": "left"
          },
          "hovermode": "closest",
          "mapbox": {
           "style": "light"
          },
          "paper_bgcolor": "white",
          "plot_bgcolor": "#E5ECF6",
          "polar": {
           "angularaxis": {
            "gridcolor": "white",
            "linecolor": "white",
            "ticks": ""
           },
           "bgcolor": "#E5ECF6",
           "radialaxis": {
            "gridcolor": "white",
            "linecolor": "white",
            "ticks": ""
           }
          },
          "scene": {
           "xaxis": {
            "backgroundcolor": "#E5ECF6",
            "gridcolor": "white",
            "gridwidth": 2,
            "linecolor": "white",
            "showbackground": true,
            "ticks": "",
            "zerolinecolor": "white"
           },
           "yaxis": {
            "backgroundcolor": "#E5ECF6",
            "gridcolor": "white",
            "gridwidth": 2,
            "linecolor": "white",
            "showbackground": true,
            "ticks": "",
            "zerolinecolor": "white"
           },
           "zaxis": {
            "backgroundcolor": "#E5ECF6",
            "gridcolor": "white",
            "gridwidth": 2,
            "linecolor": "white",
            "showbackground": true,
            "ticks": "",
            "zerolinecolor": "white"
           }
          },
          "shapedefaults": {
           "line": {
            "color": "#2a3f5f"
           }
          },
          "ternary": {
           "aaxis": {
            "gridcolor": "white",
            "linecolor": "white",
            "ticks": ""
           },
           "baxis": {
            "gridcolor": "white",
            "linecolor": "white",
            "ticks": ""
           },
           "bgcolor": "#E5ECF6",
           "caxis": {
            "gridcolor": "white",
            "linecolor": "white",
            "ticks": ""
           }
          },
          "title": {
           "x": 0.05
          },
          "xaxis": {
           "automargin": true,
           "gridcolor": "white",
           "linecolor": "white",
           "ticks": "",
           "title": {
            "standoff": 15
           },
           "zerolinecolor": "white",
           "zerolinewidth": 2
          },
          "yaxis": {
           "automargin": true,
           "gridcolor": "white",
           "linecolor": "white",
           "ticks": "",
           "title": {
            "standoff": 15
           },
           "zerolinecolor": "white",
           "zerolinewidth": 2
          }
         }
        },
        "title": {
         "text": "Diferença entre Valor Pago pela Escola e Governo por Escola e Mês"
        },
        "xaxis": {
         "anchor": "y",
         "domain": [
          0,
          1
         ],
         "title": {
          "text": "Escola"
         }
        },
        "yaxis": {
         "anchor": "x",
         "domain": [
          0,
          1
         ],
         "title": {
          "text": "Diferença"
         }
        }
       }
      }
     },
     "metadata": {},
     "output_type": "display_data"
    }
   ],
   "source": [
    "df_comparativo['Diferença'] = df_comparativo['Valor Pago Escola'] - df_comparativo['Valor Pago Governo']\n",
    "\n",
    "\n",
    "fig = px.bar(df_comparativo, x='Escola', y='Valor Pago Escola', color='Mês', barmode='group',\n",
    "             title='Valor Pago por Escola e Mês')\n",
    "fig.show()\n",
    "fig = px.bar(df_comparativo, x='Escola', y='Valor Pago Governo', color='Mês', barmode='group',\n",
    "             title='Valor Pago Governo por Escola e Mês')\n",
    "fig.show()\n",
    "fig = px.bar(df_comparativo, x='Escola', y='Diferença', color='Mês', barmode='group',\n",
    "             title='Diferença entre Valor Pago pela Escola e Governo por Escola e Mês')\n",
    "fig.show()\n",
    "fig = px.bar(df_comparativo, x='Escola', y='Diferença', color='Mês', barmode='group',\n",
    "             title='Diferença entre Valor Pago pela Escola e Governo por Escola e Mês')\n",
    "fig.show()"
   ]
  }
 ],
 "metadata": {
  "kernelspec": {
   "display_name": "base",
   "language": "python",
   "name": "python3"
  },
  "language_info": {
   "codemirror_mode": {
    "name": "ipython",
    "version": 3
   },
   "file_extension": ".py",
   "mimetype": "text/x-python",
   "name": "python",
   "nbconvert_exporter": "python",
   "pygments_lexer": "ipython3",
   "version": "3.12.7"
  }
 },
 "nbformat": 4,
 "nbformat_minor": 5
}
