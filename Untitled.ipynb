{
 "cells": [
  {
   "cell_type": "markdown",
   "id": "3f8610e6-a799-46d2-8959-b7e916c1d9fc",
   "metadata": {},
   "source": []
  },
  {
   "cell_type": "code",
   "execution_count": 140,
   "id": "a4eeb9d9-7eae-4e3d-b048-55297979e63c",
   "metadata": {},
   "outputs": [],
   "source": [
    "import pandas as pd\n",
    "import numpy as np\n",
    "import matplotlib.pyplot as plt\n"
   ]
  },
  {
   "cell_type": "code",
   "execution_count": null,
   "id": "0f3df795",
   "metadata": {},
   "outputs": [
    {
     "name": "stdout",
     "output_type": "stream",
     "text": [
      "        Escola        Mês  CH Regência  CH Sem Regência\n",
      "0   ESCOLA  AE      Abril  1192.400000           513.34\n",
      "1   ESCOLA  AE  Fevereiro   985.000000           313.32\n",
      "2   ESCOLA  AE      Março  1089.000000           390.00\n",
      "3     ESCOLA A      Abril  1641.370000           630.00\n",
      "4     ESCOLA A  Fevereiro  1408.730000           518.93\n",
      "..         ...        ...          ...              ...\n",
      "91    ESCOLA Y  Fevereiro  2087.700000          1061.16\n",
      "92    ESCOLA Y      Março  2315.300000          1191.67\n",
      "93    ESCOLA Z      Abril  2464.300113           420.00\n",
      "94    ESCOLA Z  Fevereiro  2286.000000           415.99\n",
      "95    ESCOLA Z      Março  2548.270000           352.00\n",
      "\n",
      "[96 rows x 4 columns]\n"
     ]
    }
   ],
   "source": [
    "\n",
    "\n",
    "df = pd.read_excel('Analise.xlsx', sheet_name='BD_Tom Folha')\n",
    "\n",
    "\n",
    "df = df[df['Mês'].isin(['Fevereiro', 'Março', 'Abril'])].copy()\n",
    "\n",
    "\n",
    "df['Categoria'] = df['Categoria'].astype(str).str.strip().str.upper()\n",
    "\n",
    "df['CH Regência'] = df['Horas Mes'].where(df['Categoria'] == 'REGENCIA', 0)\n",
    "df['CH Sem Regência'] = df['Horas Mes'].where(df['Categoria'] == 'NAO REGENCIA', 0)\n",
    "\n",
    "\n",
    "resultado = df.groupby(['Escola', 'Mês'])[['CH Regência', 'CH Sem Regência']].sum().reset_index()\n",
    "\n",
    "\n",
    "print(resultado)\n"
   ]
  },
  {
   "cell_type": "code",
   "execution_count": null,
   "id": "0adf0cdc",
   "metadata": {},
   "outputs": [
    {
     "name": "stdout",
     "output_type": "stream",
     "text": [
      "Valores imputados com sucesso na planilha 'Análise CH por Escola'.\n"
     ]
    }
   ],
   "source": [
    "\n",
    "\n",
    "\n",
    "df_analise = pd.read_excel('Analise.xlsx', sheet_name='Análise CH por Escola')\n",
    "\n",
    "# 2. Padronizar colunas para evitar erros no merge\n",
    "df_analise['Escola'] = df_analise['Escola'].astype(str).str.strip().str.upper()\n",
    "df_analise['Mês'] = df_analise['Mês'].astype(str).str.strip().str.capitalize()\n",
    "\n",
    "resultado['Escola'] = resultado['Escola'].astype(str).str.strip().str.upper()\n",
    "resultado['Mês'] = resultado['Mês'].astype(str).str.strip().str.capitalize()\n",
    "\n",
    "df_final = pd.merge(\n",
    "    df_analise,\n",
    "    resultado[['Escola', 'Mês', 'CH Regência', 'CH Sem Regência']],\n",
    "    on=['Escola', 'Mês'],\n",
    "    how='left',\n",
    "    suffixes=('', '_novo')\n",
    ")\n",
    "\n",
    "\n",
    "df_final['CH Regência'] = df_final['CH Regência_novo'].combine_first(df_final['CH Regência'])\n",
    "df_final['CH Sem Regência'] = df_final['CH Sem Regência_novo'].combine_first(df_final['CH Sem Regência'])\n",
    "\n",
    "\n",
    "df_final.drop(columns=['CH Regência_novo', 'CH Sem Regência_novo'], inplace=True)\n",
    "\n",
    "with pd.ExcelWriter('Analise.xlsx', mode='a', if_sheet_exists='replace', engine='openpyxl') as writer:\n",
    "    df_final.to_excel(writer, sheet_name='Análise CH por Escola', index=False)\n",
    "\n",
    "print(\"Valores imputados com sucesso na planilha 'Análise CH por Escola'.\")\n"
   ]
  },
  {
   "cell_type": "code",
   "execution_count": null,
   "id": "d3cfd469",
   "metadata": {},
   "outputs": [
    {
     "name": "stdout",
     "output_type": "stream",
     "text": [
      "Linhas com mês Janeiro removidas e planilha salva.\n"
     ]
    }
   ],
   "source": [
    "\n",
    "\n",
    "df = pd.read_excel('Analise.xlsx', sheet_name='Análise CH por Escola')\n",
    "\n",
    "\n",
    "df = df[df['Mês'].str.strip().str.capitalize() != 'Janeiro']\n",
    "\n",
    "\n",
    "with pd.ExcelWriter('Analise.xlsx', mode='a', if_sheet_exists='replace', engine='openpyxl') as writer:\n",
    "    df.to_excel(writer, sheet_name='Análise CH por Escola', index=False)\n",
    "\n",
    "print(\"Linhas com mês Janeiro removidas e planilha salva.\")\n"
   ]
  },
  {
   "cell_type": "code",
   "execution_count": null,
   "id": "e1e6cb2e",
   "metadata": {},
   "outputs": [
    {
     "name": "stdout",
     "output_type": "stream",
     "text": [
      "Valores Regência e Sem Regência calculados e salvos com sucesso.\n"
     ]
    }
   ],
   "source": [
    "\n",
    "df_final['Valor Regência'] = df_final['CH Regência'] * 4.5\n",
    "df_final['Valor Sem Regência'] = df_final['CH Sem Regência'] * 5\n",
    "df_final['Valor CH Mensal'] = df_final['CH Regência'] + df_final['CH Sem Regência']\n",
    "x =  df_final['Valor Regência'] + df_final['Valor Sem Regência']\n",
    "total_ch = df_final['CH Regência'] + df_final['CH Sem Regência']\n",
    "\n",
    "\n",
    "total_ch = total_ch.replace(0, pd.NA)\n",
    "\n",
    "\n",
    "df_final['Valor Unitário Carga Horária'] = x / total_ch\n",
    "\n",
    "\n",
    "\n",
    "with pd.ExcelWriter('Analise.xlsx', mode='a', if_sheet_exists='replace', engine='openpyxl') as writer:\n",
    "    df_final.to_excel(writer, sheet_name='Análise CH por Escola', index=False)\n",
    "\n",
    "print(\"Valores Regência e Sem Regência calculados e salvos com sucesso.\")"
   ]
  },
  {
   "cell_type": "code",
   "execution_count": 160,
   "id": "a8faa635",
   "metadata": {},
   "outputs": [
    {
     "name": "stdout",
     "output_type": "stream",
     "text": [
      "      Escola        Mês  Valor Unitário Carga Horária  CH Regência  \\\n",
      "32  ESCOLA A  Fevereiro                      4.634601      1408.73   \n",
      "33  ESCOLA B  Fevereiro                      4.572289      1987.95   \n",
      "34  ESCOLA C  Fevereiro                      4.600866      1635.53   \n",
      "35  ESCOLA D  Fevereiro                      4.674590      1357.50   \n",
      "36  ESCOLA E  Fevereiro                      4.618675      2043.00   \n",
      "37  ESCOLA F  Fevereiro                      4.703404      1838.25   \n",
      "38  ESCOLA G  Fevereiro                      4.541768      4388.30   \n",
      "39  ESCOLA H  Fevereiro                      4.653116      2683.83   \n",
      "40  ESCOLA I  Fevereiro                      4.648028      1514.62   \n",
      "41  ESCOLA J  Fevereiro                      4.670558      1748.70   \n",
      "42  ESCOLA K  Fevereiro                      4.583353      1492.88   \n",
      "43  ESCOLA L  Fevereiro                      4.628661      1395.00   \n",
      "44  ESCOLA M  Fevereiro                      4.666201      1561.20   \n",
      "45  ESCOLA N  Fevereiro                      4.633531      2279.67   \n",
      "46  ESCOLA O  Fevereiro                      4.581584      1947.15   \n",
      "47  ESCOLA P  Fevereiro                      4.629247      2554.90   \n",
      "48  ESCOLA Q  Fevereiro                      4.636358      1786.40   \n",
      "49  ESCOLA R  Fevereiro                      4.656074      1506.90   \n",
      "50  ESCOLA S  Fevereiro                      4.540391      2124.00   \n",
      "51  ESCOLA U  Fevereiro                      4.687606      2515.50   \n",
      "\n",
      "    CH Sem Regência  Valor Regência  Valor Sem Regência  Valor CH Mensal  \n",
      "32           518.93        6339.285             2594.65          1927.66  \n",
      "33           335.99        8945.775             1679.95          2323.94  \n",
      "34           413.32        7359.885             2066.60          2048.85  \n",
      "35           728.33        6108.750             3641.65          2085.83  \n",
      "36           635.82        9193.500             3179.10          2678.82  \n",
      "37          1260.66        8272.125             6303.30          3098.91  \n",
      "38           400.00       19747.350             2000.00          4788.30  \n",
      "39          1184.65       12077.235             5923.25          3868.48  \n",
      "40           637.00        6815.790             3185.00          2151.62  \n",
      "41           905.33        7869.150             4526.65          2654.03  \n",
      "42           298.66        6717.960             1493.30          1791.54  \n",
      "43           483.34        6277.500             2416.70          1878.34  \n",
      "44           777.33        7025.400             3886.65          2338.53  \n",
      "45           830.65       10258.515             4153.25          3110.32  \n",
      "46           379.66        8762.175             1898.30          2326.81  \n",
      "47           890.66       11497.050             4453.30          3445.56  \n",
      "48           669.86        8038.800             3349.30          2456.26  \n",
      "49           683.83        6781.050             3419.15          2190.73  \n",
      "50           186.66        9558.000              933.30          2310.66  \n",
      "51          1510.66       11319.750             7553.30          4026.16  \n"
     ]
    }
   ],
   "source": [
    "df_verifica = pd.read_excel('Analise.xlsx', sheet_name='Análise CH por Escola')\n",
    "\n",
    "df_verifica_filt = df_verifica[df_verifica['Mês'].str.strip().str.capitalize().isin(['Fevereiro', 'Março', 'Abril'])]\n",
    "\n",
    "print(df_verifica_filt[['Escola', 'Mês','Valor Unitário Carga Horária' ,'CH Regência', 'CH Sem Regência','Valor Regência','Valor Sem Regência', 'Valor CH Mensal']].head(20))\n"
   ]
  },
  {
   "cell_type": "code",
   "execution_count": null,
   "id": "8f9bbb4e",
   "metadata": {},
   "outputs": [],
   "source": []
  }
 ],
 "metadata": {
  "kernelspec": {
   "display_name": "base",
   "language": "python",
   "name": "python3"
  },
  "language_info": {
   "codemirror_mode": {
    "name": "ipython",
    "version": 3
   },
   "file_extension": ".py",
   "mimetype": "text/x-python",
   "name": "python",
   "nbconvert_exporter": "python",
   "pygments_lexer": "ipython3",
   "version": "3.12.7"
  }
 },
 "nbformat": 4,
 "nbformat_minor": 5
}
