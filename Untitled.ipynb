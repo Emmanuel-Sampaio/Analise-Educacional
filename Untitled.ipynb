{
 "cells": [
  {
   "cell_type": "markdown",
   "id": "3f8610e6-a799-46d2-8959-b7e916c1d9fc",
   "metadata": {},
   "source": []
  },
  {
   "cell_type": "code",
   "execution_count": 96,
   "id": "a4eeb9d9-7eae-4e3d-b048-55297979e63c",
   "metadata": {},
   "outputs": [],
   "source": [
    "import pandas as pd\n",
    "import numpy as np\n",
    "import matplotlib.pyplot as plt\n"
   ]
  },
  {
   "cell_type": "code",
   "execution_count": 97,
   "id": "0f3df795",
   "metadata": {},
   "outputs": [
    {
     "name": "stdout",
     "output_type": "stream",
     "text": [
      "        Escola        Mês  CH Regência  CH Sem Regência\n",
      "0   ESCOLA  AE      Abril  1192.400000           513.34\n",
      "1   ESCOLA  AE  Fevereiro   985.000000           313.32\n",
      "2   ESCOLA  AE      Março  1089.000000           390.00\n",
      "3     ESCOLA A      Abril  1641.370000           630.00\n",
      "4     ESCOLA A  Fevereiro  1408.730000           518.93\n",
      "..         ...        ...          ...              ...\n",
      "91    ESCOLA Y  Fevereiro  2087.700000          1061.16\n",
      "92    ESCOLA Y      Março  2315.300000          1191.67\n",
      "93    ESCOLA Z      Abril  2464.300113           420.00\n",
      "94    ESCOLA Z  Fevereiro  2286.000000           415.99\n",
      "95    ESCOLA Z      Março  2548.270000           352.00\n",
      "\n",
      "[96 rows x 4 columns]\n"
     ]
    }
   ],
   "source": [
    "import pandas as pd\n",
    "\n",
    "\n",
    "df = pd.read_excel('Analise.xlsx', sheet_name='BD_Tom Folha')\n",
    "\n",
    "\n",
    "df = df[df['Mês'].isin(['Fevereiro', 'Março', 'Abril'])].copy()\n",
    "\n",
    "\n",
    "df['Categoria'] = df['Categoria'].astype(str).str.strip().str.upper()\n",
    "\n",
    "df['CH Regência'] = df['Horas Mes'].where(df['Categoria'] == 'REGENCIA', 0)\n",
    "df['CH Sem Regência'] = df['Horas Mes'].where(df['Categoria'] == 'NAO REGENCIA', 0)\n",
    "\n",
    "resultado = df.groupby(['Escola', 'Mês'])[['CH Regência', 'CH Sem Regência']].sum().reset_index()\n",
    "\n",
    "# 6. Exibe o resultado\n",
    "print(resultado)\n"
   ]
  },
  {
   "cell_type": "code",
   "execution_count": 98,
   "id": "0adf0cdc",
   "metadata": {},
   "outputs": [],
   "source": [
    "# 1. Carregar a aba existente\n",
    "df_analise = pd.read_excel('Analise.xlsx', sheet_name='Análise CH por Escola')\n",
    "\n",
    "# 2. Fazer merge com o resultado (para pegar CH Regência e CH Sem Regência corretos)\n",
    "df_atualizado = df_analise.merge(\n",
    "    resultado,\n",
    "    on=['Escola', 'Mês'],\n",
    "    how='left',\n",
    "    suffixes=('', '_novo')\n",
    ")\n",
    "\n",
    "# 3. Substituir as colunas pelos valores novos, se existirem\n",
    "df_atualizado['CH Regência'] = df_atualizado['CH Regência_novo'].combine_first(df_atualizado['CH Regência'])\n",
    "df_atualizado['CH Sem Regência'] = df_atualizado['CH Sem Regência_novo'].combine_first(df_atualizado['CH Sem Regência'])\n",
    "\n",
    "# 4. Remover colunas auxiliares\n",
    "df_atualizado.drop(columns=['CH Regência_novo', 'CH Sem Regência_novo'], inplace=True)\n",
    "\n",
    "# 5. Salvar de volta na mesma aba\n",
    "with pd.ExcelWriter('Analise.xlsx', mode='a', if_sheet_exists='replace') as writer:\n",
    "    df_atualizado.to_excel(writer, sheet_name='Análise CH por Escola', index=False)\n"
   ]
  },
  {
   "cell_type": "code",
   "execution_count": 99,
   "id": "d3cfd469",
   "metadata": {},
   "outputs": [
    {
     "name": "stdout",
     "output_type": "stream",
     "text": [
      "       Mês     Escola CÓDIGO ESCOLA  Valor Unitário Carga Horária  \\\n",
      "0  janeiro   ESCOLA A          ABC1                           NaN   \n",
      "1  janeiro  ESCOLA B           ABC2                           NaN   \n",
      "2  janeiro   ESCOLA C          ABC3                           NaN   \n",
      "3  janeiro  ESCOLA D           ABC4                           NaN   \n",
      "4  janeiro   ESCOLA E          ABC5                           NaN   \n",
      "5  janeiro   ESCOLA F          ABC6                           NaN   \n",
      "6  janeiro   ESCOLA G          ABC7                           NaN   \n",
      "7  janeiro  ESCOLA H           ABC8                           NaN   \n",
      "8  janeiro  ESCOLA I           ABC9                           NaN   \n",
      "9  janeiro   ESCOLA J         ABC10                           NaN   \n",
      "\n",
      "   CH Regência  CH Sem Regência  Valor Regência  Valor Sem Regência  \\\n",
      "0          NaN              NaN             NaN                 NaN   \n",
      "1          NaN              NaN             NaN                 NaN   \n",
      "2          NaN              NaN             NaN                 NaN   \n",
      "3          NaN              NaN             NaN                 NaN   \n",
      "4          NaN              NaN             NaN                 NaN   \n",
      "5          NaN              NaN             NaN                 NaN   \n",
      "6          NaN              NaN             NaN                 NaN   \n",
      "7          NaN              NaN             NaN                 NaN   \n",
      "8          NaN              NaN             NaN                 NaN   \n",
      "9          NaN              NaN             NaN                 NaN   \n",
      "\n",
      "   Valor CH Mensal  \n",
      "0              NaN  \n",
      "1              NaN  \n",
      "2              NaN  \n",
      "3              NaN  \n",
      "4              NaN  \n",
      "5              NaN  \n",
      "6              NaN  \n",
      "7              NaN  \n",
      "8              NaN  \n",
      "9              NaN  \n"
     ]
    }
   ],
   "source": [
    "df_verificacao = pd.read_excel('Analise.xlsx', sheet_name='Análise CH por Escola')\n",
    "pd.set_option('display.max_columns', None)\n",
    "print(df_verificacao.head(10))\n"
   ]
  },
  {
   "cell_type": "code",
   "execution_count": null,
   "id": "a8faa635",
   "metadata": {},
   "outputs": [],
   "source": []
  },
  {
   "cell_type": "code",
   "execution_count": null,
   "id": "e1e6cb2e",
   "metadata": {},
   "outputs": [],
   "source": []
  },
  {
   "cell_type": "code",
   "execution_count": null,
   "id": "8f9bbb4e",
   "metadata": {},
   "outputs": [],
   "source": []
  }
 ],
 "metadata": {
  "kernelspec": {
   "display_name": "base",
   "language": "python",
   "name": "python3"
  },
  "language_info": {
   "codemirror_mode": {
    "name": "ipython",
    "version": 3
   },
   "file_extension": ".py",
   "mimetype": "text/x-python",
   "name": "python",
   "nbconvert_exporter": "python",
   "pygments_lexer": "ipython3",
   "version": "3.12.7"
  }
 },
 "nbformat": 4,
 "nbformat_minor": 5
}
